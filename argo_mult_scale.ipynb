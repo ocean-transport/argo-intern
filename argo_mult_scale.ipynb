{
 "cells": [
  {
   "cell_type": "markdown",
   "metadata": {},
   "source": [
    "# Separating Variance by Scale"
   ]
  },
  {
   "cell_type": "markdown",
   "metadata": {},
   "source": [
    "This notebook will be used to explore separating variance of density and spice by different scales. In particular, I'll start with examining Dhruv's ratio method of comparing density and spice, which is outlined in more detail below. Eventually, we should build up to the kind of analysis seen in the Steinberg paper, particularly looking at Figure 5."
   ]
  },
  {
   "cell_type": "markdown",
   "metadata": {},
   "source": [
    "$γ^f = f^2 - f_{l_{f}}^2$ &emsp; (smallest scales)\n",
    "\n",
    "$γ^0 = f_{l_{0}}^2$ &emsp; &emsp; &emsp; (largest scales)\n",
    "\n",
    "$R^ρ = γ^f /over γ^0$ &emsp; &emsp; (density ratio)\n",
    "\n",
    "$R^s = γ^f / γ^0$ &emsp; &emsp; (spice ratio)"
   ]
  },
  {
   "cell_type": "code",
   "execution_count": null,
   "metadata": {},
   "outputs": [],
   "source": []
  }
 ],
 "metadata": {
  "kernelspec": {
   "display_name": "Python [conda env:argo]",
   "language": "python",
   "name": "conda-env-argo-py"
  },
  "language_info": {
   "codemirror_mode": {
    "name": "ipython",
    "version": 3
   },
   "file_extension": ".py",
   "mimetype": "text/x-python",
   "name": "python",
   "nbconvert_exporter": "python",
   "pygments_lexer": "ipython3",
   "version": "3.10.4"
  }
 },
 "nbformat": 4,
 "nbformat_minor": 2
}
