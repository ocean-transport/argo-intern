{
 "cells": [
  {
   "cell_type": "markdown",
   "metadata": {},
   "source": [
    "## Argo File Loader"
   ]
  },
  {
   "cell_type": "code",
   "execution_count": 2,
   "metadata": {},
   "outputs": [],
   "source": [
    "import argopy\n",
    "from argopy import DataFetcher as ArgoDataFetcher\n",
    "argo_loader=ArgoDataFetcher(src='gdac',ftp=\"/swot/SUM05/dbalwada/Argo_sync\",parallel=True)\n",
    "\n",
    "import filt_funcs as ff\n",
    "import density_funcs as df\n",
    "import gsw\n",
    "import numpy as np"
   ]
  },
  {
   "cell_type": "markdown",
   "metadata": {},
   "source": [
    "## Load by box (coordinate: N_PROF)"
   ]
  },
  {
   "cell_type": "code",
   "execution_count": null,
   "metadata": {},
   "outputs": [],
   "source": [
    "#box=[lon_min,lon_max,lat_min,lat_max,depth_min,depth_max]\n",
    "box=[25, 45, -60, -50,0,2000]"
   ]
  },
  {
   "cell_type": "code",
   "execution_count": null,
   "metadata": {},
   "outputs": [],
   "source": [
    "ds_z=ff.get_box(box,4)"
   ]
  },
  {
   "cell_type": "code",
   "execution_count": null,
   "metadata": {},
   "outputs": [],
   "source": [
    "ds_z = ds_z.assign_attrs({\"Fetched_uri\":''})"
   ]
  },
  {
   "cell_type": "code",
   "execution_count": null,
   "metadata": {},
   "outputs": [],
   "source": [
    "ds_z"
   ]
  },
  {
   "cell_type": "code",
   "execution_count": null,
   "metadata": {},
   "outputs": [],
   "source": [
    "ds_z.to_netcdf(\"202206_boxes/lon:({},{})_lat:({},{})_ds_z.nc\".format(box[0],box[1],box[2],box[3]))"
   ]
  },
  {
   "cell_type": "code",
   "execution_count": null,
   "metadata": {},
   "outputs": [],
   "source": []
  },
  {
   "cell_type": "code",
   "execution_count": null,
   "metadata": {},
   "outputs": [],
   "source": [
    "print(ds_z.SIG0.values.min(), ds_z.SIG0.values.max())"
   ]
  },
  {
   "cell_type": "code",
   "execution_count": null,
   "metadata": {},
   "outputs": [],
   "source": [
    "rho_grid = np.linspace(26.6, 28, 1001)"
   ]
  },
  {
   "cell_type": "code",
   "execution_count": null,
   "metadata": {},
   "outputs": [],
   "source": [
    "ds_rho = df.interpolate2density_prof(ds_z, rho_grid)"
   ]
  },
  {
   "cell_type": "code",
   "execution_count": null,
   "metadata": {},
   "outputs": [],
   "source": [
    "ds_rho"
   ]
  },
  {
   "cell_type": "code",
   "execution_count": null,
   "metadata": {},
   "outputs": [],
   "source": [
    "ds_rho.to_netcdf(\"202206_boxes/lon:({},{})_lat:({},{})_ds_rho.nc\".format(box[0],box[1],box[2],box[3]))"
   ]
  },
  {
   "cell_type": "markdown",
   "metadata": {},
   "source": [
    "## Load by float (coordinate: distance)"
   ]
  },
  {
   "cell_type": "code",
   "execution_count": null,
   "metadata": {},
   "outputs": [],
   "source": [
    "float_ID = 1901832"
   ]
  },
  {
   "cell_type": "code",
   "execution_count": null,
   "metadata": {},
   "outputs": [],
   "source": [
    "ds_z = ff.get_float(float_ID, 4)"
   ]
  },
  {
   "cell_type": "code",
   "execution_count": null,
   "metadata": {},
   "outputs": [],
   "source": [
    "ds_z = ds_z.assign_attrs({\"Fetched_uri\":''})"
   ]
  },
  {
   "cell_type": "code",
   "execution_count": null,
   "metadata": {},
   "outputs": [],
   "source": [
    "ds_z"
   ]
  },
  {
   "cell_type": "code",
   "execution_count": null,
   "metadata": {},
   "outputs": [],
   "source": [
    "ds_z.to_netcdf(\"202206_floats/float_ID:({})_ds_z.nc\".format(float_ID))"
   ]
  },
  {
   "cell_type": "code",
   "execution_count": null,
   "metadata": {},
   "outputs": [],
   "source": []
  },
  {
   "cell_type": "code",
   "execution_count": null,
   "metadata": {},
   "outputs": [],
   "source": [
    "print(ds_z.SIG0.values.min(), ds_z.SIG0.values.max())"
   ]
  },
  {
   "cell_type": "code",
   "execution_count": null,
   "metadata": {},
   "outputs": [],
   "source": [
    "rho_grid = np.linspace(26.4, 28, 1001)"
   ]
  },
  {
   "cell_type": "code",
   "execution_count": null,
   "metadata": {},
   "outputs": [],
   "source": [
    "ds_rho = df.interpolate2density_prof(ds_z, rho_grid)"
   ]
  },
  {
   "cell_type": "code",
   "execution_count": null,
   "metadata": {},
   "outputs": [],
   "source": [
    "ds_rho"
   ]
  },
  {
   "cell_type": "code",
   "execution_count": null,
   "metadata": {},
   "outputs": [],
   "source": [
    "ds_rho.to_netcdf(\"202206_floats/float_ID:({})_ds_rho.nc\".format(float_ID))"
   ]
  },
  {
   "cell_type": "markdown",
   "metadata": {},
   "source": [
    "## Loading Boxes by Degree"
   ]
  },
  {
   "cell_type": "code",
   "execution_count": 54,
   "metadata": {},
   "outputs": [],
   "source": [
    "lons = np.arange(-90,91,4)\n",
    "lats = np.arange(-180,180,4)"
   ]
  },
  {
   "cell_type": "code",
   "execution_count": 78,
   "metadata": {},
   "outputs": [],
   "source": [
    "box_1 = np.array([lons[0:2], lats[0:2]])\n",
    "box_2 = np.array([lons[1:3], lats[1:3]])\n",
    "box_3 = np.array([lons[2:4], lats[2:4]])"
   ]
  },
  {
   "cell_type": "code",
   "execution_count": 79,
   "metadata": {},
   "outputs": [
    {
     "name": "stdout",
     "output_type": "stream",
     "text": [
      "[[ -90  -86]\n",
      " [-180 -176]]\n",
      "[[ -86  -82]\n",
      " [-176 -172]]\n",
      "[[ -82  -78]\n",
      " [-172 -168]]\n"
     ]
    }
   ],
   "source": [
    "print(box_1)\n",
    "print(box_2)\n",
    "print(box_3)"
   ]
  },
  {
   "cell_type": "markdown",
   "metadata": {},
   "source": [
    "Okay so I have a method to get the dimensions of each box and store them in an array. The next step is to write a function that gets all boxes iteratively."
   ]
  },
  {
   "cell_type": "code",
   "execution_count": 82,
   "metadata": {},
   "outputs": [
    {
     "name": "stderr",
     "output_type": "stream",
     "text": [
      "/home.ufs/amf2288/.conda/envs/argo/lib/python3.10/site-packages/numpy/core/fromnumeric.py:1859: VisibleDeprecationWarning: Creating an ndarray from ragged nested sequences (which is a list-or-tuple of lists-or-tuples-or ndarrays with different lengths or shapes) is deprecated. If you meant to do this, you must specify 'dtype=object' when creating the ndarray.\n",
      "  return asanyarray(a).ravel(order=order)\n"
     ]
    }
   ],
   "source": [
    "boxes = np.array([['lon_min','lon_max'],['lat_min','lat_max']])\n",
    "\n",
    "for n in range(0,len(lons)):\n",
    "    test = np.append(boxes,[lons[n:n+2],lats[n:n+2]])"
   ]
  },
  {
   "cell_type": "code",
   "execution_count": 88,
   "metadata": {},
   "outputs": [
    {
     "data": {
      "text/plain": [
       "array(['lon_min', 'lon_max', 'lat_min', 'lat_max', '-90', '-86', '-180',\n",
       "       '-176'], dtype='<U21')"
      ]
     },
     "execution_count": 88,
     "metadata": {},
     "output_type": "execute_result"
    }
   ],
   "source": [
    "test = np.append(boxes,[[lons[0:2],lats[0:2]]])\n",
    "test"
   ]
  },
  {
   "cell_type": "code",
   "execution_count": null,
   "metadata": {},
   "outputs": [],
   "source": []
  },
  {
   "cell_type": "code",
   "execution_count": null,
   "metadata": {},
   "outputs": [],
   "source": []
  },
  {
   "cell_type": "code",
   "execution_count": null,
   "metadata": {},
   "outputs": [],
   "source": []
  },
  {
   "cell_type": "code",
   "execution_count": null,
   "metadata": {},
   "outputs": [],
   "source": [
    "from argopy import IndexFetcher as ArgoIndexFetcher\n",
    "\n",
    "box_bad=[-148,-147,39,40]#, '2000-01-01', '2021-06'] # need to remove pressure poinds because the region function for this index fetcher seems a bit different.\n",
    "\n",
    "idx = ArgoIndexFetcher(src='gdac',dataset='phy',mode='standard',\n",
    "                            ftp=\"/swot/SUM05/dbalwada/202203-ArgoData\").region(box_bad).load()\n",
    "idx.index"
   ]
  },
  {
   "cell_type": "code",
   "execution_count": null,
   "metadata": {},
   "outputs": [],
   "source": []
  }
 ],
 "metadata": {
  "kernelspec": {
   "display_name": "Python [conda env:argo]",
   "language": "python",
   "name": "conda-env-argo-py"
  },
  "language_info": {
   "codemirror_mode": {
    "name": "ipython",
    "version": 3
   },
   "file_extension": ".py",
   "mimetype": "text/x-python",
   "name": "python",
   "nbconvert_exporter": "python",
   "pygments_lexer": "ipython3",
   "version": "3.10.4"
  }
 },
 "nbformat": 4,
 "nbformat_minor": 2
}
