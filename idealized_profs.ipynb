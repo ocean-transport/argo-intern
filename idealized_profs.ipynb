{
 "cells": [
  {
   "cell_type": "markdown",
   "metadata": {},
   "source": [
    "# Idealized Profiles"
   ]
  },
  {
   "cell_type": "code",
   "execution_count": 1,
   "metadata": {},
   "outputs": [],
   "source": [
    "import xarray as xr\n",
    "import matplotlib.pyplot as plt\n",
    "import matplotlib as mpl\n",
    "from matplotlib.path import Path\n",
    "import seaborn as sns\n",
    "import seaborn\n",
    "import pandas as pd\n",
    "import numpy as np\n",
    "from importlib import reload\n",
    "import cartopy.crs as ccrs\n",
    "import cmocean.cm as cmo\n",
    "import gsw\n",
    "\n",
    "import density_funcs as df\n",
    "import EV_funcs as ef\n",
    "import filt_funcs as ff\n",
    "import plot_funcs as pf\n",
    "import processing_funcs as prf"
   ]
  },
  {
   "cell_type": "markdown",
   "metadata": {},
   "source": [
    "The goal of this notebook is to create idealized tracer profiles that consist of two main signals:\n",
    "- Large-scale signal including a location where the gradient goes to zero\n",
    "- Uniform small-scale variability across the entire profile\n",
    "\n",
    "Then apply our EKE calculation to these profiles. Does the EKE minimum occur in the same place as the gradient minimum? Are they offset from each other? Etc."
   ]
  },
  {
   "cell_type": "code",
   "execution_count": null,
   "metadata": {},
   "outputs": [],
   "source": []
  }
 ],
 "metadata": {
  "kernelspec": {
   "display_name": "Python [conda env:argo_Aug_23]",
   "language": "python",
   "name": "conda-env-argo_Aug_23-py"
  },
  "language_info": {
   "codemirror_mode": {
    "name": "ipython",
    "version": 3
   },
   "file_extension": ".py",
   "mimetype": "text/x-python",
   "name": "python",
   "nbconvert_exporter": "python",
   "pygments_lexer": "ipython3",
   "version": "3.10.12"
  }
 },
 "nbformat": 4,
 "nbformat_minor": 2
}
