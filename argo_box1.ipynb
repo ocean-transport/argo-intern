{
 "cells": [
  {
   "cell_type": "markdown",
   "metadata": {},
   "source": [
    "# Box 1: ACC, high EKE"
   ]
  },
  {
   "cell_type": "code",
   "execution_count": 1,
   "metadata": {},
   "outputs": [],
   "source": [
    "import xarray as xr\n",
    "import numpy as np\n",
    "import gsw\n",
    "import matplotlib.pyplot as plt\n",
    "import matplotlib as mpl\n",
    "from importlib import reload\n",
    "from cmocean import cm as cmo\n",
    "import xrft\n",
    "import pandas as pd\n",
    "\n",
    "\n",
    "import density_funcs as df\n",
    "import EV_funcs as ef\n",
    "import filt_funcs as ff\n",
    "import plot_funcs as pf\n",
    "import MLD_funcs as mf"
   ]
  },
  {
   "cell_type": "code",
   "execution_count": 2,
   "metadata": {},
   "outputs": [
    {
     "data": {
      "text/plain": [
       "<module 'MLD_funcs' from '/home.ufs/amf2288/argo-intern/MLD_funcs.py'>"
      ]
     },
     "execution_count": 2,
     "metadata": {},
     "output_type": "execute_result"
    }
   ],
   "source": [
    "reload(df)\n",
    "reload(ef)\n",
    "reload(ff)\n",
    "reload(pf)\n",
    "reload(mf)"
   ]
  },
  {
   "cell_type": "markdown",
   "metadata": {},
   "source": [
    "## Select and Plot Box"
   ]
  },
  {
   "cell_type": "code",
   "execution_count": null,
   "metadata": {},
   "outputs": [],
   "source": [
    "box_z = xr.open_dataset('202206_boxes/.nc')"
   ]
  },
  {
   "cell_type": "code",
   "execution_count": null,
   "metadata": {},
   "outputs": [],
   "source": [
    "pf.plot_box([[]])"
   ]
  },
  {
   "cell_type": "code",
   "execution_count": null,
   "metadata": {},
   "outputs": [],
   "source": [
    "box_z = mf.get_MLD(box_z)\n",
    "box_z = mf.add_times(box_z)"
   ]
  },
  {
   "cell_type": "code",
   "execution_count": null,
   "metadata": {},
   "outputs": [],
   "source": [
    "months = ['Jan','Feb','Mar','Apr','May','Jun','Jul','Aug','Sep','Oct','Nov','Dec']\n",
    "plt.figure(figsize=(11,5))\n",
    "\n",
    "plt.subplot(1,2,1)\n",
    "plt.scatter(box_z.month,box_z.year)\n",
    "plt.yticks(range(2008,2023),range(2008,2023))\n",
    "plt.xticks(range(1,13),months)\n",
    "plt.grid()\n",
    "plt.title('Whole Months & Years')\n",
    "\n",
    "plt.subplot(1,2,2)\n",
    "plt.scatter(box_z.month_frac,box_z.year_frac)\n",
    "plt.yticks(range(2008,2023),range(2008,2023))\n",
    "plt.xticks(range(1,13),months)\n",
    "plt.grid()\n",
    "plt.title('Fractional Months & Years')"
   ]
  },
  {
   "cell_type": "markdown",
   "metadata": {},
   "source": [
    "## Plot Tracers and Profiles"
   ]
  },
  {
   "cell_type": "code",
   "execution_count": null,
   "metadata": {},
   "outputs": [],
   "source": [
    "n=0\n",
    "mean_prof = box_z.SPICE.isel(PRES_INTERPOLATED=n).mean(skipna=True)\n",
    "this_prof = box_z.SPICE.isel(PRES_INTERPOLATED=n) - mean_prof\n",
    "\n",
    "for n in range(1,len(box_z.PRES_INTERPOLATED)):\n",
    "    mean_prof      = box_z.SPICE.isel(PRES_INTERPOLATED=n).mean(skipna=True)\n",
    "    this_prof_next = box_z.SPICE.isel(PRES_INTERPOLATED=n) - mean_prof\n",
    "\n",
    "    this_prof = xr.concat([this_prof, this_prof_next], dim='PRES_INTERPOLATED')\n",
    "    \n",
    "SPICE_anom = this_prof"
   ]
  },
  {
   "cell_type": "code",
   "execution_count": null,
   "metadata": {},
   "outputs": [],
   "source": [
    "plt.figure(figsize=(15,10))\n",
    "\n",
    "plt.subplot(2,3,1)\n",
    "box_z.CT.plot(x='N_PROF_NEW',y='PRES_INTERPOLATED',cmap=cmo.thermal)\n",
    "plt.gca().invert_yaxis()\n",
    "plt.title('Temperature')\n",
    "\n",
    "plt.subplot(2,3,2)\n",
    "box_z.SA.plot(x='N_PROF_NEW',y='PRES_INTERPOLATED',cmap=cmo.haline)\n",
    "plt.gca().invert_yaxis()\n",
    "plt.title('Salinity')\n",
    "\n",
    "plt.subplot(2,3,4)\n",
    "box_z.SIG0.plot(x='N_PROF_NEW',y='PRES_INTERPOLATED',cmap=cmo.dense)\n",
    "plt.gca().invert_yaxis()\n",
    "plt.title('Density')\n",
    "\n",
    "plt.subplot(2,3,5)\n",
    "box_z.SPICE.plot(x='N_PROF_NEW',y='PRES_INTERPOLATED',cmap=cmo.deep)\n",
    "plt.gca().invert_yaxis()\n",
    "plt.title('Spice')\n",
    "\n",
    "plt.subplot(2,3,6)\n",
    "SPICE_anom.plot(x='N_PROF_NEW',y='PRES_INTERPOLATED',cmap=cmo.balance)\n",
    "plt.gca().invert_yaxis()\n",
    "plt.title('Spice Anom')\n",
    "\n",
    "plt.subplots_adjust(hspace=0.3,wspace=0.4)"
   ]
  },
  {
   "cell_type": "code",
   "execution_count": null,
   "metadata": {},
   "outputs": [],
   "source": [
    "l1 =  50\n",
    "l2 = 100\n",
    "l3 = 200"
   ]
  },
  {
   "cell_type": "code",
   "execution_count": null,
   "metadata": {},
   "outputs": [],
   "source": [
    "CT_l1 = ff.get_filt_single(box_z,l1,'CT')\n",
    "CT_l2 = ff.get_filt_single(box_z,l2,'CT')\n",
    "CT_l3 = ff.get_filt_single(box_z,l3,'CT')\n",
    "\n",
    "SA_l1 = ff.get_filt_single(box_z,l1,'SA')\n",
    "SA_l2 = ff.get_filt_single(box_z,l2,'SA')\n",
    "SA_l3 = ff.get_filt_single(box_z,l3,'SA')\n",
    "\n",
    "SIG0_l1 = ff.get_filt_single(box_z,l1,'SIG0')\n",
    "SIG0_l2 = ff.get_filt_single(box_z,l2,'SIG0')\n",
    "SIG0_l3 = ff.get_filt_single(box_z,l3,'SIG0')\n",
    "\n",
    "SPICE_l1 = ff.get_filt_single(box_z,l1,'SPICE')\n",
    "SPICE_l2 = ff.get_filt_single(box_z,l2,'SPICE')\n",
    "SPICE_l3 = ff.get_filt_single(box_z,l3,'SPICE')"
   ]
  },
  {
   "cell_type": "code",
   "execution_count": null,
   "metadata": {},
   "outputs": [],
   "source": [
    "n=20\n",
    "plt.figure(figsize=(6,10))\n",
    "\n",
    "plt.subplot(2,2,1)\n",
    "box_z.CT.isel(N_PROF=n).plot(y='PRES_INTERPOLATED')\n",
    "CT_l1.where(CT_l1.mask==1).isel(N_PROF=n).plot(y='PRES_INTERPOLATED')\n",
    "CT_l2.where(CT_l2.mask==1).isel(N_PROF=n).plot(y='PRES_INTERPOLATED')\n",
    "CT_l3.where(CT_l3.mask==1).isel(N_PROF=n).plot(y='PRES_INTERPOLATED')\n",
    "plt.hlines(box_z.MLD.isel(N_PROF=n),0,2,color='k',linestyle='--',label='MLD')\n",
    "plt.gca().invert_yaxis()\n",
    "plt.title('CT Profile, Filtered')\n",
    "\n",
    "plt.subplot(2,2,2)\n",
    "box_z.SA.isel(N_PROF=n).plot(y='PRES_INTERPOLATED')\n",
    "SA_l1.where(CT_l1.mask==1).isel(N_PROF=n).plot(y='PRES_INTERPOLATED')\n",
    "SA_l2.where(CT_l2.mask==1).isel(N_PROF=n).plot(y='PRES_INTERPOLATED')\n",
    "SA_l3.where(CT_l3.mask==1).isel(N_PROF=n).plot(y='PRES_INTERPOLATED')\n",
    "plt.hlines(box_z.MLD.isel(N_PROF=n),34,35,color='k',linestyle='--',label='MLD')\n",
    "plt.gca().invert_yaxis()\n",
    "plt.title('SA Profile, Filtered')\n",
    "\n",
    "plt.subplot(2,2,3)\n",
    "box_z.SIG0.isel(N_PROF=n).plot(y='PRES_INTERPOLATED',label='profile')\n",
    "SIG0_l1.where(CT_l1.mask==1).isel(N_PROF=n).plot(y='PRES_INTERPOLATED',label='l=100')\n",
    "SIG0_l2.where(CT_l2.mask==1).isel(N_PROF=n).plot(y='PRES_INTERPOLATED',label='l=200')\n",
    "SIG0_l3.where(CT_l3.mask==1).isel(N_PROF=n).plot(y='PRES_INTERPOLATED',label='l=400')\n",
    "plt.hlines(box_z.MLD.isel(N_PROF=n),27.25,28,color='k',linestyle='--',label='MLD')\n",
    "plt.gca().invert_yaxis()\n",
    "plt.legend()\n",
    "plt.title('SIG0 Profile, Filtered')\n",
    "\n",
    "plt.subplot(2,2,4)\n",
    "box_z.SPICE.isel(N_PROF=n).plot(y='PRES_INTERPOLATED')\n",
    "SPICE_l1.where(CT_l1.mask==1).isel(N_PROF=n).plot(y='PRES_INTERPOLATED')\n",
    "SPICE_l2.where(CT_l2.mask==1).isel(N_PROF=n).plot(y='PRES_INTERPOLATED')\n",
    "SPICE_l3.where(CT_l3.mask==1).isel(N_PROF=n).plot(y='PRES_INTERPOLATED')\n",
    "plt.hlines(box_z.MLD.isel(N_PROF=n),-0.75,0,color='k',linestyle='--',label='MLD')\n",
    "plt.gca().invert_yaxis()\n",
    "plt.title('SPICE Profile, Filtered')\n",
    "\n",
    "plt.subplots_adjust(wspace=0.5)"
   ]
  },
  {
   "cell_type": "markdown",
   "metadata": {},
   "source": [
    "## Plot MLD"
   ]
  },
  {
   "cell_type": "code",
   "execution_count": null,
   "metadata": {},
   "outputs": [],
   "source": [
    "SIG0_01 = box_z.SIG0.where(box_z.month<2)                       .dropna('N_PROF')\n",
    "SIG0_02 = box_z.SIG0.where(box_z.month<3) .where(box_z.month>1) .dropna('N_PROF')\n",
    "SIG0_03 = box_z.SIG0.where(box_z.month<4) .where(box_z.month>2) .dropna('N_PROF')\n",
    "SIG0_04 = box_z.SIG0.where(box_z.month<5) .where(box_z.month>3) .dropna('N_PROF')\n",
    "SIG0_05 = box_z.SIG0.where(box_z.month<6) .where(box_z.month>4) .dropna('N_PROF')\n",
    "SIG0_06 = box_z.SIG0.where(box_z.month<7) .where(box_z.month>5) .dropna('N_PROF')\n",
    "SIG0_07 = box_z.SIG0.where(box_z.month<8) .where(box_z.month>6) .dropna('N_PROF')\n",
    "SIG0_08 = box_z.SIG0.where(box_z.month<9) .where(box_z.month>7) .dropna('N_PROF')\n",
    "SIG0_09 = box_z.SIG0.where(box_z.month<10).where(box_z.month>8) .dropna('N_PROF')\n",
    "SIG0_10 = box_z.SIG0.where(box_z.month<11).where(box_z.month>9) .dropna('N_PROF')\n",
    "SIG0_11 = box_z.SIG0.where(box_z.month<12).where(box_z.month>10).dropna('N_PROF')\n",
    "SIG0_12 = box_z.SIG0.where(box_z.month<13).where(box_z.month>11).dropna('N_PROF')\n",
    "\n",
    "SIG0_s = [SIG0_01,SIG0_02,SIG0_03,SIG0_04,SIG0_05,SIG0_06,SIG0_07,SIG0_08,SIG0_09,SIG0_10,SIG0_11,SIG0_12]"
   ]
  },
  {
   "cell_type": "code",
   "execution_count": null,
   "metadata": {},
   "outputs": [],
   "source": [
    "SPICE_01 = box_z.SPICE.where(box_z.month<2)                       .dropna('N_PROF')\n",
    "SPICE_02 = box_z.SPICE.where(box_z.month<3) .where(box_z.month>1) .dropna('N_PROF')\n",
    "SPICE_03 = box_z.SPICE.where(box_z.month<4) .where(box_z.month>2) .dropna('N_PROF')\n",
    "SPICE_04 = box_z.SPICE.where(box_z.month<5) .where(box_z.month>3) .dropna('N_PROF')\n",
    "SPICE_05 = box_z.SPICE.where(box_z.month<6) .where(box_z.month>4) .dropna('N_PROF')\n",
    "SPICE_06 = box_z.SPICE.where(box_z.month<7) .where(box_z.month>5) .dropna('N_PROF')\n",
    "SPICE_07 = box_z.SPICE.where(box_z.month<8) .where(box_z.month>6) .dropna('N_PROF')\n",
    "SPICE_08 = box_z.SPICE.where(box_z.month<9) .where(box_z.month>7) .dropna('N_PROF')\n",
    "SPICE_09 = box_z.SPICE.where(box_z.month<10).where(box_z.month>8) .dropna('N_PROF')\n",
    "SPICE_10 = box_z.SPICE.where(box_z.month<11).where(box_z.month>9) .dropna('N_PROF')\n",
    "SPICE_11 = box_z.SPICE.where(box_z.month<12).where(box_z.month>10).dropna('N_PROF')\n",
    "SPICE_12 = box_z.SPICE.where(box_z.month<13).where(box_z.month>11).dropna('N_PROF')\n",
    "\n",
    "SPICE_s = [SPICE_01,SPICE_02,SPICE_03,SPICE_04,SPICE_05,SPICE_06,SPICE_07,SPICE_08,SPICE_09,SPICE_10,SPICE_11,SPICE_12]"
   ]
  },
  {
   "cell_type": "code",
   "execution_count": null,
   "metadata": {},
   "outputs": [],
   "source": [
    "plt.figure(figsize=(8,5))\n",
    "colors = plt.cm.twilight_shifted(np.linspace(0,1,12))\n",
    "\n",
    "plt.subplot(1,2,1)\n",
    "for n in range(0,len(SIG0_s)):\n",
    "    SIG0_mean = SIG0_s[n].mean('N_PROF')\n",
    "    SIG0_mean.plot(y='PRES_INTERPOLATED',label='{}'.format(months[n]),color=colors[n])\n",
    "    plt.plot(SIG0_mean.sel(PRES_INTERPOLATED=SIG0_s[n].MLD.mean('N_PROF'),method='nearest'),\n",
    "             SIG0_s[n].MLD.mean('N_PROF'),marker='o',color=colors[n])\n",
    "plt.ylim(0,250)\n",
    "plt.xlim(26.9,27.6)\n",
    "plt.yticks(range(0,250,50),range(0,250,50))\n",
    "plt.grid()\n",
    "plt.gca().invert_yaxis()\n",
    "plt.legend()\n",
    "plt.title('Density Profiles')\n",
    "\n",
    "plt.subplot(1,2,2)\n",
    "for n in range(0,len(SIG0_s)):\n",
    "    SPICE_mean = SPICE_s[n].mean('N_PROF')\n",
    "    SPICE_mean.plot(y='PRES_INTERPOLATED',label='{}'.format(months[n]),color=colors[n])\n",
    "    plt.plot(SPICE_mean.sel(PRES_INTERPOLATED=SPICE_s[n].MLD.mean('N_PROF'),method='nearest'),\n",
    "             SPICE_s[n].MLD.mean('N_PROF'),marker='o',color=colors[n])\n",
    "plt.ylabel('')\n",
    "plt.ylim(0,250)\n",
    "plt.xlim(-0.85,-.4)\n",
    "plt.yticks(range(0,250,50),range(0,250,50))\n",
    "plt.grid()\n",
    "plt.gca().invert_yaxis()\n",
    "plt.title('Spice Profiles')"
   ]
  },
  {
   "cell_type": "markdown",
   "metadata": {},
   "source": [
    "### DOES MEDIAN MLD LOOK BETTER THAN MEAN??"
   ]
  },
  {
   "cell_type": "markdown",
   "metadata": {},
   "source": [
    "### EXCERCISE: TS PLOT WITH MEAN CT/SA AT ML BY SEASON"
   ]
  },
  {
   "cell_type": "markdown",
   "metadata": {},
   "source": [
    "## Plot Spectra"
   ]
  },
  {
   "cell_type": "code",
   "execution_count": null,
   "metadata": {},
   "outputs": [],
   "source": [
    "SIG0_spec  = xrft.power_spectrum(box_z.SIG0.mean('N_PROF'), dim='PRES_INTERPOLATED',window='hamming')\n",
    "SPICE_spec = xrft.power_spectrum(box_z.SPICE.mean('N_PROF'),dim='PRES_INTERPOLATED',window='hamming')\n",
    "SIG0_m  = SIG0_spec.freq_PRES_INTERPOLATED\n",
    "SPICE_m = SPICE_spec.freq_PRES_INTERPOLATED"
   ]
  },
  {
   "cell_type": "code",
   "execution_count": null,
   "metadata": {},
   "outputs": [],
   "source": [
    "plt.figure(figsize=(10,4))\n",
    "\n",
    "plt.subplot(1,2,1)\n",
    "SIG0_spec.plot(color='k')\n",
    "plt.plot(SIG0_m, 1e-8*SIG0_m**-2,'--',color='tab:blue',label='m=-2')\n",
    "plt.plot(SIG0_m, 5e-9*SIG0_m**-3,'--',color='tab:red', label='m=-3')\n",
    "plt.legend()\n",
    "plt.xscale('log')\n",
    "plt.yscale('log')\n",
    "plt.title('Density Spectra')\n",
    "\n",
    "\n",
    "plt.subplot(1,2,2)\n",
    "SPICE_spec.plot(color='k')\n",
    "plt.plot(SPICE_m, 1e-8*SPICE_m**(-2),'--',color='tab:blue',label='m=-2')\n",
    "plt.plot(SPICE_m, 5e-10*SPICE_m**(-3),'--',color='tab:red', label='m=-3')\n",
    "plt.legend()\n",
    "plt.xscale('log')\n",
    "plt.yscale('log')\n",
    "plt.title('Spice Spectra')"
   ]
  },
  {
   "cell_type": "markdown",
   "metadata": {},
   "source": [
    "## Plot Ratios"
   ]
  },
  {
   "cell_type": "code",
   "execution_count": null,
   "metadata": {},
   "outputs": [],
   "source": [
    "mke1_d = ef.get_MV(box_z,l1,variable='SIG0')\n",
    "mke2_d = ef.get_MV(box_z,l2,variable='SIG0')\n",
    "mke3_d = ef.get_MV(box_z,l3,variable='SIG0')\n",
    "\n",
    "eke1_d = ef.get_EV(box_z,l1,variable='SIG0')\n",
    "eke2_d = ef.get_EV(box_z,l2,variable='SIG0')\n",
    "eke3_d = ef.get_EV(box_z,l3,variable='SIG0')\n",
    "\n",
    "mke1_s = ef.get_MV(box_z,l1,variable='SPICE')\n",
    "mke2_s = ef.get_MV(box_z,l2,variable='SPICE')\n",
    "mke3_s = ef.get_MV(box_z,l3,variable='SPICE')\n",
    "\n",
    "eke1_s = ef.get_EV(box_z,l1,variable='SPICE')\n",
    "eke2_s = ef.get_EV(box_z,l2,variable='SPICE')\n",
    "eke3_s = ef.get_EV(box_z,l3,variable='SPICE')"
   ]
  },
  {
   "cell_type": "markdown",
   "metadata": {},
   "source": [
    "### CHECK MASK KEYWORD IN GET_MV FUNCTION"
   ]
  },
  {
   "cell_type": "code",
   "execution_count": null,
   "metadata": {},
   "outputs": [],
   "source": [
    "MKE0_d = eke1_d.where(eke1_d.mask==1)\n",
    "MKE1_d = mke1_d.where(mke1_d.mask==1) - mke2_d.where(mke2_d.mask==1)\n",
    "MKE2_d = mke2_d.where(mke2_d.mask==1) - mke3_d.where(mke3_d.mask==1)\n",
    "MKE3_d = mke3_d.where(mke3_d.mask==1)\n",
    "\n",
    "EKE0_d = eke1_d.where(eke1_d.mask==1)\n",
    "EKE1_d = eke2_d.where(eke2_d.mask==1) - eke1_d.where(eke1_d.mask==1)\n",
    "EKE2_d = eke3_d.where(eke3_d.mask==1) - eke2_d.where(eke2_d.mask==1)\n",
    "EKE3_d = mke3_d.where(mke3_d.mask==1)\n",
    "\n",
    "MKE0_s = eke1_s.where(eke1_d.mask==1)\n",
    "MKE1_s = mke1_s.where(mke1_d.mask==1) - mke2_s.where(mke2_d.mask==1)\n",
    "MKE2_s = mke2_s.where(mke2_d.mask==1) - mke3_s.where(mke3_d.mask==1)\n",
    "MKE3_s = mke3_s.where(mke3_d.mask==1)\n",
    "\n",
    "EKE0_s = eke1_s.where(eke1_d.mask==1)\n",
    "EKE1_s = eke2_s.where(eke2_d.mask==1) - eke1_s.where(eke1_d.mask==1)\n",
    "EKE2_s = eke3_s.where(eke3_d.mask==1) - eke2_s.where(eke2_d.mask==1)\n",
    "EKE3_s = mke3_s.where(mke3_d.mask==1)"
   ]
  },
  {
   "cell_type": "code",
   "execution_count": null,
   "metadata": {},
   "outputs": [],
   "source": [
    "plt.figure(figsize=(5,10))\n",
    "\n",
    "plt.subplot(2,2,1)\n",
    "MKE0_d.mean('N_PROF').plot(y='PRES_INTERPOLATED')\n",
    "MKE1_d.mean('N_PROF').plot(y='PRES_INTERPOLATED')\n",
    "MKE2_d.mean('N_PROF').plot(y='PRES_INTERPOLATED')\n",
    "MKE3_d.mean('N_PROF').plot(y='PRES_INTERPOLATED')\n",
    "plt.xscale('log')\n",
    "plt.yticks(range(0,2001,250),range(0,2001,250))\n",
    "plt.gca().invert_yaxis()\n",
    "plt.title('MKEs, Density')\n",
    "\n",
    "plt.subplot(2,2,2)\n",
    "EKE0_d.mean('N_PROF').plot(y='PRES_INTERPOLATED')\n",
    "EKE1_d.mean('N_PROF').plot(y='PRES_INTERPOLATED')\n",
    "EKE2_d.mean('N_PROF').plot(y='PRES_INTERPOLATED')\n",
    "EKE3_d.mean('N_PROF').plot(y='PRES_INTERPOLATED')\n",
    "plt.xscale('log')\n",
    "plt.yticks(range(0,2001,250),range(0,2001,250))\n",
    "plt.gca().invert_yaxis()\n",
    "plt.title('EKEs, Density')\n",
    "\n",
    "plt.subplot(2,2,3)\n",
    "MKE0_s.mean('N_PROF').plot(y='PRES_INTERPOLATED')\n",
    "MKE1_s.mean('N_PROF').plot(y='PRES_INTERPOLATED')\n",
    "MKE2_s.mean('N_PROF').plot(y='PRES_INTERPOLATED')\n",
    "MKE3_s.mean('N_PROF').plot(y='PRES_INTERPOLATED')\n",
    "plt.xscale('log')\n",
    "plt.yticks(range(0,2001,250),range(0,2001,250))\n",
    "plt.gca().invert_yaxis()\n",
    "plt.title('MKEs, Spice')\n",
    "\n",
    "plt.subplot(2,2,4)\n",
    "EKE0_s.mean('N_PROF').plot(y='PRES_INTERPOLATED',label='bin 0, <{}m'.format(l1))\n",
    "EKE1_s.mean('N_PROF').plot(y='PRES_INTERPOLATED',label='bin 1, {}m - {}m'.format(l1,l2))\n",
    "EKE2_s.mean('N_PROF').plot(y='PRES_INTERPOLATED',label='bin 2, {}m - {}m'.format(l2,l3))\n",
    "EKE3_s.mean('N_PROF').plot(y='PRES_INTERPOLATED',label='bin 3, >{}m'.format(l3))\n",
    "plt.xscale('log')\n",
    "plt.yticks(range(0,2001,250),range(0,2001,250))\n",
    "plt.gca().invert_yaxis()\n",
    "plt.legend(bbox_to_anchor=(1,0.3))\n",
    "plt.title('EKEs, Spice')\n",
    "\n",
    "plt.subplots_adjust(wspace=0.5)"
   ]
  },
  {
   "cell_type": "markdown",
   "metadata": {},
   "source": [
    "### ADD LINES FOR SHALLOWEST AND DEEPEST MIXED LAYER"
   ]
  },
  {
   "cell_type": "code",
   "execution_count": null,
   "metadata": {},
   "outputs": [],
   "source": [
    "R_l1_d = (EV_l1_d / MV_l1_d).where(EV_l1_d.mask==1).mean('N_PROF')\n",
    "R_l2_d = (EV_l2_d / MV_l2_d).where(EV_l2_d.mask==1).mean('N_PROF')\n",
    "R_l3_d = (EV_l3_d / MV_l3_d).where(EV_l3_d.mask==1).mean('N_PROF')\n",
    "\n",
    "R_l1_s = (EV_l1_s / MV_l1_s).where(EV_l1_s.mask==1).mean('N_PROF')\n",
    "R_l2_s = (EV_l2_s / MV_l2_s).where(EV_l2_s.mask==1).mean('N_PROF')\n",
    "R_l3_s = (EV_l3_s / MV_l3_s).where(EV_l3_s.mask==1).mean('N_PROF')"
   ]
  },
  {
   "cell_type": "code",
   "execution_count": null,
   "metadata": {},
   "outputs": [],
   "source": []
  },
  {
   "cell_type": "code",
   "execution_count": null,
   "metadata": {},
   "outputs": [],
   "source": []
  },
  {
   "cell_type": "code",
   "execution_count": null,
   "metadata": {},
   "outputs": [],
   "source": []
  }
 ],
 "metadata": {
  "kernelspec": {
   "display_name": "Python [conda env:argo]",
   "language": "python",
   "name": "conda-env-argo-py"
  },
  "language_info": {
   "codemirror_mode": {
    "name": "ipython",
    "version": 3
   },
   "file_extension": ".py",
   "mimetype": "text/x-python",
   "name": "python",
   "nbconvert_exporter": "python",
   "pygments_lexer": "ipython3",
   "version": "3.10.4"
  }
 },
 "nbformat": 4,
 "nbformat_minor": 2
}
