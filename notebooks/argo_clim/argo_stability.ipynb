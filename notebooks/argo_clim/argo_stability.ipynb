{
 "cells": [
  {
   "cell_type": "markdown",
   "metadata": {},
   "source": [
    "# Stability Metrics & Formation Mechanisms"
   ]
  },
  {
   "cell_type": "markdown",
   "metadata": {},
   "source": [
    "I can't do as thorough a look at possible formation mechanisms as Jakes because Argo only provides 1D profiles (instead of 2D along or across stream tracks), but there's a little bit I can do. Figured it would at least be interesting to plot:\n",
    "- buoyancy frequency\n",
    "- Turner angle\n",
    "- scatter plots of DSC vs CT\n",
    "- scatter plots of DSC vs N2\n",
    "\n",
    "And compare N2 and Tu to regions of high mesoscale activity. Might double diffusive processes play a role?"
   ]
  },
  {
   "cell_type": "code",
   "execution_count": null,
   "metadata": {},
   "outputs": [],
   "source": [
    "import xarray as xr\n",
    "import numpy as np\n",
    "import pandas as pd\n",
    "import cmocean.cm as cmo\n",
    "import matplotlib.pyplot as plt\n",
    "import cartopy.crs as ccrs\n",
    "from flox.xarray import xarray_reduce\n",
    "import gsw"
   ]
  },
  {
   "cell_type": "code",
   "execution_count": null,
   "metadata": {},
   "outputs": [],
   "source": []
  }
 ],
 "metadata": {
  "kernelspec": {
   "display_name": "Python [conda env:Argo_Feb_25]",
   "language": "python",
   "name": "conda-env-Argo_Feb_25-py"
  },
  "language_info": {
   "codemirror_mode": {
    "name": "ipython",
    "version": 3
   },
   "file_extension": ".py",
   "mimetype": "text/x-python",
   "name": "python",
   "nbconvert_exporter": "python",
   "pygments_lexer": "ipython3",
   "version": "3.12.10"
  }
 },
 "nbformat": 4,
 "nbformat_minor": 2
}
