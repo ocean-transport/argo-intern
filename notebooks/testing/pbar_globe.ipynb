{
 "cells": [
  {
   "cell_type": "markdown",
   "metadata": {},
   "source": [
    "# Pbar for the Globe"
   ]
  },
  {
   "cell_type": "markdown",
   "metadata": {},
   "source": [
    "Goal for this notebook is to take the work I did looking at a small section and apply it to global calculations. Let's see how it goes."
   ]
  },
  {
   "cell_type": "code",
   "execution_count": 1,
   "metadata": {},
   "outputs": [],
   "source": [
    "import xarray as xr\n",
    "import matplotlib.pyplot as plt\n",
    "import matplotlib as mpl\n",
    "from matplotlib.path import Path\n",
    "import matplotlib.colors as colors\n",
    "import pandas as pd\n",
    "import numpy as np\n",
    "from importlib import reload\n",
    "import cartopy.crs as ccrs\n",
    "import cmocean.cm as cmo\n",
    "import gsw\n",
    "import scipy.ndimage as filter\n",
    "import scipy.interpolate as interpolate"
   ]
  },
  {
   "cell_type": "code",
   "execution_count": 2,
   "metadata": {},
   "outputs": [],
   "source": [
    "import os\n",
    "os.chdir('/home.ufs/amf2288/argo-intern/funcs')\n",
    "import filt_funcs as ff\n",
    "import density_funcs as df"
   ]
  },
  {
   "cell_type": "code",
   "execution_count": 3,
   "metadata": {},
   "outputs": [],
   "source": [
    "plt.rcParams['axes.titleweight'] = 'bold'\n",
    "plt.rcParams['axes.titlesize']  = 18\n",
    "plt.rcParams['axes.labelsize']  = 14\n",
    "plt.rcParams['xtick.labelsize'] = 14\n",
    "plt.rcParams['ytick.labelsize'] = 14\n",
    "plt.rcParams['legend.fontsize'] = 14"
   ]
  },
  {
   "cell_type": "markdown",
   "metadata": {},
   "source": [
    "## Load Data"
   ]
  },
  {
   "cell_type": "code",
   "execution_count": 8,
   "metadata": {},
   "outputs": [],
   "source": [
    "ds_p = xr.open_dataset('/swot/SUM05/amf2288/sync-boxes/ds_high_res_1.nc')"
   ]
  },
  {
   "cell_type": "markdown",
   "metadata": {},
   "source": [
    "## Coord interp to rho (density)"
   ]
  },
  {
   "cell_type": "code",
   "execution_count": 6,
   "metadata": {},
   "outputs": [],
   "source": [
    "def interp_to_rho(rho_profile, var_profile, rho_grid, flag='group'):\n",
    "    \n",
    "    valid = ~np.isnan(rho_profile) & ~np.isnan(var_profile)\n",
    "    rho_nonan = rho_profile[valid]\n",
    "    var_nonan = var_profile[valid]\n",
    "\n",
    "    if len(rho_nonan) < 3 or len(var_nonan) < 3:\n",
    "        return np.full_like(rho_grid, np.nan)\n",
    "\n",
    "    if flag == 'group':\n",
    "        _, idx = np.unique(rho_nonan, return_index=True)\n",
    "        rho_nonan = rho_nonan[idx]\n",
    "        var_nonan = var_nonan[idx]\n",
    "\n",
    "    fvar = interpolate.PchipInterpolator(rho_nonan, var_nonan, extrapolate=False)\n",
    "    return fvar(rho_grid)"
   ]
  },
  {
   "cell_type": "code",
   "execution_count": 7,
   "metadata": {},
   "outputs": [],
   "source": [
    "def get_ds_rho(ds_z, da_SIG0, rho_grid, variables, dim1='N_PROF', dim2='PRES'):\n",
    "\n",
    "    xrs = []\n",
    "    rho_size = rho_grid.size\n",
    "    \n",
    "    for var in variables:\n",
    "        var_interp = xr.apply_ufunc(interp_to_rho, da_SIG0, ds_z[var],\n",
    "            input_core_dims=[[dim2], [dim2]],\n",
    "            output_core_dims=[['rho_grid']],\n",
    "            dask_gufunc_kwargs={'output_sizes': {'rho_grid': rho_size}},\n",
    "            vectorize=True,\n",
    "            dask='parallelized',\n",
    "            kwargs={'rho_grid': rho_grid},\n",
    "            output_dtypes=[ds_z[var].dtype])\n",
    "        print(f'Completed comp for {var}')\n",
    "        var_interp = xr.DataArray(\n",
    "            data=var_interp.data,\n",
    "            dims=['N_PROF', 'rho_grid'],\n",
    "            coords={'rho_grid': rho_grid, 'N_PROF': ds_z.N_PROF},\n",
    "            name=var)\n",
    "        xrs.append(var_interp)\n",
    "        print(f'Completed {var}')\n",
    "    \n",
    "    ds_rho = xr.merge(xrs)\n",
    "    print(f'Completed merge')\n",
    "    ds_rho = ds_rho.assign_coords(LATITUDE  =(dim1, ds_z.LATITUDE.data))\n",
    "    ds_rho = ds_rho.assign_coords(LONGITUDE =(dim1, ds_z.LONGITUDE.data))\n",
    "    ds_rho = ds_rho.assign_coords(TIME      =(dim1, ds_z.TIME.data))\n",
    "    \n",
    "    return ds_rho"
   ]
  },
  {
   "cell_type": "code",
   "execution_count": null,
   "metadata": {},
   "outputs": [],
   "source": [
    "ds_rho = get_ds_rho(ds_p, ds_p.SIG0, np.arange(21,29,0.0025), ['CT','SA','SIG0','SPICE','PRES'], dim2='PRES_INTERPOLATED')"
   ]
  },
  {
   "cell_type": "markdown",
   "metadata": {},
   "source": [
    "## Coord interp to pmean (average isopycnal depth)"
   ]
  },
  {
   "cell_type": "code",
   "execution_count": null,
   "metadata": {},
   "outputs": [],
   "source": [
    "def interp_to_pmean(var_profile, pres_profile, pmean_grid, roll):\n",
    "    \n",
    "    pres_da = xr.DataArray(pres_profile, dims=['rho_grid'])\n",
    "    pmean_smooth = pres_da.rolling(rho_grid=roll, center=True).mean()\n",
    "\n",
    "    try:\n",
    "        valid = ~np.isnan(var_profile) & ~np.isnan(pmean_smooth)\n",
    "        var_nonan = var_profile[valid]\n",
    "        pmean_nonan = pmean_smooth[valid]\n",
    "\n",
    "        # The ValueError is raised here if pmean_nonan is not strictly increasing.\n",
    "        if len(pmean_nonan) < 3:\n",
    "            return np.full_like(pmean_grid, np.nan)\n",
    "\n",
    "        fvar = interpolate.PchipInterpolator(pmean_nonan, var_nonan, extrapolate=False)\n",
    "        return fvar(pmean_grid)\n",
    "\n",
    "    except ValueError:\n",
    "        # Catch the error for this specific profile and return NaNs\n",
    "        #print(f\"ValueError\")\n",
    "        return np.full_like(pmean_grid, np.nan)"
   ]
  },
  {
   "cell_type": "code",
   "execution_count": null,
   "metadata": {},
   "outputs": [],
   "source": [
    "def get_ds_pmean(ds_rho, pmean_grid, variables, roll=50):\n",
    "    \n",
    "    xrs = []\n",
    "    pmean_size = pmean_grid.size\n",
    "    \n",
    "    for var in variables:\n",
    "        var_interp = xr.apply_ufunc(interp_to_pmean, ds_rho[var], ds_rho['PRES'],\n",
    "                                   input_core_dims=[['rho_grid'], ['rho_grid']],\n",
    "                                   output_core_dims=[['Pmean_grid']],\n",
    "                                   dask_gufunc_kwargs={'output_sizes': {'Pmean_grid':pmean_size}},\n",
    "                                   vectorize=True,\n",
    "                                   dask='parallaleized',\n",
    "                                   kwargs={'pmean_grid':pmean_grid, 'roll':roll},\n",
    "                                   output_dtypes=[ds_rho[var].dtype])\n",
    "        print(f'Completed comp for {var}')\n",
    "        var_interp = xr.DataArray(\n",
    "            data=var_interp.data,\n",
    "            dims=['N_PROF','pmean_grid'],\n",
    "            coords={'pmean_grid': pmean_grid, 'N_PROF': ds_rho.N_PROF},\n",
    "            name=var)\n",
    "        xrs.append(var_interp)\n",
    "        print(f'Completed {var}')\n",
    "        \n",
    "    ds_pmean = xr.merge(xrs)\n",
    "    print(f'Completed merge')\n",
    "    ds_pmean = ds_pmean.assign_coords(lat  = ('N_PROF', ds_rho.lat.data))\n",
    "    ds_pmean = ds_pmean.assign_coords(lon = ('N_PROF', ds_rho.lon.data))\n",
    "    #ds_pmean = ds_pmean.assign_coords(TIME      = ('N_PROF', ds_rho.TIME.data))\n",
    "    \n",
    "    return ds_pmean"
   ]
  },
  {
   "cell_type": "code",
   "execution_count": null,
   "metadata": {},
   "outputs": [],
   "source": [
    "ds_pmean = get_ds_pmean(ds_rho, np.linspace(0,2000,1001), ['CT','SA','SPICE','SIG0','PRES'], roll=150)"
   ]
  },
  {
   "cell_type": "code",
   "execution_count": null,
   "metadata": {},
   "outputs": [],
   "source": []
  },
  {
   "cell_type": "code",
   "execution_count": null,
   "metadata": {},
   "outputs": [],
   "source": []
  }
 ],
 "metadata": {
  "kernelspec": {
   "display_name": "Python [conda env:Argo_Feb_25]",
   "language": "python",
   "name": "conda-env-Argo_Feb_25-py"
  },
  "language_info": {
   "codemirror_mode": {
    "name": "ipython",
    "version": 3
   },
   "file_extension": ".py",
   "mimetype": "text/x-python",
   "name": "python",
   "nbconvert_exporter": "python",
   "pygments_lexer": "ipython3",
   "version": "3.12.11"
  }
 },
 "nbformat": 4,
 "nbformat_minor": 2
}
