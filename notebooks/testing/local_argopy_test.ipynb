{
 "cells": [
  {
   "cell_type": "code",
   "execution_count": 1,
   "metadata": {},
   "outputs": [],
   "source": [
    "import xarray as xr\n",
    "import numpy as np\n",
    "import gsw\n",
    "import matplotlib.pyplot as plt\n",
    "import matplotlib as mpl\n",
    "from importlib import reload\n",
    "from cmocean import cm as cmo\n",
    "import xrft\n",
    "import pandas as pd\n",
    "import argopy\n",
    "from argopy import DataFetcher\n",
    "import dask"
   ]
  },
  {
   "cell_type": "code",
   "execution_count": 2,
   "metadata": {},
   "outputs": [],
   "source": [
    "import os\n",
    "os.chdir('/home.ufs/amf2288/argo-intern/funcs')\n",
    "import density_funcs as df\n",
    "import EV_funcs as ef\n",
    "import filt_funcs as ff\n",
    "import plot_funcs as pf\n",
    "import processing_funcs as prf"
   ]
  },
  {
   "cell_type": "code",
   "execution_count": 3,
   "metadata": {},
   "outputs": [
    {
     "data": {
      "text/plain": [
       "<module 'processing_funcs' from '/home/amf2288/argo-intern/funcs/processing_funcs.py'>"
      ]
     },
     "execution_count": 3,
     "metadata": {},
     "output_type": "execute_result"
    }
   ],
   "source": [
    "reload(df)\n",
    "reload(ef)\n",
    "reload(ff)\n",
    "reload(prf)"
   ]
  },
  {
   "cell_type": "code",
   "execution_count": 4,
   "metadata": {},
   "outputs": [
    {
     "name": "stdout",
     "output_type": "stream",
     "text": [
      "loading points complete\n"
     ]
    },
    {
     "name": "stderr",
     "output_type": "stream",
     "text": [
      "100%|██████████| 102/102 [06:22<00:00,  3.75s/it]\n"
     ]
    },
    {
     "name": "stdout",
     "output_type": "stream",
     "text": [
      "to xarray complete\n",
      "point to profile complete\n",
      "interpolation complete\n",
      "adding spice complete\n",
      "adding MLD complete\n"
     ]
    }
   ],
   "source": [
    "ds = prf.get_box([-25,-23,0,3,0,2000],2)"
   ]
  },
  {
   "cell_type": "code",
   "execution_count": null,
   "metadata": {},
   "outputs": [],
   "source": []
  }
 ],
 "metadata": {
  "kernelspec": {
   "display_name": "Python [conda env:Argo_Jan_25]",
   "language": "python",
   "name": "conda-env-Argo_Jan_25-py"
  },
  "language_info": {
   "codemirror_mode": {
    "name": "ipython",
    "version": 3
   },
   "file_extension": ".py",
   "mimetype": "text/x-python",
   "name": "python",
   "nbconvert_exporter": "python",
   "pygments_lexer": "ipython3",
   "version": "3.12.8"
  }
 },
 "nbformat": 4,
 "nbformat_minor": 2
}
