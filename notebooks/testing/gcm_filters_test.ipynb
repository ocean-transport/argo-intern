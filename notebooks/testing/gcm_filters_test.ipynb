{
 "cells": [
  {
   "cell_type": "markdown",
   "metadata": {},
   "source": [
    "# gcm_filters Test"
   ]
  },
  {
   "cell_type": "markdown",
   "metadata": {},
   "source": [
    "This notebook is for learning how to use the `gcm_filters` package to smooth gridded data. Dhruv said this package is adventageous because it handles boundaries well and also returns a dataset on the same grid it was provided on.\n",
    "\n",
    "The goal here is to do 2 things to the diffusivity datasets from Argo: \n",
    "1. fill in the gaps of the diffusivity dataset and expand the spatial extent farther north and south\n",
    "2. smooth the diffusivity dataset (there's more information here than we need)"
   ]
  },
  {
   "cell_type": "markdown",
   "metadata": {},
   "source": [
    "To fill in gaps, you should use the median value on that density surfce. Also make sure that every point everywhere has a value in the diffusivity dataset, that way the Argo gradient data is what determines where there will be values. \n",
    "\n",
    "After this, use gcm_filters to smooth (regular filters with nans? is this the name of a function or an example notebook or what?)."
   ]
  },
  {
   "cell_type": "code",
   "execution_count": 3,
   "metadata": {},
   "outputs": [],
   "source": [
    "import xarray as xr\n",
    "import matplotlib.pyplot as plt\n",
    "import matplotlib as mpl\n",
    "from matplotlib.path import Path\n",
    "import matplotlib.colors as colors\n",
    "import seaborn as sns\n",
    "import seaborn\n",
    "import pandas as pd\n",
    "import numpy as np\n",
    "from importlib import reload\n",
    "import cartopy.crs as ccrs\n",
    "import cmocean.cm as cmo\n",
    "import gsw\n",
    "import scipy.ndimage as filter\n",
    "import scipy.interpolate as interpolate\n",
    "from flox.xarray import xarray_reduce\n",
    "from xgcm.autogenerate import generate_grid_ds\n",
    "from xgcm import Grid"
   ]
  },
  {
   "cell_type": "code",
   "execution_count": 41,
   "metadata": {},
   "outputs": [],
   "source": [
    "ds_diff = xr.open_dataset('/swot/SUM05/amf2288/global_diff.nc')"
   ]
  },
  {
   "cell_type": "code",
   "execution_count": 42,
   "metadata": {},
   "outputs": [],
   "source": [
    "ds_binned = xr.open_dataset('/swot/SUM05/amf2288/sync-boxes/globe_binned_3_z.nc')"
   ]
  },
  {
   "cell_type": "code",
   "execution_count": 51,
   "metadata": {},
   "outputs": [],
   "source": [
    "ds_diff = ds_diff.interp(z_c=ds_binned.z_c)"
   ]
  },
  {
   "cell_type": "code",
   "execution_count": 54,
   "metadata": {},
   "outputs": [],
   "source": [
    "ds_diff = generate_grid_ds(ds_diff, {'X':'lon_c', 'Y':'lat_c'})\n",
    "grid = Grid(ds_diff, coords={\n",
    "        'X': {'center': 'lon_c', 'left': 'lon_c_left'},\n",
    "        'Y': {'center': 'lat_c', 'left': 'lat_c_left'},\n",
    "        'Z': {'center': 'z_c'}\n",
    "        }, periodic=['X'])"
   ]
  },
  {
   "cell_type": "code",
   "execution_count": 55,
   "metadata": {},
   "outputs": [],
   "source": [
    "ds_diff = ds_diff.rename({'lon_c':'lon', 'lon_c_left':'lon_left',\n",
    "                                'lat_c':'lat', 'lat_c_left':'lat_left',\n",
    "                                'z_c':'z'})\n",
    "ds_diff = ds_diff.drop_vars(['z_l', 'z_r', 'lon_l', 'lon_r', 'lat_l', 'lat_r'])"
   ]
  },
  {
   "cell_type": "markdown",
   "metadata": {},
   "source": [
    "Now I need to:\n",
    "- expand lats to whole globe\n",
    "- fill in nans with median value on depth level\n",
    "- smooth"
   ]
  },
  {
   "cell_type": "code",
   "execution_count": null,
   "metadata": {},
   "outputs": [],
   "source": []
  }
 ],
 "metadata": {
  "kernelspec": {
   "display_name": "Python [conda env:Argo_Feb_25]",
   "language": "python",
   "name": "conda-env-Argo_Feb_25-py"
  },
  "language_info": {
   "codemirror_mode": {
    "name": "ipython",
    "version": 3
   },
   "file_extension": ".py",
   "mimetype": "text/x-python",
   "name": "python",
   "nbconvert_exporter": "python",
   "pygments_lexer": "ipython3",
   "version": "3.12.11"
  }
 },
 "nbformat": 4,
 "nbformat_minor": 2
}
