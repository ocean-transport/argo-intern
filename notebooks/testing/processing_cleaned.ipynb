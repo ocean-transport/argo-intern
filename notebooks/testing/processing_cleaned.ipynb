{
 "cells": [
  {
   "cell_type": "code",
   "execution_count": 1,
   "id": "b31a7dcb-cd3d-4acc-9260-2ede2324e718",
   "metadata": {},
   "outputs": [],
   "source": [
    "import xarray as xr\n",
    "import matplotlib.pyplot as plt\n",
    "import numpy as np\n",
    "import argopy\n",
    "import scipy.ndimage as filter\n",
    "import scipy\n",
    "import matplotlib\n",
    "import gsw\n",
    "from importlib import reload"
   ]
  },
  {
   "cell_type": "code",
   "execution_count": 2,
   "id": "be63ac08-0106-4eac-be35-524c7992483d",
   "metadata": {},
   "outputs": [],
   "source": [
    "import os\n",
    "os.chdir('/home/jovyan/argo-intern/funcs')\n",
    "import processing_cleaned"
   ]
  },
  {
   "cell_type": "code",
   "execution_count": 3,
   "id": "1d75e5b3-d7a6-4b8b-97c4-b537a41d973e",
   "metadata": {},
   "outputs": [],
   "source": [
    "#import data\n"
   ]
  },
  {
   "cell_type": "code",
   "execution_count": 4,
   "id": "e4945772-415d-4e9f-8877-e5e426e591a8",
   "metadata": {},
   "outputs": [],
   "source": [
    "#try using process_data"
   ]
  },
  {
   "cell_type": "code",
   "execution_count": null,
   "id": "ca013967-399d-447b-b57c-3a93b400b147",
   "metadata": {},
   "outputs": [],
   "source": []
  }
 ],
 "metadata": {
  "kernelspec": {
   "display_name": "Python 3 (ipykernel)",
   "language": "python",
   "name": "python3"
  },
  "language_info": {
   "codemirror_mode": {
    "name": "ipython",
    "version": 3
   },
   "file_extension": ".py",
   "mimetype": "text/x-python",
   "name": "python",
   "nbconvert_exporter": "python",
   "pygments_lexer": "ipython3",
   "version": "3.12.4"
  }
 },
 "nbformat": 4,
 "nbformat_minor": 5
}
