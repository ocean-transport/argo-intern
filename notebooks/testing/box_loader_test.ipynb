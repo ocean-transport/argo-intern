{
 "cells": [
  {
   "cell_type": "markdown",
   "metadata": {},
   "source": [
    "# Box Loader Testing"
   ]
  },
  {
   "cell_type": "markdown",
   "metadata": {},
   "source": [
    "I need to test a few things about the steps in the `argo_box_loader` notebook. There are a few things that might make a difference by decreasing the size of an array, but I want to try here on a box that takes a lot less time to load."
   ]
  },
  {
   "cell_type": "code",
   "execution_count": 1,
   "metadata": {},
   "outputs": [],
   "source": [
    "import xarray as xr\n",
    "import matplotlib.pyplot as plt\n",
    "import numpy as np\n",
    "import argopy\n",
    "import scipy.ndimage as filter\n",
    "import scipy\n",
    "import matplotlib\n",
    "import gsw\n",
    "\n",
    "import argopy\n",
    "from argopy import DataFetcher as ArgoDataFetcher\n",
    "\n",
    "argo_loader = ArgoDataFetcher(\n",
    "    src=\"gdac\", ftp=\"/swot/SUM05/dbalwada/Argo_sync\", progress=True\n",
    ")"
   ]
  },
  {
   "cell_type": "code",
   "execution_count": 2,
   "metadata": {},
   "outputs": [],
   "source": [
    "import os\n",
    "import sys\n",
    "os.chdir('/home.ufs/amf2288/argo-intern/funcs')\n",
    "sys.path.append(os.path.abspath('../funcs'))\n",
    "\n",
    "import processing_funcs as prf"
   ]
  },
  {
   "cell_type": "code",
   "execution_count": 3,
   "metadata": {},
   "outputs": [],
   "source": [
    "import dask\n",
    "from dask import delayed\n",
    "from dask.distributed import Client\n",
    "\n",
    "client = Client()"
   ]
  },
  {
   "cell_type": "code",
   "execution_count": 4,
   "metadata": {},
   "outputs": [],
   "source": [
    "#box1 = [-180,-179,0,1,0,2001]\n",
    "box2 = [-180,-179,1,2,0,2001]\n",
    "box3 = [-180,-179,2,3,0,2001]\n",
    "box4 = [-180,-179,3,4,0,2001]\n",
    "box5 = [-180,-179,4,5,0,2001]"
   ]
  },
  {
   "cell_type": "code",
   "execution_count": 31,
   "metadata": {},
   "outputs": [],
   "source": [
    "# Example arguments for your function\n",
    "boxes_list = [\n",
    "    #(box1,2),\n",
    "    (box2),\n",
    "    (box3),\n",
    "    (box4),\n",
    "    (box5)\n",
    "]"
   ]
  },
  {
   "cell_type": "code",
   "execution_count": 32,
   "metadata": {},
   "outputs": [],
   "source": [
    "@dask.delayed\n",
    "def get_box_delayed(*args, **kwargs):\n",
    "    return prf.get_box(*args, **kwargs)\n",
    "\n",
    "def get_box_dask(boxes_list, interp_step):\n",
    "    \n",
    "    boxes_list = [(box, interp_step) for box in boxes_list]\n",
    "    \n",
    "    # Create a list of delayed tasks\n",
    "    tasks = [get_box_delayed(*args) for args in boxes_list]\n",
    "\n",
    "    # Compute the results in parallel\n",
    "    results = dask.compute(*tasks)\n",
    "\n",
    "    # Process the results as needed\n",
    "    for n,result in enumerate(results):\n",
    "        result.to_netcdf(\"/swot/SUM05/amf2288/sync-boxes/test_boxes/lon:({},{})_lat:({},{})_ds_z.nc\".format(boxes_list[n][0][0],boxes_list[n][0][1],boxes_list[n][0][2],boxes_list[n][0][3]))"
   ]
  },
  {
   "cell_type": "code",
   "execution_count": 33,
   "metadata": {},
   "outputs": [
    {
     "name": "stdout",
     "output_type": "stream",
     "text": [
      "to xarray complete\n",
      "point to profile complete\n",
      "interpolation complete\n",
      "adding spice complete\n",
      "adding MLD complete\n",
      "loading points complete\n"
     ]
    },
    {
     "name": "stderr",
     "output_type": "stream",
     "text": [
      "  0%|          | 0/50 [00:00<?, ?it/s]"
     ]
    },
    {
     "name": "stdout",
     "output_type": "stream",
     "text": [
      "to xarray complete\n",
      "point to profile complete\n",
      "interpolation complete\n",
      "adding spice complete\n",
      "adding MLD complete\n",
      "loading points complete\n",
      "to xarray complete\n",
      "point to profile complete\n",
      "interpolation complete\n",
      "adding spice complete\n",
      "adding MLD complete\n",
      "loading points complete\n"
     ]
    },
    {
     "name": "stderr",
     "output_type": "stream",
     "text": [
      "  4%|▍         | 1/24 [00:01<00:39,  1.72s/it]"
     ]
    },
    {
     "name": "stdout",
     "output_type": "stream",
     "text": [
      "loading points complete\n"
     ]
    },
    {
     "name": "stderr",
     "output_type": "stream",
     "text": [
      "100%|██████████| 28/28 [02:42<00:00,  5.82s/it]\n",
      "100%|██████████| 24/24 [03:03<00:00,  7.66s/it]\n",
      "100%|██████████| 39/39 [04:26<00:00,  6.83s/it]\n",
      "100%|██████████| 50/50 [06:03<00:00,  7.26s/it]\n"
     ]
    }
   ],
   "source": [
    "get_box_dask(boxes_list, 2)"
   ]
  },
  {
   "cell_type": "code",
   "execution_count": 21,
   "metadata": {},
   "outputs": [],
   "source": [
    "from typing import List, Tuple\n",
    "\n",
    "#def generate_grid(min_lat: float, max_lat: float, min_lon: float, max_lon: float, step: float) -> List[Tuple[float, float, float, float]]:\n",
    "def generate_grid(box, step):\n",
    "    grid = []\n",
    "    lon_min, lon_max, lat_min, lat_max = box[0],box[1],box[2],box[3]\n",
    "    lat = lat_min\n",
    "    while lat < lat_max:\n",
    "        lon = lon_min\n",
    "        while lon < lon_max:\n",
    "            # Ensure the box does not exceed the specified bounds\n",
    "            box_lat_max = min(lat + step, lat_max)\n",
    "            box_lon_max = min(lon + step, lon_max)\n",
    "            box = (lat, box_lat_max, lon, box_lon_max)\n",
    "            grid.append(box)\n",
    "            lon += step\n",
    "        lat += step\n",
    "    return grid"
   ]
  },
  {
   "cell_type": "code",
   "execution_count": 23,
   "metadata": {},
   "outputs": [
    {
     "data": {
      "text/plain": [
       "[(0, 20, 0, 20),\n",
       " (0, 20, 20, 40),\n",
       " (0, 20, 40, 60),\n",
       " (0, 20, 60, 80),\n",
       " (0, 20, 80, 90),\n",
       " (20, 40, 0, 20),\n",
       " (20, 40, 20, 40),\n",
       " (20, 40, 40, 60),\n",
       " (20, 40, 60, 80),\n",
       " (20, 40, 80, 90),\n",
       " (40, 60, 0, 20),\n",
       " (40, 60, 20, 40),\n",
       " (40, 60, 40, 60),\n",
       " (40, 60, 60, 80),\n",
       " (40, 60, 80, 90),\n",
       " (60, 80, 0, 20),\n",
       " (60, 80, 20, 40),\n",
       " (60, 80, 40, 60),\n",
       " (60, 80, 60, 80),\n",
       " (60, 80, 80, 90),\n",
       " (80, 90, 0, 20),\n",
       " (80, 90, 20, 40),\n",
       " (80, 90, 40, 60),\n",
       " (80, 90, 60, 80),\n",
       " (80, 90, 80, 90)]"
      ]
     },
     "execution_count": 23,
     "metadata": {},
     "output_type": "execute_result"
    }
   ],
   "source": [
    "generate_grid([0,90,0,90,20], 20)"
   ]
  },
  {
   "cell_type": "code",
   "execution_count": 24,
   "metadata": {},
   "outputs": [
    {
     "data": {
      "text/plain": [
       "[(0, 5, 0, 5),\n",
       " (0, 5, 5, 10),\n",
       " (0, 5, 10, 15),\n",
       " (0, 5, 15, 20),\n",
       " (5, 10, 0, 5),\n",
       " (5, 10, 5, 10),\n",
       " (5, 10, 10, 15),\n",
       " (5, 10, 15, 20),\n",
       " (10, 15, 0, 5),\n",
       " (10, 15, 5, 10),\n",
       " (10, 15, 10, 15),\n",
       " (10, 15, 15, 20),\n",
       " (15, 20, 0, 5),\n",
       " (15, 20, 5, 10),\n",
       " (15, 20, 10, 15),\n",
       " (15, 20, 15, 20)]"
      ]
     },
     "execution_count": 24,
     "metadata": {},
     "output_type": "execute_result"
    }
   ],
   "source": [
    "generate_grid([0,20,0,20], 5)"
   ]
  },
  {
   "cell_type": "code",
   "execution_count": 34,
   "metadata": {},
   "outputs": [],
   "source": [
    "def get_target_box(area, region_step, target_step, interp_step):\n",
    "    \n",
    "    regions = generate_grid(area, region_step)\n",
    "    \n",
    "    for n,region in enumerate(regions):\n",
    "        boxes = generate_grid(region, target_step)\n",
    "        \n",
    "        get_box_dask(boxes)\n",
    "        \n",
    "        text = \"COMPLETED REGION {} OUT OF {}\".format(n,len(regions))\n",
    "        print('-' * len(text))\n",
    "        print(text)\n",
    "        print('-' * len(text))"
   ]
  },
  {
   "cell_type": "code",
   "execution_count": null,
   "metadata": {},
   "outputs": [],
   "source": []
  },
  {
   "cell_type": "code",
   "execution_count": null,
   "metadata": {},
   "outputs": [],
   "source": []
  },
  {
   "cell_type": "code",
   "execution_count": null,
   "metadata": {},
   "outputs": [],
   "source": []
  },
  {
   "cell_type": "code",
   "execution_count": null,
   "metadata": {},
   "outputs": [],
   "source": []
  },
  {
   "cell_type": "code",
   "execution_count": null,
   "metadata": {},
   "outputs": [],
   "source": []
  },
  {
   "cell_type": "code",
   "execution_count": 9,
   "metadata": {},
   "outputs": [
    {
     "ename": "NameError",
     "evalue": "name 'cleint' is not defined",
     "output_type": "error",
     "traceback": [
      "\u001b[0;31m---------------------------------------------------------------------------\u001b[0m",
      "\u001b[0;31mNameError\u001b[0m                                 Traceback (most recent call last)",
      "Cell \u001b[0;32mIn[9], line 1\u001b[0m\n\u001b[0;32m----> 1\u001b[0m \u001b[43mcleint\u001b[49m\u001b[38;5;241m.\u001b[39mclose()\n",
      "\u001b[0;31mNameError\u001b[0m: name 'cleint' is not defined"
     ]
    }
   ],
   "source": [
    "cleint.close()"
   ]
  },
  {
   "cell_type": "code",
   "execution_count": null,
   "metadata": {},
   "outputs": [],
   "source": []
  }
 ],
 "metadata": {
  "kernelspec": {
   "display_name": "Python [conda env:Argo_Nov_24]",
   "language": "python",
   "name": "conda-env-Argo_Nov_24-py"
  },
  "language_info": {
   "codemirror_mode": {
    "name": "ipython",
    "version": 3
   },
   "file_extension": ".py",
   "mimetype": "text/x-python",
   "name": "python",
   "nbconvert_exporter": "python",
   "pygments_lexer": "ipython3",
   "version": "3.12.8"
  }
 },
 "nbformat": 4,
 "nbformat_minor": 2
}
