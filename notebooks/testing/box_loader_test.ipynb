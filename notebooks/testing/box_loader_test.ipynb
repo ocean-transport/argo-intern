{
 "cells": [
  {
   "cell_type": "markdown",
   "metadata": {},
   "source": [
    "# Box Loader Testing"
   ]
  },
  {
   "cell_type": "markdown",
   "metadata": {},
   "source": [
    "I need to test a few things about the steps in the `argo_box_loader` notebook. There are a few things that might make a difference by decreasing the size of an array, but I want to try here on a box that takes a lot less time to load."
   ]
  },
  {
   "cell_type": "code",
   "execution_count": 1,
   "metadata": {},
   "outputs": [],
   "source": [
    "import xarray as xr\n",
    "import matplotlib.pyplot as plt\n",
    "import numpy as np\n",
    "import argopy\n",
    "import scipy.ndimage as filter\n",
    "import scipy\n",
    "import matplotlib\n",
    "import gsw\n",
    "\n",
    "import argopy\n",
    "from argopy import DataFetcher as ArgoDataFetcher\n",
    "\n",
    "argo_loader = ArgoDataFetcher(\n",
    "    src=\"gdac\", ftp=\"/swot/SUM05/dbalwada/Argo_sync\", progress=True\n",
    ")"
   ]
  },
  {
   "cell_type": "code",
   "execution_count": 2,
   "metadata": {},
   "outputs": [],
   "source": [
    "import os\n",
    "import sys\n",
    "os.chdir('/home.ufs/amf2288/argo-intern/funcs')\n",
    "sys.path.append(os.path.abspath('../funcs'))\n",
    "\n",
    "import processing_funcs as prf"
   ]
  },
  {
   "cell_type": "code",
   "execution_count": 3,
   "metadata": {},
   "outputs": [],
   "source": [
    "import dask\n",
    "from dask import delayed\n",
    "from dask.distributed import Client\n",
    "\n",
    "client = Client()"
   ]
  },
  {
   "cell_type": "code",
   "execution_count": 4,
   "metadata": {},
   "outputs": [],
   "source": [
    "#box1 = [-180,-179,0,1,0,2001]\n",
    "box2 = [-180,-179,1,2,0,2001]\n",
    "box3 = [-180,-179,2,3,0,2001]\n",
    "box4 = [-180,-179,3,4,0,2001]\n",
    "box5 = [-180,-179,4,5,0,2001]"
   ]
  },
  {
   "cell_type": "code",
   "execution_count": 5,
   "metadata": {},
   "outputs": [],
   "source": [
    "# Example arguments for your function\n",
    "boxes_list = [\n",
    "    #(box1,2),\n",
    "    (box2,2),\n",
    "    (box3,2),\n",
    "    (box4,2),\n",
    "    (box5,2)\n",
    "]"
   ]
  },
  {
   "cell_type": "code",
   "execution_count": 6,
   "metadata": {},
   "outputs": [],
   "source": [
    "@dask.delayed\n",
    "def get_box_delayed(*args, **kwargs):\n",
    "    return prf.get_box(*args, **kwargs)\n",
    "\n",
    "def get_box_dask(boxes_list):\n",
    "    # Create a list of delayed tasks\n",
    "    tasks = [get_box_delayed(*args) for args in boxes_list]\n",
    "\n",
    "    # Compute the results in parallel\n",
    "    results = dask.compute(*tasks)\n",
    "\n",
    "    # Process the results as needed\n",
    "    for n,result in enumerate(results):\n",
    "        result.to_netcdf(\"/swot/SUM05/amf2288/sync-boxes/test_boxes/lon:({},{})_lat:({},{})_ds_z.nc\".format(boxes_list[n][0][0],boxes_list[n][0][1],boxes_list[n][0][2],boxes_list[n][0][3]))"
   ]
  },
  {
   "cell_type": "code",
   "execution_count": 7,
   "metadata": {},
   "outputs": [
    {
     "name": "stdout",
     "output_type": "stream",
     "text": [
      "loading points complete\n"
     ]
    },
    {
     "name": "stderr",
     "output_type": "stream",
     "text": [
      "  0%|          | 0/39 [00:00<?, ?it/s]"
     ]
    },
    {
     "name": "stdout",
     "output_type": "stream",
     "text": [
      "loading points complete\n"
     ]
    },
    {
     "name": "stderr",
     "output_type": "stream",
     "text": [
      "  0%|          | 0/24 [00:00<?, ?it/s]"
     ]
    },
    {
     "name": "stdout",
     "output_type": "stream",
     "text": [
      "loading points complete\n"
     ]
    },
    {
     "name": "stderr",
     "output_type": "stream",
     "text": [
      "  0%|          | 0/28 [00:00<?, ?it/s]"
     ]
    },
    {
     "name": "stdout",
     "output_type": "stream",
     "text": [
      "loading points complete\n"
     ]
    },
    {
     "name": "stderr",
     "output_type": "stream",
     "text": [
      "100%|██████████| 28/28 [02:44<00:00,  5.87s/it]\n",
      "100%|██████████| 24/24 [03:15<00:00,  8.13s/it]\n",
      "100%|██████████| 39/39 [04:37<00:00,  7.13s/it]\n",
      "100%|██████████| 50/50 [05:53<00:00,  7.07s/it]\n"
     ]
    }
   ],
   "source": [
    "get_box_dask(boxes_list)"
   ]
  },
  {
   "cell_type": "code",
   "execution_count": null,
   "metadata": {},
   "outputs": [],
   "source": []
  },
  {
   "cell_type": "code",
   "execution_count": null,
   "metadata": {},
   "outputs": [],
   "source": [
    "from typing import List, Tuple\n",
    "\n",
    "def generate_grid(min_lat: float, max_lat: float, min_lon: float, max_lon: float, step: float) -> List[Tuple[float, float, float, float]]:\n",
    "    \"\"\"Generates a grid of bounding boxes.\"\"\"\n",
    "    grid = []\n",
    "    lat = min_lat\n",
    "    while lat < max_lat:\n",
    "        lon = min_lon\n",
    "        while lon < max_lon:\n",
    "            box = (lat, lat + step, lon, lon + step)\n",
    "            grid.append(box)\n",
    "            lon += step\n",
    "        lat += step\n",
    "    return grid\n",
    "\n",
    "def split_into_regions(min_lat: float, max_lat: float, min_lon: float, max_lon: float) -> List[Tuple[float, float, float, float]]:\n",
    "    \"\"\"Splits the target area into 20-degree by 20-degree regions.\"\"\"\n",
    "    return generate_grid(min_lat, max_lat, min_lon, max_lon, 20)\n",
    "\n",
    "def split_into_boxes(region: Tuple[float, float, float, float]) -> List[Tuple[float, float, float, float]]:\n",
    "    \"\"\"Splits a 20-degree by 20-degree region into 5-degree by 5-degree boxes.\"\"\"\n",
    "    return generate_grid(region[0], region[1], region[2], region[3], 5)\n",
    "\n",
    "def process_boxes(min_lat: float, max_lat: float, min_lon: float, max_lon: float, task_function):\n",
    "    \"\"\"Processes each 5-degree by 5-degree box with the specified task function.\"\"\"\n",
    "    regions = split_into_regions(min_lat, max_lat, min_lon, max_lon)\n",
    "    for region in regions:\n",
    "        boxes = split_into_boxes(region)\n",
    "        for box in boxes:\n",
    "            task_function(box)\n",
    "\n",
    "# Example usage:\n",
    "def example_task_function(box: Tuple[float, float, float, float]):\n",
    "    \"\"\"An example task function to demonstrate usage.\"\"\"\n",
    "    print(f\"Processing box: {box}\")\n",
    "\n",
    "# Define the target area.\n",
    "min_latitude = 20.0\n",
    "max_latitude = 40.0\n",
    "min_longitude = -100.0\n",
    "max_longitude = -80.0\n",
    "\n",
    "# Process the boxes with the example task function.\n",
    "process_boxes(min_latitude, max_latitude, min_longitude, max_longitude, example_task_function)\n"
   ]
  },
  {
   "cell_type": "code",
   "execution_count": null,
   "metadata": {},
   "outputs": [],
   "source": [
    "def generate_grid(min_lat: float, max_lat: float, min_lon: float, max_lon: float, step: float) -> List[Tuple[float, float, float, float]]:\n",
    "    \"\"\"Generates a grid of bounding boxes.\"\"\"\n",
    "    grid = []\n",
    "    lat = min_lat\n",
    "    while lat < max_lat:\n",
    "        lon = min_lon\n",
    "        while lon < max_lon:\n",
    "            box = (lat, lat + step, lon, lon + step)\n",
    "            grid.append(box)\n",
    "            lon += step\n",
    "        lat += step\n",
    "    return grid"
   ]
  },
  {
   "cell_type": "code",
   "execution_count": null,
   "metadata": {},
   "outputs": [],
   "source": [
    "generate_grid(0,90,0,90,5)"
   ]
  },
  {
   "cell_type": "code",
   "execution_count": null,
   "metadata": {},
   "outputs": [],
   "source": [
    "def get_region_box():\n",
    "    \n",
    "    #split region into multiple boxes\n",
    "    \n",
    "    for box in boxes:\n",
    "        get_box(region)"
   ]
  },
  {
   "cell_type": "code",
   "execution_count": null,
   "metadata": {},
   "outputs": [],
   "source": [
    "def get_target_box():\n",
    "    \n",
    "    #split target into multiple regions\n",
    "    \n",
    "    for region in regions:\n",
    "        get_region_box(region)\n",
    "        "
   ]
  },
  {
   "cell_type": "code",
   "execution_count": null,
   "metadata": {},
   "outputs": [],
   "source": []
  },
  {
   "cell_type": "code",
   "execution_count": null,
   "metadata": {},
   "outputs": [],
   "source": []
  },
  {
   "cell_type": "code",
   "execution_count": null,
   "metadata": {},
   "outputs": [],
   "source": []
  },
  {
   "cell_type": "code",
   "execution_count": null,
   "metadata": {},
   "outputs": [],
   "source": []
  },
  {
   "cell_type": "code",
   "execution_count": null,
   "metadata": {},
   "outputs": [],
   "source": []
  },
  {
   "cell_type": "code",
   "execution_count": 9,
   "metadata": {},
   "outputs": [
    {
     "ename": "NameError",
     "evalue": "name 'cleint' is not defined",
     "output_type": "error",
     "traceback": [
      "\u001b[0;31m---------------------------------------------------------------------------\u001b[0m",
      "\u001b[0;31mNameError\u001b[0m                                 Traceback (most recent call last)",
      "Cell \u001b[0;32mIn[9], line 1\u001b[0m\n\u001b[0;32m----> 1\u001b[0m \u001b[43mcleint\u001b[49m\u001b[38;5;241m.\u001b[39mclose()\n",
      "\u001b[0;31mNameError\u001b[0m: name 'cleint' is not defined"
     ]
    }
   ],
   "source": [
    "cleint.close()"
   ]
  },
  {
   "cell_type": "code",
   "execution_count": null,
   "metadata": {},
   "outputs": [],
   "source": []
  }
 ],
 "metadata": {
  "kernelspec": {
   "display_name": "Python [conda env:Argo_Nov_24]",
   "language": "python",
   "name": "conda-env-Argo_Nov_24-py"
  },
  "language_info": {
   "codemirror_mode": {
    "name": "ipython",
    "version": 3
   },
   "file_extension": ".py",
   "mimetype": "text/x-python",
   "name": "python",
   "nbconvert_exporter": "python",
   "pygments_lexer": "ipython3",
   "version": "3.12.8"
  }
 },
 "nbformat": 4,
 "nbformat_minor": 2
}
