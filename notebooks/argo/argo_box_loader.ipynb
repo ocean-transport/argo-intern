{
 "cells": [
  {
   "cell_type": "markdown",
   "metadata": {},
   "source": [
    "## Argo File Loader"
   ]
  },
  {
   "cell_type": "code",
   "execution_count": 6,
   "metadata": {},
   "outputs": [],
   "source": [
    "# try with newest snapshot\n",
    "# try with ftp that gmaze used in issue, probably going to be really slow"
   ]
  },
  {
   "cell_type": "code",
   "execution_count": 1,
   "metadata": {},
   "outputs": [],
   "source": [
    "import xarray as xr\n",
    "import matplotlib.pyplot as plt\n",
    "import numpy as np\n",
    "import argopy\n",
    "import scipy.ndimage as filter\n",
    "import scipy\n",
    "import matplotlib\n",
    "import gsw\n",
    "import traceback\n",
    "from importlib import reload\n",
    "\n",
    "import argopy\n",
    "from argopy import DataFetcher as ArgoDataFetcher\n",
    "\n",
    "argo_loader = ArgoDataFetcher(\n",
    "    src=\"gdac\", ftp=\"/swot/SUM05/dbalwada/Argo_sync\", progress=True\n",
    ")"
   ]
  },
  {
   "cell_type": "code",
   "execution_count": 2,
   "metadata": {},
   "outputs": [],
   "source": [
    "#print('argopy: {}, xarray: {}, dask: {}'.format(argopy.__version__, xr.__version__, dask.__version__))"
   ]
  },
  {
   "cell_type": "code",
   "execution_count": 3,
   "metadata": {},
   "outputs": [],
   "source": [
    "import os\n",
    "os.chdir('/home.ufs/amf2288/argo-intern/funcs')\n",
    "import density_funcs as df\n",
    "import EV_funcs as ef\n",
    "import filt_funcs as ff\n",
    "import plot_funcs as pf\n",
    "import processing_funcs as prf\n",
    "#import argopy_investigation as ai"
   ]
  },
  {
   "cell_type": "code",
   "execution_count": 4,
   "metadata": {},
   "outputs": [
    {
     "data": {
      "text/plain": [
       "<module 'processing_funcs' from '/home/amf2288/argo-intern/funcs/processing_funcs.py'>"
      ]
     },
     "execution_count": 4,
     "metadata": {},
     "output_type": "execute_result"
    }
   ],
   "source": [
    "reload(df)\n",
    "reload(ef)\n",
    "reload(ff)\n",
    "reload(pf)\n",
    "#reload(mf)\n",
    "reload(prf)"
   ]
  },
  {
   "cell_type": "markdown",
   "metadata": {},
   "source": [
    "# Testing Problem Boxes"
   ]
  },
  {
   "cell_type": "code",
   "execution_count": 47,
   "metadata": {},
   "outputs": [],
   "source": [
    "problem_boxes = [[-5,0,-45,-40,0,2000],\n",
    "                [-90, -85, -40, -35,0,2000],\n",
    "                [-120,-115,-35,-30,0,2000],\n",
    "                [-125,-120,-30,-25,0,2000],\n",
    "                [-85,-80,-20,-15,0,2000],\n",
    "                [-90,-85,-20,-15,0,2000],\n",
    "                [-115,-110,-20,-15,0,2000],\n",
    "                [-95,-90,-15,-10,0,2000],\n",
    "                [-105,-100,5,10,0,2000],\n",
    "                [-95,-90,5,10,0,2000],\n",
    "                [-105,-100,5,10,0,2000],\n",
    "                [-115,-110,5,10,0,2000],\n",
    "                [-130,-125,5,10,0,2000],\n",
    "                [55,60,-20,-15,0,2000],\n",
    "                [100,105,-60,-55,0,2000],\n",
    "                [135,140,-55,-50,0,2000]]"
   ]
  },
  {
   "cell_type": "code",
   "execution_count": 48,
   "metadata": {},
   "outputs": [
    {
     "name": "stdout",
     "output_type": "stream",
     "text": [
      "loading points complete\n",
      "USING LOCAL ARGOPY DIRECTORY\n"
     ]
    },
    {
     "name": "stderr",
     "output_type": "stream",
     "text": [
      "100%|██████████| 54/54 [03:19<00:00,  3.69s/it]\n"
     ]
    },
    {
     "name": "stdout",
     "output_type": "stream",
     "text": [
      "to xarray complete\n",
      "point to profile complete\n",
      "USING THIS DS_INTERP\n",
      "interpolation complete\n",
      "adding spice complete\n",
      "adding MLD complete\n"
     ]
    }
   ],
   "source": [
    "box = problem_boxes[1]\n",
    "interp_step = 2\n",
    "\n",
    "ds = argo_loader.region(box)\n",
    "print(\"loading points complete\")\n",
    "\n",
    "ds = ds.to_xarray()\n",
    "print(\"to xarray complete\")\n",
    "\n",
    "ds = ds.argo.teos10([\"CT\", \"SA\", \"SIG0\"])\n",
    "ds = ds.argo.point2profile()\n",
    "print(\"point to profile complete\")\n",
    "\n",
    "ds_interp = prf.get_ds_interp(ds, box[4], box[5], interp_step)\n",
    "print(\"interpolation complete\")\n",
    "\n",
    "ds_interp[\"SPICE\"] = gsw.spiciness0(ds_interp.SA, ds_interp.CT).rename(\"SPICE\")\n",
    "print(\"adding spice complete\")\n",
    "\n",
    "ds_interp = prf.get_MLD(ds_interp)\n",
    "ds_interp = prf.add_times(ds_interp)\n",
    "print(\"adding MLD complete\")\n",
    "\n",
    "if 'raw_attrs' in ds_interp.attrs:\n",
    "    del ds_interp.attrs['raw_attrs']"
   ]
  },
  {
   "cell_type": "code",
   "execution_count": 49,
   "metadata": {},
   "outputs": [
    {
     "data": {
      "text/html": [
       "<div><svg style=\"position: absolute; width: 0; height: 0; overflow: hidden\">\n",
       "<defs>\n",
       "<symbol id=\"icon-database\" viewBox=\"0 0 32 32\">\n",
       "<path d=\"M16 0c-8.837 0-16 2.239-16 5v4c0 2.761 7.163 5 16 5s16-2.239 16-5v-4c0-2.761-7.163-5-16-5z\"></path>\n",
       "<path d=\"M16 17c-8.837 0-16-2.239-16-5v6c0 2.761 7.163 5 16 5s16-2.239 16-5v-6c0 2.761-7.163 5-16 5z\"></path>\n",
       "<path d=\"M16 26c-8.837 0-16-2.239-16-5v6c0 2.761 7.163 5 16 5s16-2.239 16-5v-6c0 2.761-7.163 5-16 5z\"></path>\n",
       "</symbol>\n",
       "<symbol id=\"icon-file-text2\" viewBox=\"0 0 32 32\">\n",
       "<path d=\"M28.681 7.159c-0.694-0.947-1.662-2.053-2.724-3.116s-2.169-2.030-3.116-2.724c-1.612-1.182-2.393-1.319-2.841-1.319h-15.5c-1.378 0-2.5 1.121-2.5 2.5v27c0 1.378 1.122 2.5 2.5 2.5h23c1.378 0 2.5-1.122 2.5-2.5v-19.5c0-0.448-0.137-1.23-1.319-2.841zM24.543 5.457c0.959 0.959 1.712 1.825 2.268 2.543h-4.811v-4.811c0.718 0.556 1.584 1.309 2.543 2.268zM28 29.5c0 0.271-0.229 0.5-0.5 0.5h-23c-0.271 0-0.5-0.229-0.5-0.5v-27c0-0.271 0.229-0.5 0.5-0.5 0 0 15.499-0 15.5 0v7c0 0.552 0.448 1 1 1h7v19.5z\"></path>\n",
       "<path d=\"M23 26h-14c-0.552 0-1-0.448-1-1s0.448-1 1-1h14c0.552 0 1 0.448 1 1s-0.448 1-1 1z\"></path>\n",
       "<path d=\"M23 22h-14c-0.552 0-1-0.448-1-1s0.448-1 1-1h14c0.552 0 1 0.448 1 1s-0.448 1-1 1z\"></path>\n",
       "<path d=\"M23 18h-14c-0.552 0-1-0.448-1-1s0.448-1 1-1h14c0.552 0 1 0.448 1 1s-0.448 1-1 1z\"></path>\n",
       "</symbol>\n",
       "</defs>\n",
       "</svg>\n",
       "<style>/* CSS stylesheet for displaying xarray objects in jupyterlab.\n",
       " *\n",
       " */\n",
       "\n",
       ":root {\n",
       "  --xr-font-color0: var(--jp-content-font-color0, rgba(0, 0, 0, 1));\n",
       "  --xr-font-color2: var(--jp-content-font-color2, rgba(0, 0, 0, 0.54));\n",
       "  --xr-font-color3: var(--jp-content-font-color3, rgba(0, 0, 0, 0.38));\n",
       "  --xr-border-color: var(--jp-border-color2, #e0e0e0);\n",
       "  --xr-disabled-color: var(--jp-layout-color3, #bdbdbd);\n",
       "  --xr-background-color: var(--jp-layout-color0, white);\n",
       "  --xr-background-color-row-even: var(--jp-layout-color1, white);\n",
       "  --xr-background-color-row-odd: var(--jp-layout-color2, #eeeeee);\n",
       "}\n",
       "\n",
       "html[theme=dark],\n",
       "body[data-theme=dark],\n",
       "body.vscode-dark {\n",
       "  --xr-font-color0: rgba(255, 255, 255, 1);\n",
       "  --xr-font-color2: rgba(255, 255, 255, 0.54);\n",
       "  --xr-font-color3: rgba(255, 255, 255, 0.38);\n",
       "  --xr-border-color: #1F1F1F;\n",
       "  --xr-disabled-color: #515151;\n",
       "  --xr-background-color: #111111;\n",
       "  --xr-background-color-row-even: #111111;\n",
       "  --xr-background-color-row-odd: #313131;\n",
       "}\n",
       "\n",
       ".xr-wrap {\n",
       "  display: block !important;\n",
       "  min-width: 300px;\n",
       "  max-width: 700px;\n",
       "}\n",
       "\n",
       ".xr-text-repr-fallback {\n",
       "  /* fallback to plain text repr when CSS is not injected (untrusted notebook) */\n",
       "  display: none;\n",
       "}\n",
       "\n",
       ".xr-header {\n",
       "  padding-top: 6px;\n",
       "  padding-bottom: 6px;\n",
       "  margin-bottom: 4px;\n",
       "  border-bottom: solid 1px var(--xr-border-color);\n",
       "}\n",
       "\n",
       ".xr-header > div,\n",
       ".xr-header > ul {\n",
       "  display: inline;\n",
       "  margin-top: 0;\n",
       "  margin-bottom: 0;\n",
       "}\n",
       "\n",
       ".xr-obj-type,\n",
       ".xr-array-name {\n",
       "  margin-left: 2px;\n",
       "  margin-right: 10px;\n",
       "}\n",
       "\n",
       ".xr-obj-type {\n",
       "  color: var(--xr-font-color2);\n",
       "}\n",
       "\n",
       ".xr-sections {\n",
       "  padding-left: 0 !important;\n",
       "  display: grid;\n",
       "  grid-template-columns: 150px auto auto 1fr 20px 20px;\n",
       "}\n",
       "\n",
       ".xr-section-item {\n",
       "  display: contents;\n",
       "}\n",
       "\n",
       ".xr-section-item input {\n",
       "  display: none;\n",
       "}\n",
       "\n",
       ".xr-section-item input + label {\n",
       "  color: var(--xr-disabled-color);\n",
       "}\n",
       "\n",
       ".xr-section-item input:enabled + label {\n",
       "  cursor: pointer;\n",
       "  color: var(--xr-font-color2);\n",
       "}\n",
       "\n",
       ".xr-section-item input:enabled + label:hover {\n",
       "  color: var(--xr-font-color0);\n",
       "}\n",
       "\n",
       ".xr-section-summary {\n",
       "  grid-column: 1;\n",
       "  color: var(--xr-font-color2);\n",
       "  font-weight: 500;\n",
       "}\n",
       "\n",
       ".xr-section-summary > span {\n",
       "  display: inline-block;\n",
       "  padding-left: 0.5em;\n",
       "}\n",
       "\n",
       ".xr-section-summary-in:disabled + label {\n",
       "  color: var(--xr-font-color2);\n",
       "}\n",
       "\n",
       ".xr-section-summary-in + label:before {\n",
       "  display: inline-block;\n",
       "  content: '►';\n",
       "  font-size: 11px;\n",
       "  width: 15px;\n",
       "  text-align: center;\n",
       "}\n",
       "\n",
       ".xr-section-summary-in:disabled + label:before {\n",
       "  color: var(--xr-disabled-color);\n",
       "}\n",
       "\n",
       ".xr-section-summary-in:checked + label:before {\n",
       "  content: '▼';\n",
       "}\n",
       "\n",
       ".xr-section-summary-in:checked + label > span {\n",
       "  display: none;\n",
       "}\n",
       "\n",
       ".xr-section-summary,\n",
       ".xr-section-inline-details {\n",
       "  padding-top: 4px;\n",
       "  padding-bottom: 4px;\n",
       "}\n",
       "\n",
       ".xr-section-inline-details {\n",
       "  grid-column: 2 / -1;\n",
       "}\n",
       "\n",
       ".xr-section-details {\n",
       "  display: none;\n",
       "  grid-column: 1 / -1;\n",
       "  margin-bottom: 5px;\n",
       "}\n",
       "\n",
       ".xr-section-summary-in:checked ~ .xr-section-details {\n",
       "  display: contents;\n",
       "}\n",
       "\n",
       ".xr-array-wrap {\n",
       "  grid-column: 1 / -1;\n",
       "  display: grid;\n",
       "  grid-template-columns: 20px auto;\n",
       "}\n",
       "\n",
       ".xr-array-wrap > label {\n",
       "  grid-column: 1;\n",
       "  vertical-align: top;\n",
       "}\n",
       "\n",
       ".xr-preview {\n",
       "  color: var(--xr-font-color3);\n",
       "}\n",
       "\n",
       ".xr-array-preview,\n",
       ".xr-array-data {\n",
       "  padding: 0 5px !important;\n",
       "  grid-column: 2;\n",
       "}\n",
       "\n",
       ".xr-array-data,\n",
       ".xr-array-in:checked ~ .xr-array-preview {\n",
       "  display: none;\n",
       "}\n",
       "\n",
       ".xr-array-in:checked ~ .xr-array-data,\n",
       ".xr-array-preview {\n",
       "  display: inline-block;\n",
       "}\n",
       "\n",
       ".xr-dim-list {\n",
       "  display: inline-block !important;\n",
       "  list-style: none;\n",
       "  padding: 0 !important;\n",
       "  margin: 0;\n",
       "}\n",
       "\n",
       ".xr-dim-list li {\n",
       "  display: inline-block;\n",
       "  padding: 0;\n",
       "  margin: 0;\n",
       "}\n",
       "\n",
       ".xr-dim-list:before {\n",
       "  content: '(';\n",
       "}\n",
       "\n",
       ".xr-dim-list:after {\n",
       "  content: ')';\n",
       "}\n",
       "\n",
       ".xr-dim-list li:not(:last-child):after {\n",
       "  content: ',';\n",
       "  padding-right: 5px;\n",
       "}\n",
       "\n",
       ".xr-has-index {\n",
       "  font-weight: bold;\n",
       "}\n",
       "\n",
       ".xr-var-list,\n",
       ".xr-var-item {\n",
       "  display: contents;\n",
       "}\n",
       "\n",
       ".xr-var-item > div,\n",
       ".xr-var-item label,\n",
       ".xr-var-item > .xr-var-name span {\n",
       "  background-color: var(--xr-background-color-row-even);\n",
       "  margin-bottom: 0;\n",
       "}\n",
       "\n",
       ".xr-var-item > .xr-var-name:hover span {\n",
       "  padding-right: 5px;\n",
       "}\n",
       "\n",
       ".xr-var-list > li:nth-child(odd) > div,\n",
       ".xr-var-list > li:nth-child(odd) > label,\n",
       ".xr-var-list > li:nth-child(odd) > .xr-var-name span {\n",
       "  background-color: var(--xr-background-color-row-odd);\n",
       "}\n",
       "\n",
       ".xr-var-name {\n",
       "  grid-column: 1;\n",
       "}\n",
       "\n",
       ".xr-var-dims {\n",
       "  grid-column: 2;\n",
       "}\n",
       "\n",
       ".xr-var-dtype {\n",
       "  grid-column: 3;\n",
       "  text-align: right;\n",
       "  color: var(--xr-font-color2);\n",
       "}\n",
       "\n",
       ".xr-var-preview {\n",
       "  grid-column: 4;\n",
       "}\n",
       "\n",
       ".xr-index-preview {\n",
       "  grid-column: 2 / 5;\n",
       "  color: var(--xr-font-color2);\n",
       "}\n",
       "\n",
       ".xr-var-name,\n",
       ".xr-var-dims,\n",
       ".xr-var-dtype,\n",
       ".xr-preview,\n",
       ".xr-attrs dt {\n",
       "  white-space: nowrap;\n",
       "  overflow: hidden;\n",
       "  text-overflow: ellipsis;\n",
       "  padding-right: 10px;\n",
       "}\n",
       "\n",
       ".xr-var-name:hover,\n",
       ".xr-var-dims:hover,\n",
       ".xr-var-dtype:hover,\n",
       ".xr-attrs dt:hover {\n",
       "  overflow: visible;\n",
       "  width: auto;\n",
       "  z-index: 1;\n",
       "}\n",
       "\n",
       ".xr-var-attrs,\n",
       ".xr-var-data,\n",
       ".xr-index-data {\n",
       "  display: none;\n",
       "  background-color: var(--xr-background-color) !important;\n",
       "  padding-bottom: 5px !important;\n",
       "}\n",
       "\n",
       ".xr-var-attrs-in:checked ~ .xr-var-attrs,\n",
       ".xr-var-data-in:checked ~ .xr-var-data,\n",
       ".xr-index-data-in:checked ~ .xr-index-data {\n",
       "  display: block;\n",
       "}\n",
       "\n",
       ".xr-var-data > table {\n",
       "  float: right;\n",
       "}\n",
       "\n",
       ".xr-var-name span,\n",
       ".xr-var-data,\n",
       ".xr-index-name div,\n",
       ".xr-index-data,\n",
       ".xr-attrs {\n",
       "  padding-left: 25px !important;\n",
       "}\n",
       "\n",
       ".xr-attrs,\n",
       ".xr-var-attrs,\n",
       ".xr-var-data,\n",
       ".xr-index-data {\n",
       "  grid-column: 1 / -1;\n",
       "}\n",
       "\n",
       "dl.xr-attrs {\n",
       "  padding: 0;\n",
       "  margin: 0;\n",
       "  display: grid;\n",
       "  grid-template-columns: 125px auto;\n",
       "}\n",
       "\n",
       ".xr-attrs dt,\n",
       ".xr-attrs dd {\n",
       "  padding: 0;\n",
       "  margin: 0;\n",
       "  float: left;\n",
       "  padding-right: 10px;\n",
       "  width: auto;\n",
       "}\n",
       "\n",
       ".xr-attrs dt {\n",
       "  font-weight: normal;\n",
       "  grid-column: 1;\n",
       "}\n",
       "\n",
       ".xr-attrs dt:hover span {\n",
       "  display: inline-block;\n",
       "  background: var(--xr-background-color);\n",
       "  padding-right: 10px;\n",
       "}\n",
       "\n",
       ".xr-attrs dd {\n",
       "  grid-column: 2;\n",
       "  white-space: pre-wrap;\n",
       "  word-break: break-all;\n",
       "}\n",
       "\n",
       ".xr-icon-database,\n",
       ".xr-icon-file-text2,\n",
       ".xr-no-icon {\n",
       "  display: inline-block;\n",
       "  vertical-align: middle;\n",
       "  width: 1em;\n",
       "  height: 1.5em !important;\n",
       "  stroke-width: 0;\n",
       "  stroke: currentColor;\n",
       "  fill: currentColor;\n",
       "}\n",
       "</style><pre class='xr-text-repr-fallback'>&lt;xarray.DataArray &#x27;PRES&#x27; (N_PROF: 1669)&gt; Size: 13kB\n",
       "array([  70,   70,   69, ..., 1005, 1005, 1006])\n",
       "Coordinates:\n",
       "  * N_PROF     (N_PROF) int64 13kB 85 86 87 88 89 ... 1668 1525 1082 1667 1120\n",
       "    TIME       (N_PROF) datetime64[ns] 13kB 2005-11-10T07:00:26 ... 2025-02-1...\n",
       "    LATITUDE   (N_PROF) float64 13kB -38.33 -38.36 -38.35 ... -39.52 -38.83\n",
       "    LONGITUDE  (N_PROF) float64 13kB -88.92 -88.68 -88.53 ... -87.32 -89.79</pre><div class='xr-wrap' style='display:none'><div class='xr-header'><div class='xr-obj-type'>xarray.DataArray</div><div class='xr-array-name'>'PRES'</div><ul class='xr-dim-list'><li><span class='xr-has-index'>N_PROF</span>: 1669</li></ul></div><ul class='xr-sections'><li class='xr-section-item'><div class='xr-array-wrap'><input id='section-468c11b9-e0cf-4ce6-b4a4-0b858fd612eb' class='xr-array-in' type='checkbox' checked><label for='section-468c11b9-e0cf-4ce6-b4a4-0b858fd612eb' title='Show/hide data repr'><svg class='icon xr-icon-database'><use xlink:href='#icon-database'></use></svg></label><div class='xr-array-preview xr-preview'><span>70 70 69 70 70 69 70 69 69 ... 1005 1005 510 510 509 1005 1005 1006</span></div><div class='xr-array-data'><pre>array([  70,   70,   69, ..., 1005, 1005, 1006])</pre></div></div></li><li class='xr-section-item'><input id='section-c355b719-1c0f-4998-adfb-fb45b7f540d3' class='xr-section-summary-in' type='checkbox'  checked><label for='section-c355b719-1c0f-4998-adfb-fb45b7f540d3' class='xr-section-summary' >Coordinates: <span>(4)</span></label><div class='xr-section-inline-details'></div><div class='xr-section-details'><ul class='xr-var-list'><li class='xr-var-item'><div class='xr-var-name'><span class='xr-has-index'>N_PROF</span></div><div class='xr-var-dims'>(N_PROF)</div><div class='xr-var-dtype'>int64</div><div class='xr-var-preview xr-preview'>85 86 87 88 ... 1525 1082 1667 1120</div><input id='attrs-23769351-fef7-422f-baed-ef533e7edbc1' class='xr-var-attrs-in' type='checkbox' ><label for='attrs-23769351-fef7-422f-baed-ef533e7edbc1' title='Show/Hide attributes'><svg class='icon xr-icon-file-text2'><use xlink:href='#icon-file-text2'></use></svg></label><input id='data-023363d7-f0e8-4a27-8bbe-c4e237f23572' class='xr-var-data-in' type='checkbox'><label for='data-023363d7-f0e8-4a27-8bbe-c4e237f23572' title='Show/Hide data repr'><svg class='icon xr-icon-database'><use xlink:href='#icon-database'></use></svg></label><div class='xr-var-attrs'><dl class='xr-attrs'><dt><span>casted :</span></dt><dd>1</dd></dl></div><div class='xr-var-data'><pre>array([  85,   86,   87, ..., 1082, 1667, 1120])</pre></div></li><li class='xr-var-item'><div class='xr-var-name'><span>TIME</span></div><div class='xr-var-dims'>(N_PROF)</div><div class='xr-var-dtype'>datetime64[ns]</div><div class='xr-var-preview xr-preview'>2005-11-10T07:00:26 ... 2025-02-...</div><input id='attrs-650d2ebd-9b1f-43d9-86c6-9787ee652830' class='xr-var-attrs-in' type='checkbox' ><label for='attrs-650d2ebd-9b1f-43d9-86c6-9787ee652830' title='Show/Hide attributes'><svg class='icon xr-icon-file-text2'><use xlink:href='#icon-file-text2'></use></svg></label><input id='data-9c4f0a6f-f393-4dd7-ab6b-85bc1461370a' class='xr-var-data-in' type='checkbox'><label for='data-9c4f0a6f-f393-4dd7-ab6b-85bc1461370a' title='Show/Hide data repr'><svg class='icon xr-icon-database'><use xlink:href='#icon-database'></use></svg></label><div class='xr-var-attrs'><dl class='xr-attrs'><dt><span>long_name :</span></dt><dd>Datetime (UTC) of the station</dd><dt><span>standard_name :</span></dt><dd>time</dd><dt><span>casted :</span></dt><dd>1</dd></dl></div><div class='xr-var-data'><pre>array([&#x27;2005-11-10T07:00:26.000000000&#x27;, &#x27;2005-11-17T23:51:39.000000000&#x27;,\n",
       "       &#x27;2005-11-25T16:56:39.000000000&#x27;, ...,\n",
       "       &#x27;2025-02-15T10:28:49.000000000&#x27;, &#x27;2025-02-17T05:56:24.000000000&#x27;,\n",
       "       &#x27;2025-02-17T21:59:43.000000000&#x27;], dtype=&#x27;datetime64[ns]&#x27;)</pre></div></li><li class='xr-var-item'><div class='xr-var-name'><span>LATITUDE</span></div><div class='xr-var-dims'>(N_PROF)</div><div class='xr-var-dtype'>float64</div><div class='xr-var-preview xr-preview'>-38.33 -38.36 ... -39.52 -38.83</div><input id='attrs-0b6aaba6-3729-47ad-9b54-b22348de9c8a' class='xr-var-attrs-in' type='checkbox' ><label for='attrs-0b6aaba6-3729-47ad-9b54-b22348de9c8a' title='Show/Hide attributes'><svg class='icon xr-icon-file-text2'><use xlink:href='#icon-file-text2'></use></svg></label><input id='data-9c6638d1-bccf-4e06-9b3a-52b94b703473' class='xr-var-data-in' type='checkbox'><label for='data-9c6638d1-bccf-4e06-9b3a-52b94b703473' title='Show/Hide data repr'><svg class='icon xr-icon-database'><use xlink:href='#icon-database'></use></svg></label><div class='xr-var-attrs'><dl class='xr-attrs'><dt><span>long_name :</span></dt><dd>Latitude of the station, best estimate</dd><dt><span>standard_name :</span></dt><dd>latitude</dd><dt><span>units :</span></dt><dd>degree_north</dd><dt><span>valid_min :</span></dt><dd>-90.0</dd><dt><span>valid_max :</span></dt><dd>90.0</dd><dt><span>axis :</span></dt><dd>Y</dd><dt><span>casted :</span></dt><dd>1</dd></dl></div><div class='xr-var-data'><pre>array([-38.332  , -38.359  , -38.346  , ..., -37.27119, -39.51906,\n",
       "       -38.83452])</pre></div></li><li class='xr-var-item'><div class='xr-var-name'><span>LONGITUDE</span></div><div class='xr-var-dims'>(N_PROF)</div><div class='xr-var-dtype'>float64</div><div class='xr-var-preview xr-preview'>-88.92 -88.68 ... -87.32 -89.79</div><input id='attrs-e112473b-159b-4018-a508-ffa5e3b8fbe0' class='xr-var-attrs-in' type='checkbox' ><label for='attrs-e112473b-159b-4018-a508-ffa5e3b8fbe0' title='Show/Hide attributes'><svg class='icon xr-icon-file-text2'><use xlink:href='#icon-file-text2'></use></svg></label><input id='data-db4dda98-68ea-48f0-bd94-8df847a0172b' class='xr-var-data-in' type='checkbox'><label for='data-db4dda98-68ea-48f0-bd94-8df847a0172b' title='Show/Hide data repr'><svg class='icon xr-icon-database'><use xlink:href='#icon-database'></use></svg></label><div class='xr-var-attrs'><dl class='xr-attrs'><dt><span>long_name :</span></dt><dd>Longitude of the station, best estimate</dd><dt><span>standard_name :</span></dt><dd>longitude</dd><dt><span>units :</span></dt><dd>degree_east</dd><dt><span>valid_min :</span></dt><dd>-180.0</dd><dt><span>valid_max :</span></dt><dd>180.0</dd><dt><span>axis :</span></dt><dd>X</dd><dt><span>casted :</span></dt><dd>1</dd></dl></div><div class='xr-var-data'><pre>array([-88.922  , -88.684  , -88.526  , ..., -87.49769, -87.31896,\n",
       "       -89.79215])</pre></div></li></ul></div></li><li class='xr-section-item'><input id='section-f0a1c2f1-4925-4142-a19f-53b6da0a226d' class='xr-section-summary-in' type='checkbox'  ><label for='section-f0a1c2f1-4925-4142-a19f-53b6da0a226d' class='xr-section-summary' >Indexes: <span>(1)</span></label><div class='xr-section-inline-details'></div><div class='xr-section-details'><ul class='xr-var-list'><li class='xr-var-item'><div class='xr-index-name'><div>N_PROF</div></div><div class='xr-index-preview'>PandasIndex</div><div></div><input id='index-efc5797c-20e7-4e9e-92e8-8ce3f0197ccf' class='xr-index-data-in' type='checkbox'/><label for='index-efc5797c-20e7-4e9e-92e8-8ce3f0197ccf' title='Show/Hide index repr'><svg class='icon xr-icon-database'><use xlink:href='#icon-database'></use></svg></label><div class='xr-index-data'><pre>PandasIndex(Index([  85,   86,   87,   88,   89,   90,   91,   92,   93,   94,\n",
       "       ...\n",
       "       1524, 1081, 1666, 1119,   84, 1668, 1525, 1082, 1667, 1120],\n",
       "      dtype=&#x27;int64&#x27;, name=&#x27;N_PROF&#x27;, length=1669))</pre></div></li></ul></div></li><li class='xr-section-item'><input id='section-81fae42c-28b7-4079-b05d-00644ed41002' class='xr-section-summary-in' type='checkbox' disabled ><label for='section-81fae42c-28b7-4079-b05d-00644ed41002' class='xr-section-summary'  title='Expand/collapse section'>Attributes: <span>(0)</span></label><div class='xr-section-inline-details'></div><div class='xr-section-details'><dl class='xr-attrs'></dl></div></li></ul></div></div>"
      ],
      "text/plain": [
       "<xarray.DataArray 'PRES' (N_PROF: 1669)> Size: 13kB\n",
       "array([  70,   70,   69, ..., 1005, 1005, 1006])\n",
       "Coordinates:\n",
       "  * N_PROF     (N_PROF) int64 13kB 85 86 87 88 89 ... 1668 1525 1082 1667 1120\n",
       "    TIME       (N_PROF) datetime64[ns] 13kB 2005-11-10T07:00:26 ... 2025-02-1...\n",
       "    LATITUDE   (N_PROF) float64 13kB -38.33 -38.36 -38.35 ... -39.52 -38.83\n",
       "    LONGITUDE  (N_PROF) float64 13kB -88.92 -88.68 -88.53 ... -87.32 -89.79"
      ]
     },
     "execution_count": 49,
     "metadata": {},
     "output_type": "execute_result"
    }
   ],
   "source": [
    "non_nan_counts = np.sum(~np.isnan(ds.PRES), axis=1)\n",
    "non_nan_counts"
   ]
  },
  {
   "cell_type": "code",
   "execution_count": 50,
   "metadata": {},
   "outputs": [
    {
     "data": {
      "image/png": "[encoded data removed]",
      "text/plain": [
       "<Figure size 640x480 with 1 Axes>"
      ]
     },
     "metadata": {},
     "output_type": "display_data"
    }
   ],
   "source": [
    "plt.hist(non_nan_counts,bins=np.arange(non_nan_counts.min(),non_nan_counts.max(),5));"
   ]
  },
  {
   "cell_type": "code",
   "execution_count": 51,
   "metadata": {},
   "outputs": [
    {
     "name": "stdout",
     "output_type": "stream",
     "text": [
      "There are 1669 profiles in the original dataset\n",
      "There are 820 profiles in the interpolated dataset\n"
     ]
    }
   ],
   "source": [
    "print(\"There are {} profiles in the original dataset\".format(len(ds.N_PROF)))\n",
    "print(\"There are {} profiles in the interpolated dataset\".format(len(ds_interp.N_PROF)))"
   ]
  },
  {
   "cell_type": "code",
   "execution_count": 52,
   "metadata": {},
   "outputs": [
    {
     "data": {
      "text/plain": [
       "<matplotlib.collections.PathCollection at 0x7fd5618dfd40>"
      ]
     },
     "execution_count": 52,
     "metadata": {},
     "output_type": "execute_result"
    },
    {
     "data": {
      "image/png": "[encoded data removed]",
      "text/plain": [
       "<Figure size 640x480 with 1 Axes>"
      ]
     },
     "metadata": {},
     "output_type": "display_data"
    }
   ],
   "source": [
    "plt.scatter(ds.LONGITUDE, ds.LATITUDE)\n",
    "plt.scatter(ds_interp.LONGITUDE, ds_interp.LATITUDE)"
   ]
  },
  {
   "cell_type": "code",
   "execution_count": 8,
   "metadata": {},
   "outputs": [
    {
     "ename": "TypeError",
     "evalue": "Invalid value for attr 'raw_attrs': {'raw_attrs': {'title': 'Argo float vertical profile', 'institution': 'FR GDAC', 'source': 'Argo float', 'history': '2019-04-03T16:03:43Z creation', 'references': 'http://www.argodatamgt.org/Documentation', 'user_manual_version': '3.1', 'Conventions': 'Argo-3.1 CF-1.6', 'featureType': 'trajectoryProfile'}, 'Processing_history': \"Transformed with 'profile2point'\"}. For serialization to netCDF files, its value must be of one of the following types: str, Number, ndarray, number, list, tuple",
     "output_type": "error",
     "traceback": [
      "\u001b[0;31m---------------------------------------------------------------------------\u001b[0m",
      "\u001b[0;31mTypeError\u001b[0m                                 Traceback (most recent call last)",
      "Cell \u001b[0;32mIn[8], line 1\u001b[0m\n\u001b[0;32m----> 1\u001b[0m \u001b[43mds\u001b[49m\u001b[38;5;241;43m.\u001b[39;49m\u001b[43mto_netcdf\u001b[49m\u001b[43m(\u001b[49m\u001b[38;5;124;43m\"\u001b[39;49m\u001b[38;5;124;43m/swot/SUM05/amf2288/sync-boxes/globe_load/lon:(\u001b[39;49m\u001b[38;5;132;43;01m{}\u001b[39;49;00m\u001b[38;5;124;43m,\u001b[39;49m\u001b[38;5;132;43;01m{}\u001b[39;49;00m\u001b[38;5;124;43m)_lat:(\u001b[39;49m\u001b[38;5;132;43;01m{}\u001b[39;49;00m\u001b[38;5;124;43m,\u001b[39;49m\u001b[38;5;132;43;01m{}\u001b[39;49;00m\u001b[38;5;124;43m)_ds_z.nc\u001b[39;49m\u001b[38;5;124;43m\"\u001b[39;49m\u001b[38;5;241;43m.\u001b[39;49m\u001b[43mformat\u001b[49m\u001b[43m(\u001b[49m\u001b[43mbox\u001b[49m\u001b[43m[\u001b[49m\u001b[38;5;241;43m0\u001b[39;49m\u001b[43m]\u001b[49m\u001b[43m,\u001b[49m\u001b[43mbox\u001b[49m\u001b[43m[\u001b[49m\u001b[38;5;241;43m1\u001b[39;49m\u001b[43m]\u001b[49m\u001b[43m,\u001b[49m\u001b[43mbox\u001b[49m\u001b[43m[\u001b[49m\u001b[38;5;241;43m2\u001b[39;49m\u001b[43m]\u001b[49m\u001b[43m,\u001b[49m\u001b[43mbox\u001b[49m\u001b[43m[\u001b[49m\u001b[38;5;241;43m3\u001b[39;49m\u001b[43m]\u001b[49m\u001b[43m)\u001b[49m\u001b[43m)\u001b[49m\n",
      "File \u001b[0;32m~/mambaforge-pypy3/envs/Argo_Feb_25/lib/python3.12/site-packages/xarray/core/dataset.py:2298\u001b[0m, in \u001b[0;36mDataset.to_netcdf\u001b[0;34m(self, path, mode, format, group, engine, encoding, unlimited_dims, compute, invalid_netcdf)\u001b[0m\n\u001b[1;32m   2295\u001b[0m     encoding \u001b[38;5;241m=\u001b[39m {}\n\u001b[1;32m   2296\u001b[0m \u001b[38;5;28;01mfrom\u001b[39;00m\u001b[38;5;250m \u001b[39m\u001b[38;5;21;01mxarray\u001b[39;00m\u001b[38;5;21;01m.\u001b[39;00m\u001b[38;5;21;01mbackends\u001b[39;00m\u001b[38;5;21;01m.\u001b[39;00m\u001b[38;5;21;01mapi\u001b[39;00m\u001b[38;5;250m \u001b[39m\u001b[38;5;28;01mimport\u001b[39;00m to_netcdf\n\u001b[0;32m-> 2298\u001b[0m \u001b[38;5;28;01mreturn\u001b[39;00m \u001b[43mto_netcdf\u001b[49m\u001b[43m(\u001b[49m\u001b[43m  \u001b[49m\u001b[38;5;66;43;03m# type: ignore  # mypy cannot resolve the overloads:(\u001b[39;49;00m\n\u001b[1;32m   2299\u001b[0m \u001b[43m    \u001b[49m\u001b[38;5;28;43mself\u001b[39;49m\u001b[43m,\u001b[49m\n\u001b[1;32m   2300\u001b[0m \u001b[43m    \u001b[49m\u001b[43mpath\u001b[49m\u001b[43m,\u001b[49m\n\u001b[1;32m   2301\u001b[0m \u001b[43m    \u001b[49m\u001b[43mmode\u001b[49m\u001b[38;5;241;43m=\u001b[39;49m\u001b[43mmode\u001b[49m\u001b[43m,\u001b[49m\n\u001b[1;32m   2302\u001b[0m \u001b[43m    \u001b[49m\u001b[38;5;28;43mformat\u001b[39;49m\u001b[38;5;241;43m=\u001b[39;49m\u001b[38;5;28;43mformat\u001b[39;49m\u001b[43m,\u001b[49m\n\u001b[1;32m   2303\u001b[0m \u001b[43m    \u001b[49m\u001b[43mgroup\u001b[49m\u001b[38;5;241;43m=\u001b[39;49m\u001b[43mgroup\u001b[49m\u001b[43m,\u001b[49m\n\u001b[1;32m   2304\u001b[0m \u001b[43m    \u001b[49m\u001b[43mengine\u001b[49m\u001b[38;5;241;43m=\u001b[39;49m\u001b[43mengine\u001b[49m\u001b[43m,\u001b[49m\n\u001b[1;32m   2305\u001b[0m \u001b[43m    \u001b[49m\u001b[43mencoding\u001b[49m\u001b[38;5;241;43m=\u001b[39;49m\u001b[43mencoding\u001b[49m\u001b[43m,\u001b[49m\n\u001b[1;32m   2306\u001b[0m \u001b[43m    \u001b[49m\u001b[43munlimited_dims\u001b[49m\u001b[38;5;241;43m=\u001b[39;49m\u001b[43munlimited_dims\u001b[49m\u001b[43m,\u001b[49m\n\u001b[1;32m   2307\u001b[0m \u001b[43m    \u001b[49m\u001b[43mcompute\u001b[49m\u001b[38;5;241;43m=\u001b[39;49m\u001b[43mcompute\u001b[49m\u001b[43m,\u001b[49m\n\u001b[1;32m   2308\u001b[0m \u001b[43m    \u001b[49m\u001b[43mmultifile\u001b[49m\u001b[38;5;241;43m=\u001b[39;49m\u001b[38;5;28;43;01mFalse\u001b[39;49;00m\u001b[43m,\u001b[49m\n\u001b[1;32m   2309\u001b[0m \u001b[43m    \u001b[49m\u001b[43minvalid_netcdf\u001b[49m\u001b[38;5;241;43m=\u001b[39;49m\u001b[43minvalid_netcdf\u001b[49m\u001b[43m,\u001b[49m\n\u001b[1;32m   2310\u001b[0m \u001b[43m\u001b[49m\u001b[43m)\u001b[49m\n",
      "File \u001b[0;32m~/mambaforge-pypy3/envs/Argo_Feb_25/lib/python3.12/site-packages/xarray/backends/api.py:1292\u001b[0m, in \u001b[0;36mto_netcdf\u001b[0;34m(dataset, path_or_file, mode, format, group, engine, encoding, unlimited_dims, compute, multifile, invalid_netcdf)\u001b[0m\n\u001b[1;32m   1290\u001b[0m \u001b[38;5;66;03m# validate Dataset keys, DataArray names, and attr keys/values\u001b[39;00m\n\u001b[1;32m   1291\u001b[0m _validate_dataset_names(dataset)\n\u001b[0;32m-> 1292\u001b[0m \u001b[43m_validate_attrs\u001b[49m\u001b[43m(\u001b[49m\u001b[43mdataset\u001b[49m\u001b[43m,\u001b[49m\u001b[43m \u001b[49m\u001b[43minvalid_netcdf\u001b[49m\u001b[38;5;241;43m=\u001b[39;49m\u001b[43minvalid_netcdf\u001b[49m\u001b[43m \u001b[49m\u001b[38;5;129;43;01mand\u001b[39;49;00m\u001b[43m \u001b[49m\u001b[43mengine\u001b[49m\u001b[43m \u001b[49m\u001b[38;5;241;43m==\u001b[39;49m\u001b[43m \u001b[49m\u001b[38;5;124;43m\"\u001b[39;49m\u001b[38;5;124;43mh5netcdf\u001b[39;49m\u001b[38;5;124;43m\"\u001b[39;49m\u001b[43m)\u001b[49m\n\u001b[1;32m   1294\u001b[0m \u001b[38;5;28;01mtry\u001b[39;00m:\n\u001b[1;32m   1295\u001b[0m     store_open \u001b[38;5;241m=\u001b[39m WRITEABLE_STORES[engine]\n",
      "File \u001b[0;32m~/mambaforge-pypy3/envs/Argo_Feb_25/lib/python3.12/site-packages/xarray/backends/api.py:203\u001b[0m, in \u001b[0;36m_validate_attrs\u001b[0;34m(dataset, invalid_netcdf)\u001b[0m\n\u001b[1;32m    201\u001b[0m \u001b[38;5;66;03m# Check attrs on the dataset itself\u001b[39;00m\n\u001b[1;32m    202\u001b[0m \u001b[38;5;28;01mfor\u001b[39;00m k, v \u001b[38;5;129;01min\u001b[39;00m dataset\u001b[38;5;241m.\u001b[39mattrs\u001b[38;5;241m.\u001b[39mitems():\n\u001b[0;32m--> 203\u001b[0m     \u001b[43mcheck_attr\u001b[49m\u001b[43m(\u001b[49m\u001b[43mk\u001b[49m\u001b[43m,\u001b[49m\u001b[43m \u001b[49m\u001b[43mv\u001b[49m\u001b[43m,\u001b[49m\u001b[43m \u001b[49m\u001b[43mvalid_types\u001b[49m\u001b[43m)\u001b[49m\n\u001b[1;32m    205\u001b[0m \u001b[38;5;66;03m# Check attrs on each variable within the dataset\u001b[39;00m\n\u001b[1;32m    206\u001b[0m \u001b[38;5;28;01mfor\u001b[39;00m variable \u001b[38;5;129;01min\u001b[39;00m dataset\u001b[38;5;241m.\u001b[39mvariables\u001b[38;5;241m.\u001b[39mvalues():\n",
      "File \u001b[0;32m~/mambaforge-pypy3/envs/Argo_Feb_25/lib/python3.12/site-packages/xarray/backends/api.py:195\u001b[0m, in \u001b[0;36m_validate_attrs.<locals>.check_attr\u001b[0;34m(name, value, valid_types)\u001b[0m\n\u001b[1;32m    189\u001b[0m     \u001b[38;5;28;01mraise\u001b[39;00m \u001b[38;5;167;01mTypeError\u001b[39;00m(\n\u001b[1;32m    190\u001b[0m         \u001b[38;5;124mf\u001b[39m\u001b[38;5;124m\"\u001b[39m\u001b[38;5;124mInvalid name for attr: \u001b[39m\u001b[38;5;132;01m{\u001b[39;00mname\u001b[38;5;132;01m!r}\u001b[39;00m\u001b[38;5;124m must be a string for \u001b[39m\u001b[38;5;124m\"\u001b[39m\n\u001b[1;32m    191\u001b[0m         \u001b[38;5;124m\"\u001b[39m\u001b[38;5;124mserialization to netCDF files\u001b[39m\u001b[38;5;124m\"\u001b[39m\n\u001b[1;32m    192\u001b[0m     )\n\u001b[1;32m    194\u001b[0m \u001b[38;5;28;01mif\u001b[39;00m \u001b[38;5;129;01mnot\u001b[39;00m \u001b[38;5;28misinstance\u001b[39m(value, valid_types):\n\u001b[0;32m--> 195\u001b[0m     \u001b[38;5;28;01mraise\u001b[39;00m \u001b[38;5;167;01mTypeError\u001b[39;00m(\n\u001b[1;32m    196\u001b[0m         \u001b[38;5;124mf\u001b[39m\u001b[38;5;124m\"\u001b[39m\u001b[38;5;124mInvalid value for attr \u001b[39m\u001b[38;5;132;01m{\u001b[39;00mname\u001b[38;5;132;01m!r}\u001b[39;00m\u001b[38;5;124m: \u001b[39m\u001b[38;5;132;01m{\u001b[39;00mvalue\u001b[38;5;132;01m!r}\u001b[39;00m\u001b[38;5;124m. For serialization to \u001b[39m\u001b[38;5;124m\"\u001b[39m\n\u001b[1;32m    197\u001b[0m         \u001b[38;5;124m\"\u001b[39m\u001b[38;5;124mnetCDF files, its value must be of one of the following types: \u001b[39m\u001b[38;5;124m\"\u001b[39m\n\u001b[1;32m    198\u001b[0m         \u001b[38;5;124mf\u001b[39m\u001b[38;5;124m\"\u001b[39m\u001b[38;5;132;01m{\u001b[39;00m\u001b[38;5;124m'\u001b[39m\u001b[38;5;124m, \u001b[39m\u001b[38;5;124m'\u001b[39m\u001b[38;5;241m.\u001b[39mjoin([vtype\u001b[38;5;241m.\u001b[39m\u001b[38;5;18m__name__\u001b[39m\u001b[38;5;250m \u001b[39m\u001b[38;5;28;01mfor\u001b[39;00m\u001b[38;5;250m \u001b[39mvtype\u001b[38;5;250m \u001b[39m\u001b[38;5;129;01min\u001b[39;00m\u001b[38;5;250m \u001b[39mvalid_types])\u001b[38;5;132;01m}\u001b[39;00m\u001b[38;5;124m\"\u001b[39m\n\u001b[1;32m    199\u001b[0m     )\n",
      "\u001b[0;31mTypeError\u001b[0m: Invalid value for attr 'raw_attrs': {'raw_attrs': {'title': 'Argo float vertical profile', 'institution': 'FR GDAC', 'source': 'Argo float', 'history': '2019-04-03T16:03:43Z creation', 'references': 'http://www.argodatamgt.org/Documentation', 'user_manual_version': '3.1', 'Conventions': 'Argo-3.1 CF-1.6', 'featureType': 'trajectoryProfile'}, 'Processing_history': \"Transformed with 'profile2point'\"}. For serialization to netCDF files, its value must be of one of the following types: str, Number, ndarray, number, list, tuple"
     ]
    }
   ],
   "source": [
    "ds.to_netcdf(\"/swot/SUM05/amf2288/sync-boxes/globe_load/lon:({},{})_lat:({},{})_ds_z.nc\".format(box[0],box[1],box[2],box[3]))"
   ]
  },
  {
   "cell_type": "code",
   "execution_count": null,
   "metadata": {},
   "outputs": [],
   "source": []
  },
  {
   "cell_type": "markdown",
   "metadata": {},
   "source": [
    "## testing parallel loading with dask client"
   ]
  },
  {
   "cell_type": "code",
   "execution_count": null,
   "metadata": {},
   "outputs": [],
   "source": [
    "from dask.distributed import Client"
   ]
  },
  {
   "cell_type": "code",
   "execution_count": null,
   "metadata": {},
   "outputs": [],
   "source": [
    "client= Client(processes=True)"
   ]
  },
  {
   "cell_type": "code",
   "execution_count": null,
   "metadata": {},
   "outputs": [],
   "source": [
    "print(client)"
   ]
  },
  {
   "cell_type": "code",
   "execution_count": null,
   "metadata": {},
   "outputs": [],
   "source": [
    "box = [-27.5, -22.5, -5, 5, 0, 2001]"
   ]
  },
  {
   "cell_type": "code",
   "execution_count": null,
   "metadata": {},
   "outputs": [],
   "source": [
    "%%time\n",
    "with argopy.set_options(parallel=client):\n",
    "    f = DataFetcher(src='gdac', ftp='/swot/SUM05/dbalwada/Argo_sync', progress=True).region(box)\n",
    "    print('%i chunks to process' % len(f.uri))\n",
    "    print(f)\n",
    "    ds = f.load().data#.to_xarray()"
   ]
  },
  {
   "cell_type": "markdown",
   "metadata": {},
   "source": [
    "Okay the process is running on multiple GPUs, in this case 10-12 machines. However, obviously there are a ton of error messages---I'm not really sure what's going wrong. The box I've started with is really small, so I don't think there should be a memory error. Not sure where to go from here."
   ]
  },
  {
   "cell_type": "markdown",
   "metadata": {},
   "source": [
    "## Load by box (coordinate: N_PROF)"
   ]
  },
  {
   "cell_type": "code",
   "execution_count": 5,
   "metadata": {},
   "outputs": [],
   "source": [
    "#box=[lon_min,lon_max,lat_min,lat_max,depth_min,depth_max]\n",
    "box_atl = [-25,-20,-70,70,0,2001]\n",
    "box_pac = [-180,-175,-70,70,0,2001]\n",
    "box_watl = [-60,-55,10,45,0,2001]\n",
    "box_wpac = [150,155,-5,50,0,2001]\n",
    "box_wind = [60,65,-65,25,0,2001]"
   ]
  },
  {
   "cell_type": "code",
   "execution_count": 6,
   "metadata": {},
   "outputs": [],
   "source": [
    "NW = [-180,0,0,90,0,2001]\n",
    "NE = [0,180,-90,0,0,2001]\n",
    "SW = [-180,0,-90,0,0,2001]\n",
    "SE = [0,-180,-90,0,0,2001]"
   ]
  },
  {
   "cell_type": "code",
   "execution_count": 7,
   "metadata": {},
   "outputs": [],
   "source": [
    "box1 = [-180,-90,  0,90,0,2001]\n",
    "box2 = [- 90,  0,  0,90,0,2001]\n",
    "box3 = [   0, 90,  0,90,0,2001]\n",
    "box4 = [  90,180,  0,90,0,2001]\n",
    "box5 = [-180,-90,-90, 0,0,2001]\n",
    "box6 = [- 90,  0,-90, 0,0,2001]\n",
    "box7 = [   0, 90,-90, 0,0,2001]\n",
    "box8 = [  90,180,-90, 0,0,2001]"
   ]
  },
  {
   "cell_type": "code",
   "execution_count": 8,
   "metadata": {},
   "outputs": [],
   "source": [
    "#pf.plot_box([NW,NE,SW,SE])"
   ]
  },
  {
   "cell_type": "code",
   "execution_count": 55,
   "metadata": {},
   "outputs": [
    {
     "name": "stdout",
     "output_type": "stream",
     "text": [
      "loading points complete\n",
      "to xarray complete\n",
      "point to profile complete\n",
      "interpolation complete\n",
      "adding spice complete\n"
     ]
    }
   ],
   "source": [
    "ds = prf.get_box([-35,-30,-65,-60,0,2000],2)"
   ]
  },
  {
   "cell_type": "code",
   "execution_count": null,
   "metadata": {},
   "outputs": [],
   "source": [
    "ds = ds.assign_attrs({\"Fetched_uri\":''})\n",
    "ds"
   ]
  },
  {
   "cell_type": "code",
   "execution_count": null,
   "metadata": {},
   "outputs": [],
   "source": [
    "ds.to_netcdf(\"/swot/SUM05/amf2288/sync-boxes/lon:({},{})_lat:({},{})_ds_z.nc\".format(NW[0],NW[1],NW[2],NW[3]))"
   ]
  },
  {
   "cell_type": "code",
   "execution_count": null,
   "metadata": {},
   "outputs": [],
   "source": []
  },
  {
   "cell_type": "code",
   "execution_count": null,
   "metadata": {},
   "outputs": [],
   "source": []
  },
  {
   "cell_type": "code",
   "execution_count": null,
   "metadata": {},
   "outputs": [],
   "source": [
    "box_1x = [-10,0,-10,0,0,2000]   #error\n",
    "box_1y = [-10,0,-20,-10,0,2000] #done\n",
    "box_1z = [-10,0,-30,-20,0,2000] #done\n",
    "box_1a = [-10,0,-40,-30,0,2000] #done\n",
    "box_1b = [-10,0,-50,-40,0,2000] #done\n",
    "box_1c = [-10,0,-60,-50,0,2000] #done\n",
    "box_1d = [-10,0,-70,-60,0,2000] #done\n",
    "box_long=[-10,-8,-70,-10,0,2000]"
   ]
  },
  {
   "cell_type": "code",
   "execution_count": null,
   "metadata": {},
   "outputs": [],
   "source": [
    "pf.plot_box([box_1x,box_1y,box_1z,box_1a,box_1b,box_1c,box_1d,box_long])"
   ]
  },
  {
   "cell_type": "code",
   "execution_count": null,
   "metadata": {},
   "outputs": [],
   "source": [
    "ds_z=ff.get_box(box_long,4)"
   ]
  },
  {
   "cell_type": "code",
   "execution_count": null,
   "metadata": {},
   "outputs": [],
   "source": [
    "ds['N_PROF'].attrs = {'name':'Fetched Profile Number'}\n",
    "ds['PRES_INTERPOLATED'].attrs = {'name':'Interpolated Pressure', 'units':'dbar', 'notes':'interpolated to standard pressure grid of 2m'}\n",
    "\n",
    "ds['N_PROF_NEW'].attrs = {'name':'Sequential Profile Number'}\n",
    "ds['LATITUDE'].attrs = {'name':'Latitude', 'units':'°N'}\n",
    "ds['LONGITUDE'].attrs = {'name':'Longitude', 'units':'°E'}\n",
    "ds['month'].attrs = {'name':'Month'}\n",
    "ds['year'].attrs = {'name':'Year'}\n",
    "ds['MLD'].attrs = {'name':'Mixed Layer Depth', 'units':'m'}\n",
    "\n",
    "ds['CT'].attrs = {'name':'Conservative Temperature', 'units':'°C'}\n",
    "ds['SA'].attrs = {'name':'Absolute Salinity', 'units':'g kg-1'}\n",
    "ds['SIG0'].attrs = {'name':'Potential Density', 'units':'kg m-1', 'notes':'referenced to 0 dbar'}\n",
    "ds['SPICE'].attrs = {'name':'Spiciness', 'units':'kg m-1', 'notes':'referenced to 0 dbar'}                  \n",
    "ds = ds.assign_attrs({\"Fetched_uri\":''})"
   ]
  },
  {
   "cell_type": "code",
   "execution_count": null,
   "metadata": {},
   "outputs": [],
   "source": [
    "ds_z"
   ]
  },
  {
   "cell_type": "code",
   "execution_count": null,
   "metadata": {},
   "outputs": [],
   "source": [
    "plt.scatter(ds_z.LONGITUDE, ds_z.LATITUDE)"
   ]
  },
  {
   "cell_type": "code",
   "execution_count": null,
   "metadata": {},
   "outputs": [],
   "source": [
    "ds_z.to_netcdf(\"202206_boxes/lon:({},{})_lat:({},{})_ds_z.nc\".format(box_long[0],box_long[1],box_long[2],box_long[3]))"
   ]
  },
  {
   "cell_type": "code",
   "execution_count": null,
   "metadata": {},
   "outputs": [],
   "source": []
  },
  {
   "cell_type": "code",
   "execution_count": null,
   "metadata": {},
   "outputs": [],
   "source": []
  },
  {
   "cell_type": "code",
   "execution_count": null,
   "metadata": {},
   "outputs": [],
   "source": []
  },
  {
   "cell_type": "code",
   "execution_count": null,
   "metadata": {},
   "outputs": [],
   "source": [
    "erddap_loader=ArgoDataFetcher(src'erddap',parallel=True,progress=True)"
   ]
  },
  {
   "cell_type": "code",
   "execution_count": null,
   "metadata": {},
   "outputs": [],
   "source": [
    "gmaze_loader=ArgoDataFetcher(src='gdac',ftp='https://data-argo.ifremer.fr/',parallel=True,progress=True)"
   ]
  },
  {
   "cell_type": "code",
   "execution_count": null,
   "metadata": {},
   "outputs": [],
   "source": [
    "usa_loader=ArgoDataFetcher(src='gdac',ftp='ftp://usgodae.org/pub/outgoing/argo',parallel=True,progress=True)"
   ]
  },
  {
   "cell_type": "code",
   "execution_count": null,
   "metadata": {},
   "outputs": [],
   "source": [
    "ds=argo_loader.region(box_1x)\n",
    "print('loading points complete')\n",
    "ds=ds.to_xarray()\n",
    "print('to xarray complete')"
   ]
  },
  {
   "cell_type": "code",
   "execution_count": null,
   "metadata": {},
   "outputs": [],
   "source": [
    "ds=ds.argo.teos10(['CT','SA','SIG0'])\n",
    "ds=ds.argo.point2profile()\n",
    "print('point to profile complete')"
   ]
  },
  {
   "cell_type": "code",
   "execution_count": null,
   "metadata": {},
   "outputs": [],
   "source": []
  },
  {
   "cell_type": "code",
   "execution_count": null,
   "metadata": {},
   "outputs": [],
   "source": []
  },
  {
   "cell_type": "code",
   "execution_count": null,
   "metadata": {},
   "outputs": [],
   "source": []
  },
  {
   "cell_type": "code",
   "execution_count": null,
   "metadata": {},
   "outputs": [],
   "source": []
  },
  {
   "cell_type": "code",
   "execution_count": null,
   "metadata": {},
   "outputs": [],
   "source": []
  },
  {
   "cell_type": "code",
   "execution_count": null,
   "metadata": {},
   "outputs": [],
   "source": []
  },
  {
   "cell_type": "code",
   "execution_count": null,
   "metadata": {},
   "outputs": [],
   "source": []
  },
  {
   "cell_type": "code",
   "execution_count": null,
   "metadata": {},
   "outputs": [],
   "source": []
  },
  {
   "cell_type": "code",
   "execution_count": null,
   "metadata": {},
   "outputs": [],
   "source": []
  },
  {
   "cell_type": "code",
   "execution_count": null,
   "metadata": {},
   "outputs": [],
   "source": []
  },
  {
   "cell_type": "code",
   "execution_count": null,
   "metadata": {},
   "outputs": [],
   "source": []
  },
  {
   "cell_type": "code",
   "execution_count": null,
   "metadata": {},
   "outputs": [],
   "source": []
  },
  {
   "cell_type": "code",
   "execution_count": null,
   "metadata": {},
   "outputs": [],
   "source": [
    "def test_get_box(box,sample_min):\n",
    "    '''Takes latitude/longitude/depth data and a sample rate and returns an xarray with CT, SA, SIG0, and SPICE interpolated to a pressure grid of 2m. \n",
    "    \n",
    "    box: lat/lon in the form: box=[lon_min, lon_max, lat_min, lat_max, depth_min, depth_max]\n",
    "    sample_min: minimum sample rate [m]\n",
    "    '''\n",
    "    \n",
    "    ds=argo_loader.region(box)\n",
    "    print('loading points complete')\n",
    "    \n",
    "    ds=ds.to_xarray()\n",
    "    print('to xarray complete')\n",
    "    \n",
    "    ds=ds.argo.teos10(['CT','SA','SIG0'])\n",
    "    ds=ds.argo.point2profile()\n",
    "    print('point to profile complete')\n",
    "    \n",
    "    ds_interp=get_ds_interp(ds,0,2000,sample_min)\n",
    "    print('interpolation complete')\n",
    "    \n",
    "    ds_interp['SPICE'] = gsw.spiciness0(ds_interp.SA,ds_interp.CT).rename('SPICE')\n",
    "    print('adding spice complete')\n",
    "        \n",
    "    return ds_interp"
   ]
  },
  {
   "cell_type": "code",
   "execution_count": null,
   "metadata": {},
   "outputs": [],
   "source": [
    "test = test_get_box(box_medi,4)"
   ]
  },
  {
   "cell_type": "code",
   "execution_count": null,
   "metadata": {},
   "outputs": [],
   "source": [
    "ds=argo_loader.region(box_medi)"
   ]
  },
  {
   "cell_type": "code",
   "execution_count": null,
   "metadata": {},
   "outputs": [],
   "source": [
    "ds = ds.data"
   ]
  },
  {
   "cell_type": "code",
   "execution_count": null,
   "metadata": {},
   "outputs": [],
   "source": [
    "ds"
   ]
  },
  {
   "cell_type": "code",
   "execution_count": null,
   "metadata": {},
   "outputs": [],
   "source": [
    "ds.PSAL.dropna('N_POINTS')"
   ]
  },
  {
   "cell_type": "code",
   "execution_count": null,
   "metadata": {},
   "outputs": [],
   "source": [
    "for n in range(0,len(ds.N_PROF)):\n",
    "    "
   ]
  },
  {
   "cell_type": "code",
   "execution_count": null,
   "metadata": {},
   "outputs": [],
   "source": [
    "'''\n",
    "methods are also functions, but specific to the class they're applied to\n",
    "class (animals) --> subclass (dogs) --> object (golden retriever)\n",
    "open_mfdataset() from xarray, for opening data in multiple netcdfs\n",
    "1) write loop opening all files yourself, check for PSAL, if not there remove file\n",
    "2) go into open_mfdataset() and see if there's a loop there to exploit instead\n",
    "\n",
    "locally install repo (pip install -e??)\n",
    "uses the code from the local repo instead\n",
    "then make changes to repo: print statement in part of the code we think is happening\n",
    "then work on loops, etc.\n",
    "\n",
    "\n",
    "'''"
   ]
  },
  {
   "cell_type": "code",
   "execution_count": null,
   "metadata": {},
   "outputs": [],
   "source": [
    "def to_xarray(self, errors: str = \"ignore\"):\n",
    "        \"\"\" Load Argo data and return a :class:`xarray.Dataset`\n",
    "\n",
    "        Parameters\n",
    "        ----------\n",
    "        errors: str, default='ignore'\n",
    "            Define how to handle errors raised during data URIs fetching:\n",
    "\n",
    "                - 'ignore' (default): Do not stop processing, simply issue a debug message in logging console\n",
    "                - 'silent':  Do not stop processing and do not issue log message\n",
    "                - 'raise': Raise any error encountered\n",
    "\n",
    "        Returns\n",
    "        -------\n",
    "        :class:`xarray.Dataset`\n",
    "        \"\"\"\n",
    "        if (\n",
    "            len(self.uri) > 50\n",
    "            and isinstance(self.method, str)\n",
    "            and self.method == \"sequential\"\n",
    "        ):\n",
    "            warnings.warn(\n",
    "                \"Found more than 50 files to load, this may take a while to process sequentially ! \"\n",
    "                \"Consider using another data source (eg: 'erddap') or the 'parallel=True' option to improve processing time.\"\n",
    "            )\n",
    "        elif len(self.uri) == 0:\n",
    "            raise DataNotFound(\"No data found for: %s\" % self.indexfs.cname)\n",
    "\n",
    "        # Download data:\n",
    "        ds = self.fs.open_mfdataset(\n",
    "            self.uri, #list of all float files?\n",
    "            method=self.method,\n",
    "            concat_dim=\"N_POINTS\",\n",
    "            concat=True,\n",
    "            preprocess=self._preprocess_multiprof,\n",
    "            progress=self.progress,\n",
    "            errors=errors,\n",
    "            open_dataset_opts={'xr_opts': {'decode_cf': 1, 'use_cftime': 0, 'mask_and_scale': 1}},\n",
    "        )\n",
    "\n",
    "        # Data post-processing:\n",
    "        ds[\"N_POINTS\"] = np.arange(\n",
    "            0, len(ds[\"N_POINTS\"])\n",
    "        )  # Re-index to avoid duplicate values\n",
    "        ds = ds.set_coords(\"N_POINTS\")\n",
    "        ds = ds.sortby(\"TIME\")\n",
    "\n",
    "        # Remove netcdf file attributes and replace them with simplified argopy ones:\n",
    "        ds.attrs = {}\n",
    "        if self.dataset_id == \"phy\":\n",
    "            ds.attrs[\"DATA_ID\"] = \"ARGO\"\n",
    "        if self.dataset_id == \"bgc\":\n",
    "            ds.attrs[\"DATA_ID\"] = \"ARGO-BGC\"\n",
    "        ds.attrs[\"DOI\"] = \"http://doi.org/10.17882/42182\"\n",
    "        ds.attrs[\"Fetched_from\"] = self.server\n",
    "        ds.attrs[\"Fetched_by\"] = getpass.getuser()\n",
    "        ds.attrs[\"Fetched_date\"] = pd.to_datetime(\"now\", utc=True).strftime(\"%Y/%m/%d\")\n",
    "        ds.attrs[\"Fetched_constraints\"] = self.cname()\n",
    "        if len(self.uri) == 1:\n",
    "            ds.attrs[\"Fetched_uri\"] = self.uri[0]\n",
    "        else:\n",
    "            ds.attrs[\"Fetched_uri\"] = \";\".join(self.uri)\n",
    "\n",
    "        return ds"
   ]
  },
  {
   "cell_type": "code",
   "execution_count": null,
   "metadata": {},
   "outputs": [],
   "source": []
  },
  {
   "cell_type": "code",
   "execution_count": null,
   "metadata": {},
   "outputs": [],
   "source": []
  },
  {
   "cell_type": "code",
   "execution_count": null,
   "metadata": {},
   "outputs": [],
   "source": [
    "print(ds_z.SIG0.values.min(), ds_z.SIG0.values.max())"
   ]
  },
  {
   "cell_type": "code",
   "execution_count": null,
   "metadata": {},
   "outputs": [],
   "source": [
    "rho_grid = np.linspace(26.6, 28, 1001)"
   ]
  },
  {
   "cell_type": "code",
   "execution_count": null,
   "metadata": {},
   "outputs": [],
   "source": [
    "ds_rho = df.interpolate2density_prof(ds_z, rho_grid)"
   ]
  },
  {
   "cell_type": "code",
   "execution_count": null,
   "metadata": {},
   "outputs": [],
   "source": [
    "ds_rho"
   ]
  },
  {
   "cell_type": "code",
   "execution_count": null,
   "metadata": {},
   "outputs": [],
   "source": [
    "ds_rho.to_netcdf(\"202206_boxes/lon:({},{})_lat:({},{})_ds_rho.nc\".format(box[0],box[1],box[2],box[3]))"
   ]
  },
  {
   "cell_type": "markdown",
   "metadata": {},
   "source": [
    "## Load by float (coordinate: distance)"
   ]
  },
  {
   "cell_type": "code",
   "execution_count": null,
   "metadata": {},
   "outputs": [],
   "source": [
    "float_ID = 6901265"
   ]
  },
  {
   "cell_type": "code",
   "execution_count": null,
   "metadata": {},
   "outputs": [],
   "source": [
    "ds_z = ff.get_float(float_ID, 4)"
   ]
  },
  {
   "cell_type": "code",
   "execution_count": null,
   "metadata": {},
   "outputs": [],
   "source": [
    "ds_z = ds_z.assign_attrs({\"Fetched_uri\":''})"
   ]
  },
  {
   "cell_type": "code",
   "execution_count": null,
   "metadata": {},
   "outputs": [],
   "source": [
    "ds_z"
   ]
  },
  {
   "cell_type": "code",
   "execution_count": null,
   "metadata": {},
   "outputs": [],
   "source": [
    "ds_z.to_netcdf(\"202206_floats/float_ID:({})_ds_z.nc\".format(float_ID))"
   ]
  },
  {
   "cell_type": "code",
   "execution_count": null,
   "metadata": {},
   "outputs": [],
   "source": []
  },
  {
   "cell_type": "code",
   "execution_count": null,
   "metadata": {},
   "outputs": [],
   "source": [
    "print(ds_z.SIG0.values.min(), ds_z.SIG0.values.max())"
   ]
  },
  {
   "cell_type": "code",
   "execution_count": null,
   "metadata": {},
   "outputs": [],
   "source": [
    "rho_grid = np.linspace(26.4, 28, 1001)"
   ]
  },
  {
   "cell_type": "code",
   "execution_count": null,
   "metadata": {},
   "outputs": [],
   "source": [
    "ds_rho = df.interpolate2density_prof(ds_z, rho_grid)"
   ]
  },
  {
   "cell_type": "code",
   "execution_count": null,
   "metadata": {},
   "outputs": [],
   "source": [
    "ds_rho"
   ]
  },
  {
   "cell_type": "code",
   "execution_count": null,
   "metadata": {},
   "outputs": [],
   "source": [
    "ds_rho.to_netcdf(\"202206_floats/float_ID:({})_ds_rho.nc\".format(float_ID))"
   ]
  },
  {
   "cell_type": "markdown",
   "metadata": {},
   "source": [
    "## Loading Boxes by Degree"
   ]
  },
  {
   "cell_type": "code",
   "execution_count": null,
   "metadata": {},
   "outputs": [],
   "source": [
    "lons = np.arange(-180,181,4)\n",
    "lats = np.arange(-90,91,4)\n",
    "\n",
    "boxes=[]\n",
    "\n",
    "for n in range(0,len(lons)-1):\n",
    "    for m in range(0,len(lats-1)):\n",
    "        lon_min = lons[n]\n",
    "        lon_max = lons[n+1]\n",
    "        lat_min = lats[n]\n",
    "        lat_max = lats[n+1]\n",
    "        box_n = np.array([lon_min, lon_max, lat_min, lat_max])\n",
    "        boxes.append(box_n)"
   ]
  },
  {
   "cell_type": "code",
   "execution_count": null,
   "metadata": {},
   "outputs": [],
   "source": [
    "n=0\n",
    "lons[n+1]"
   ]
  },
  {
   "cell_type": "code",
   "execution_count": null,
   "metadata": {},
   "outputs": [],
   "source": []
  },
  {
   "cell_type": "code",
   "execution_count": null,
   "metadata": {},
   "outputs": [],
   "source": []
  },
  {
   "cell_type": "code",
   "execution_count": null,
   "metadata": {},
   "outputs": [],
   "source": []
  },
  {
   "cell_type": "code",
   "execution_count": null,
   "metadata": {},
   "outputs": [],
   "source": []
  },
  {
   "cell_type": "code",
   "execution_count": null,
   "metadata": {},
   "outputs": [],
   "source": []
  },
  {
   "cell_type": "code",
   "execution_count": null,
   "metadata": {},
   "outputs": [],
   "source": []
  },
  {
   "cell_type": "code",
   "execution_count": null,
   "metadata": {},
   "outputs": [],
   "source": []
  },
  {
   "cell_type": "code",
   "execution_count": null,
   "metadata": {},
   "outputs": [],
   "source": []
  },
  {
   "cell_type": "code",
   "execution_count": null,
   "metadata": {},
   "outputs": [],
   "source": [
    "from argopy import IndexFetcher as ArgoIndexFetcher\n",
    "\n",
    "box_bad=[-15,-14,36.5,37]#, '2000-01-01', '2021-06'] # need to remove pressure poinds because the region function for this index fetcher seems a bit different.\n",
    "\n",
    "idx = ArgoIndexFetcher(src='gdac',dataset='phy',mode='standard',\n",
    "                            ftp=\"/swot/SUM05/dbalwada/202203-ArgoData\").region(box_bad).load()\n",
    "idx.index"
   ]
  },
  {
   "cell_type": "code",
   "execution_count": null,
   "metadata": {},
   "outputs": [],
   "source": [
    "float_IDs = [1900041,1900749,]"
   ]
  },
  {
   "cell_type": "code",
   "execution_count": null,
   "metadata": {},
   "outputs": [],
   "source": []
  }
 ],
 "metadata": {
  "kernelspec": {
   "display_name": "Python [conda env:Argo_Feb_25]",
   "language": "python",
   "name": "conda-env-Argo_Feb_25-py"
  },
  "language_info": {
   "codemirror_mode": {
    "name": "ipython",
    "version": 3
   },
   "file_extension": ".py",
   "mimetype": "text/x-python",
   "name": "python",
   "nbconvert_exporter": "python",
   "pygments_lexer": "ipython3",
   "version": "3.12.9"
  }
 },
 "nbformat": 4,
 "nbformat_minor": 2
}
