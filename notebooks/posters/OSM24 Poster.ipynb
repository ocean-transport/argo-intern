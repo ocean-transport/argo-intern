{
 "cells": [
  {
   "cell_type": "markdown",
   "metadata": {},
   "source": [
    "# OSM24 Poster"
   ]
  },
  {
   "cell_type": "code",
   "execution_count": 1,
   "metadata": {},
   "outputs": [],
   "source": [
    "import xarray as xr\n",
    "import matplotlib.pyplot as plt\n",
    "import matplotlib as mpl\n",
    "from matplotlib.path import Path\n",
    "import seaborn as sns\n",
    "import seaborn\n",
    "import pandas as pd\n",
    "import numpy as np\n",
    "from importlib import reload\n",
    "import cartopy.crs as ccrs\n",
    "import cmocean.cm as cmo\n",
    "import gsw"
   ]
  },
  {
   "cell_type": "code",
   "execution_count": 11,
   "metadata": {},
   "outputs": [],
   "source": [
    "import os\n",
    "os.chdir('/home.ufs/amf2288/argo-intern/funcs')\n",
    "import density_funcs as df\n",
    "import EV_funcs as ef\n",
    "import filt_funcs as ff\n",
    "import plot_funcs as pf\n",
    "import processing_funcs as prf"
   ]
  },
  {
   "cell_type": "code",
   "execution_count": 12,
   "metadata": {},
   "outputs": [],
   "source": [
    "os.chdir('/home.ufs/amf2288/argo-intern')"
   ]
  },
  {
   "cell_type": "code",
   "execution_count": 3,
   "metadata": {},
   "outputs": [
    {
     "data": {
      "text/plain": [
       "<module 'processing_funcs' from '/home/amf2288/argo-intern/funcs/processing_funcs.py'>"
      ]
     },
     "execution_count": 3,
     "metadata": {},
     "output_type": "execute_result"
    }
   ],
   "source": [
    "reload(prf)"
   ]
  },
  {
   "cell_type": "code",
   "execution_count": 4,
   "metadata": {},
   "outputs": [],
   "source": [
    "font = {'family' : 'normal',\n",
    "        'size'   : 24}\n",
    "\n",
    "mpl.rc('font', **font)"
   ]
  },
  {
   "cell_type": "code",
   "execution_count": 5,
   "metadata": {},
   "outputs": [],
   "source": [
    "atl = xr.open_dataset('/swot/SUM05/amf2288/sync-boxes/lon:(-25,-20)_lat:(-70,70)_ds_z.nc')\n",
    "#atl = prf.get_MLD(atl)\n",
    "pac = xr.open_dataset('/swot/SUM05/amf2288/sync-boxes/lon:(-180,-175)_lat:(-70,70)_ds_z.nc')\n",
    "#pac = prf.get_MLD(pac)\n",
    "watl = xr.open_dataset('/swot/SUM05/amf2288/sync-boxes/lon:(-60,-55)_lat:(10,45)_ds_z.nc')\n",
    "#watl = prf.get_MLD(watl)\n",
    "wpac = xr.open_dataset('/swot/SUM05/amf2288/sync-boxes/lon:(150,155)_lat:(-5,50)_ds_z.nc')\n",
    "#wpac = prf.get_MLD(wpac)\n",
    "wind = xr.open_dataset('/swot/SUM05/amf2288/sync-boxes/lon:(60,65)_lat:(-65,25)_ds_z.nc')\n",
    "#wind = prf.get_MLD(wind)"
   ]
  },
  {
   "cell_type": "code",
   "execution_count": 6,
   "metadata": {},
   "outputs": [],
   "source": [
    "watl = prf.get_MLD(watl)"
   ]
  },
  {
   "cell_type": "code",
   "execution_count": 7,
   "metadata": {},
   "outputs": [],
   "source": [
    "wpac = prf.get_MLD(wpac)"
   ]
  },
  {
   "cell_type": "code",
   "execution_count": 8,
   "metadata": {},
   "outputs": [
    {
     "ename": "IndexError",
     "evalue": "index -1 is out of bounds for axis 0 with size 0",
     "output_type": "error",
     "traceback": [
      "\u001b[0;31m---------------------------------------------------------------------------\u001b[0m",
      "\u001b[0;31mIndexError\u001b[0m                                Traceback (most recent call last)",
      "Cell \u001b[0;32mIn[8], line 1\u001b[0m\n\u001b[0;32m----> 1\u001b[0m wind \u001b[38;5;241m=\u001b[39m \u001b[43mprf\u001b[49m\u001b[38;5;241;43m.\u001b[39;49m\u001b[43mget_MLD\u001b[49m\u001b[43m(\u001b[49m\u001b[43mwind\u001b[49m\u001b[43m)\u001b[49m\n",
      "File \u001b[0;32m/home/amf2288/argo-intern/funcs/processing_funcs.py:168\u001b[0m, in \u001b[0;36mget_MLD\u001b[0;34m(ds, threshold, variable, dim1, dim2)\u001b[0m\n\u001b[1;32m    166\u001b[0m     SIG0_diff \u001b[38;5;241m=\u001b[39m SIG0_surface \u001b[38;5;241m+\u001b[39m threshold\n\u001b[1;32m    167\u001b[0m     MLD_ds \u001b[38;5;241m=\u001b[39m SIG0_surface\u001b[38;5;241m.\u001b[39mwhere(ds\u001b[38;5;241m.\u001b[39misel({dim1: n})[variable] \u001b[38;5;241m<\u001b[39m SIG0_diff)\n\u001b[0;32m--> 168\u001b[0m     MLD \u001b[38;5;241m=\u001b[39m \u001b[43mMLD_ds\u001b[49m\u001b[38;5;241;43m.\u001b[39;49m\u001b[43mdropna\u001b[49m\u001b[43m(\u001b[49m\u001b[43mdim2\u001b[49m\u001b[43m)\u001b[49m\u001b[38;5;241;43m.\u001b[39;49m\u001b[43misel\u001b[49m\u001b[43m(\u001b[49m\u001b[43m{\u001b[49m\u001b[43mdim2\u001b[49m\u001b[43m:\u001b[49m\u001b[43m \u001b[49m\u001b[38;5;241;43m-\u001b[39;49m\u001b[38;5;241;43m1\u001b[39;49m\u001b[43m}\u001b[49m\u001b[43m)\u001b[49m[dim2]\u001b[38;5;241m.\u001b[39mvalues\n\u001b[1;32m    169\u001b[0m     MLD_li\u001b[38;5;241m.\u001b[39mappend(MLD)\n\u001b[1;32m    171\u001b[0m \u001b[38;5;28;01mreturn\u001b[39;00m ds\u001b[38;5;241m.\u001b[39massign_coords(MLD\u001b[38;5;241m=\u001b[39m(dim1, MLD_li))\n",
      "File \u001b[0;32m/home/amf2288/mambaforge-pypy3/envs/argo_Aug_23/lib/python3.10/site-packages/xarray/core/dataarray.py:1421\u001b[0m, in \u001b[0;36mDataArray.isel\u001b[0;34m(self, indexers, drop, missing_dims, **indexers_kwargs)\u001b[0m\n\u001b[1;32m   1416\u001b[0m     \u001b[38;5;28;01mreturn\u001b[39;00m \u001b[38;5;28mself\u001b[39m\u001b[38;5;241m.\u001b[39m_from_temp_dataset(ds)\n\u001b[1;32m   1418\u001b[0m \u001b[38;5;66;03m# Much faster algorithm for when all indexers are ints, slices, one-dimensional\u001b[39;00m\n\u001b[1;32m   1419\u001b[0m \u001b[38;5;66;03m# lists, or zero or one-dimensional np.ndarray's\u001b[39;00m\n\u001b[0;32m-> 1421\u001b[0m variable \u001b[38;5;241m=\u001b[39m \u001b[38;5;28;43mself\u001b[39;49m\u001b[38;5;241;43m.\u001b[39;49m\u001b[43m_variable\u001b[49m\u001b[38;5;241;43m.\u001b[39;49m\u001b[43misel\u001b[49m\u001b[43m(\u001b[49m\u001b[43mindexers\u001b[49m\u001b[43m,\u001b[49m\u001b[43m \u001b[49m\u001b[43mmissing_dims\u001b[49m\u001b[38;5;241;43m=\u001b[39;49m\u001b[43mmissing_dims\u001b[49m\u001b[43m)\u001b[49m\n\u001b[1;32m   1422\u001b[0m indexes, index_variables \u001b[38;5;241m=\u001b[39m isel_indexes(\u001b[38;5;28mself\u001b[39m\u001b[38;5;241m.\u001b[39mxindexes, indexers)\n\u001b[1;32m   1424\u001b[0m coords \u001b[38;5;241m=\u001b[39m {}\n",
      "File \u001b[0;32m/home/amf2288/mambaforge-pypy3/envs/argo_Aug_23/lib/python3.10/site-packages/xarray/core/variable.py:1378\u001b[0m, in \u001b[0;36mVariable.isel\u001b[0;34m(self, indexers, missing_dims, **indexers_kwargs)\u001b[0m\n\u001b[1;32m   1375\u001b[0m indexers \u001b[38;5;241m=\u001b[39m drop_dims_from_indexers(indexers, \u001b[38;5;28mself\u001b[39m\u001b[38;5;241m.\u001b[39mdims, missing_dims)\n\u001b[1;32m   1377\u001b[0m key \u001b[38;5;241m=\u001b[39m \u001b[38;5;28mtuple\u001b[39m(indexers\u001b[38;5;241m.\u001b[39mget(dim, \u001b[38;5;28mslice\u001b[39m(\u001b[38;5;28;01mNone\u001b[39;00m)) \u001b[38;5;28;01mfor\u001b[39;00m dim \u001b[38;5;129;01min\u001b[39;00m \u001b[38;5;28mself\u001b[39m\u001b[38;5;241m.\u001b[39mdims)\n\u001b[0;32m-> 1378\u001b[0m \u001b[38;5;28;01mreturn\u001b[39;00m \u001b[38;5;28;43mself\u001b[39;49m\u001b[43m[\u001b[49m\u001b[43mkey\u001b[49m\u001b[43m]\u001b[49m\n",
      "File \u001b[0;32m/home/amf2288/mambaforge-pypy3/envs/argo_Aug_23/lib/python3.10/site-packages/xarray/core/variable.py:900\u001b[0m, in \u001b[0;36mVariable.__getitem__\u001b[0;34m(self, key)\u001b[0m\n\u001b[1;32m    887\u001b[0m \u001b[38;5;250m\u001b[39m\u001b[38;5;124;03m\"\"\"Return a new Variable object whose contents are consistent with\u001b[39;00m\n\u001b[1;32m    888\u001b[0m \u001b[38;5;124;03mgetting the provided key from the underlying data.\u001b[39;00m\n\u001b[1;32m    889\u001b[0m \n\u001b[0;32m   (...)\u001b[0m\n\u001b[1;32m    897\u001b[0m \u001b[38;5;124;03marray `x.values` directly.\u001b[39;00m\n\u001b[1;32m    898\u001b[0m \u001b[38;5;124;03m\"\"\"\u001b[39;00m\n\u001b[1;32m    899\u001b[0m dims, indexer, new_order \u001b[38;5;241m=\u001b[39m \u001b[38;5;28mself\u001b[39m\u001b[38;5;241m.\u001b[39m_broadcast_indexes(key)\n\u001b[0;32m--> 900\u001b[0m data \u001b[38;5;241m=\u001b[39m \u001b[43mas_indexable\u001b[49m\u001b[43m(\u001b[49m\u001b[38;5;28;43mself\u001b[39;49m\u001b[38;5;241;43m.\u001b[39;49m\u001b[43m_data\u001b[49m\u001b[43m)\u001b[49m\u001b[43m[\u001b[49m\u001b[43mindexer\u001b[49m\u001b[43m]\u001b[49m\n\u001b[1;32m    901\u001b[0m \u001b[38;5;28;01mif\u001b[39;00m new_order:\n\u001b[1;32m    902\u001b[0m     data \u001b[38;5;241m=\u001b[39m np\u001b[38;5;241m.\u001b[39mmoveaxis(data, \u001b[38;5;28mrange\u001b[39m(\u001b[38;5;28mlen\u001b[39m(new_order)), new_order)\n",
      "File \u001b[0;32m/home/amf2288/mambaforge-pypy3/envs/argo_Aug_23/lib/python3.10/site-packages/xarray/core/indexing.py:1333\u001b[0m, in \u001b[0;36mNumpyIndexingAdapter.__getitem__\u001b[0;34m(self, key)\u001b[0m\n\u001b[1;32m   1331\u001b[0m \u001b[38;5;28;01mdef\u001b[39;00m \u001b[38;5;21m__getitem__\u001b[39m(\u001b[38;5;28mself\u001b[39m, key):\n\u001b[1;32m   1332\u001b[0m     array, key \u001b[38;5;241m=\u001b[39m \u001b[38;5;28mself\u001b[39m\u001b[38;5;241m.\u001b[39m_indexing_array_and_key(key)\n\u001b[0;32m-> 1333\u001b[0m     \u001b[38;5;28;01mreturn\u001b[39;00m \u001b[43marray\u001b[49m\u001b[43m[\u001b[49m\u001b[43mkey\u001b[49m\u001b[43m]\u001b[49m\n",
      "\u001b[0;31mIndexError\u001b[0m: index -1 is out of bounds for axis 0 with size 0"
     ]
    }
   ],
   "source": [
    "wind = prf.get_MLD(wind)"
   ]
  },
  {
   "cell_type": "markdown",
   "metadata": {},
   "source": [
    "### Motivation"
   ]
  },
  {
   "cell_type": "code",
   "execution_count": 13,
   "metadata": {},
   "outputs": [
    {
     "ename": "FileNotFoundError",
     "evalue": "[Errno 2] No such file or directory: '/SWIR_ACC_glider_tracer_analysis/data/sg_659_4m_binned.nc'",
     "output_type": "error",
     "traceback": [
      "\u001b[0;31m---------------------------------------------------------------------------\u001b[0m",
      "\u001b[0;31mKeyError\u001b[0m                                  Traceback (most recent call last)",
      "File \u001b[0;32m/home/amf2288/mambaforge-pypy3/envs/argo_Aug_23/lib/python3.10/site-packages/xarray/backends/file_manager.py:211\u001b[0m, in \u001b[0;36mCachingFileManager._acquire_with_cache_info\u001b[0;34m(self, needs_lock)\u001b[0m\n\u001b[1;32m    210\u001b[0m \u001b[38;5;28;01mtry\u001b[39;00m:\n\u001b[0;32m--> 211\u001b[0m     file \u001b[38;5;241m=\u001b[39m \u001b[38;5;28;43mself\u001b[39;49m\u001b[38;5;241;43m.\u001b[39;49m\u001b[43m_cache\u001b[49m\u001b[43m[\u001b[49m\u001b[38;5;28;43mself\u001b[39;49m\u001b[38;5;241;43m.\u001b[39;49m\u001b[43m_key\u001b[49m\u001b[43m]\u001b[49m\n\u001b[1;32m    212\u001b[0m \u001b[38;5;28;01mexcept\u001b[39;00m \u001b[38;5;167;01mKeyError\u001b[39;00m:\n",
      "File \u001b[0;32m/home/amf2288/mambaforge-pypy3/envs/argo_Aug_23/lib/python3.10/site-packages/xarray/backends/lru_cache.py:56\u001b[0m, in \u001b[0;36mLRUCache.__getitem__\u001b[0;34m(self, key)\u001b[0m\n\u001b[1;32m     55\u001b[0m \u001b[38;5;28;01mwith\u001b[39;00m \u001b[38;5;28mself\u001b[39m\u001b[38;5;241m.\u001b[39m_lock:\n\u001b[0;32m---> 56\u001b[0m     value \u001b[38;5;241m=\u001b[39m \u001b[38;5;28;43mself\u001b[39;49m\u001b[38;5;241;43m.\u001b[39;49m\u001b[43m_cache\u001b[49m\u001b[43m[\u001b[49m\u001b[43mkey\u001b[49m\u001b[43m]\u001b[49m\n\u001b[1;32m     57\u001b[0m     \u001b[38;5;28mself\u001b[39m\u001b[38;5;241m.\u001b[39m_cache\u001b[38;5;241m.\u001b[39mmove_to_end(key)\n",
      "\u001b[0;31mKeyError\u001b[0m: [<class 'netCDF4._netCDF4.Dataset'>, ('/SWIR_ACC_glider_tracer_analysis/data/sg_659_4m_binned.nc',), 'r', (('clobber', True), ('diskless', False), ('format', 'NETCDF4'), ('persist', False)), 'e3aab6d1-9eb6-4070-9c0c-97f8b7f1d62a']",
      "\nDuring handling of the above exception, another exception occurred:\n",
      "\u001b[0;31mFileNotFoundError\u001b[0m                         Traceback (most recent call last)",
      "Cell \u001b[0;32mIn[13], line 2\u001b[0m\n\u001b[1;32m      1\u001b[0m glid_num \u001b[38;5;241m=\u001b[39m \u001b[38;5;124m'\u001b[39m\u001b[38;5;124m659\u001b[39m\u001b[38;5;124m'\u001b[39m\n\u001b[0;32m----> 2\u001b[0m ds_z   \u001b[38;5;241m=\u001b[39m \u001b[43mxr\u001b[49m\u001b[38;5;241;43m.\u001b[39;49m\u001b[43mopen_dataset\u001b[49m\u001b[43m(\u001b[49m\u001b[38;5;124;43m'\u001b[39;49m\u001b[38;5;124;43m/SWIR_ACC_glider_tracer_analysis/data/sg_\u001b[39;49m\u001b[38;5;124;43m'\u001b[39;49m\u001b[38;5;241;43m+\u001b[39;49m\u001b[43mglid_num\u001b[49m\u001b[38;5;241;43m+\u001b[39;49m\u001b[38;5;124;43m'\u001b[39;49m\u001b[38;5;124;43m_4m_binned.nc\u001b[39;49m\u001b[38;5;124;43m'\u001b[39;49m\u001b[43m)\u001b[49m\n",
      "File \u001b[0;32m/home/amf2288/mambaforge-pypy3/envs/argo_Aug_23/lib/python3.10/site-packages/xarray/backends/api.py:570\u001b[0m, in \u001b[0;36mopen_dataset\u001b[0;34m(filename_or_obj, engine, chunks, cache, decode_cf, mask_and_scale, decode_times, decode_timedelta, use_cftime, concat_characters, decode_coords, drop_variables, inline_array, chunked_array_type, from_array_kwargs, backend_kwargs, **kwargs)\u001b[0m\n\u001b[1;32m    558\u001b[0m decoders \u001b[38;5;241m=\u001b[39m _resolve_decoders_kwargs(\n\u001b[1;32m    559\u001b[0m     decode_cf,\n\u001b[1;32m    560\u001b[0m     open_backend_dataset_parameters\u001b[38;5;241m=\u001b[39mbackend\u001b[38;5;241m.\u001b[39mopen_dataset_parameters,\n\u001b[0;32m   (...)\u001b[0m\n\u001b[1;32m    566\u001b[0m     decode_coords\u001b[38;5;241m=\u001b[39mdecode_coords,\n\u001b[1;32m    567\u001b[0m )\n\u001b[1;32m    569\u001b[0m overwrite_encoded_chunks \u001b[38;5;241m=\u001b[39m kwargs\u001b[38;5;241m.\u001b[39mpop(\u001b[38;5;124m\"\u001b[39m\u001b[38;5;124moverwrite_encoded_chunks\u001b[39m\u001b[38;5;124m\"\u001b[39m, \u001b[38;5;28;01mNone\u001b[39;00m)\n\u001b[0;32m--> 570\u001b[0m backend_ds \u001b[38;5;241m=\u001b[39m \u001b[43mbackend\u001b[49m\u001b[38;5;241;43m.\u001b[39;49m\u001b[43mopen_dataset\u001b[49m\u001b[43m(\u001b[49m\n\u001b[1;32m    571\u001b[0m \u001b[43m    \u001b[49m\u001b[43mfilename_or_obj\u001b[49m\u001b[43m,\u001b[49m\n\u001b[1;32m    572\u001b[0m \u001b[43m    \u001b[49m\u001b[43mdrop_variables\u001b[49m\u001b[38;5;241;43m=\u001b[39;49m\u001b[43mdrop_variables\u001b[49m\u001b[43m,\u001b[49m\n\u001b[1;32m    573\u001b[0m \u001b[43m    \u001b[49m\u001b[38;5;241;43m*\u001b[39;49m\u001b[38;5;241;43m*\u001b[39;49m\u001b[43mdecoders\u001b[49m\u001b[43m,\u001b[49m\n\u001b[1;32m    574\u001b[0m \u001b[43m    \u001b[49m\u001b[38;5;241;43m*\u001b[39;49m\u001b[38;5;241;43m*\u001b[39;49m\u001b[43mkwargs\u001b[49m\u001b[43m,\u001b[49m\n\u001b[1;32m    575\u001b[0m \u001b[43m\u001b[49m\u001b[43m)\u001b[49m\n\u001b[1;32m    576\u001b[0m ds \u001b[38;5;241m=\u001b[39m _dataset_from_backend_dataset(\n\u001b[1;32m    577\u001b[0m     backend_ds,\n\u001b[1;32m    578\u001b[0m     filename_or_obj,\n\u001b[0;32m   (...)\u001b[0m\n\u001b[1;32m    588\u001b[0m     \u001b[38;5;241m*\u001b[39m\u001b[38;5;241m*\u001b[39mkwargs,\n\u001b[1;32m    589\u001b[0m )\n\u001b[1;32m    590\u001b[0m \u001b[38;5;28;01mreturn\u001b[39;00m ds\n",
      "File \u001b[0;32m/home/amf2288/mambaforge-pypy3/envs/argo_Aug_23/lib/python3.10/site-packages/xarray/backends/netCDF4_.py:602\u001b[0m, in \u001b[0;36mNetCDF4BackendEntrypoint.open_dataset\u001b[0;34m(self, filename_or_obj, mask_and_scale, decode_times, concat_characters, decode_coords, drop_variables, use_cftime, decode_timedelta, group, mode, format, clobber, diskless, persist, lock, autoclose)\u001b[0m\n\u001b[1;32m    581\u001b[0m \u001b[38;5;28;01mdef\u001b[39;00m \u001b[38;5;21mopen_dataset\u001b[39m(  \u001b[38;5;66;03m# type: ignore[override]  # allow LSP violation, not supporting **kwargs\u001b[39;00m\n\u001b[1;32m    582\u001b[0m     \u001b[38;5;28mself\u001b[39m,\n\u001b[1;32m    583\u001b[0m     filename_or_obj: \u001b[38;5;28mstr\u001b[39m \u001b[38;5;241m|\u001b[39m os\u001b[38;5;241m.\u001b[39mPathLike[Any] \u001b[38;5;241m|\u001b[39m BufferedIOBase \u001b[38;5;241m|\u001b[39m AbstractDataStore,\n\u001b[0;32m   (...)\u001b[0m\n\u001b[1;32m    599\u001b[0m     autoclose\u001b[38;5;241m=\u001b[39m\u001b[38;5;28;01mFalse\u001b[39;00m,\n\u001b[1;32m    600\u001b[0m ) \u001b[38;5;241m-\u001b[39m\u001b[38;5;241m>\u001b[39m Dataset:\n\u001b[1;32m    601\u001b[0m     filename_or_obj \u001b[38;5;241m=\u001b[39m _normalize_path(filename_or_obj)\n\u001b[0;32m--> 602\u001b[0m     store \u001b[38;5;241m=\u001b[39m \u001b[43mNetCDF4DataStore\u001b[49m\u001b[38;5;241;43m.\u001b[39;49m\u001b[43mopen\u001b[49m\u001b[43m(\u001b[49m\n\u001b[1;32m    603\u001b[0m \u001b[43m        \u001b[49m\u001b[43mfilename_or_obj\u001b[49m\u001b[43m,\u001b[49m\n\u001b[1;32m    604\u001b[0m \u001b[43m        \u001b[49m\u001b[43mmode\u001b[49m\u001b[38;5;241;43m=\u001b[39;49m\u001b[43mmode\u001b[49m\u001b[43m,\u001b[49m\n\u001b[1;32m    605\u001b[0m \u001b[43m        \u001b[49m\u001b[38;5;28;43mformat\u001b[39;49m\u001b[38;5;241;43m=\u001b[39;49m\u001b[38;5;28;43mformat\u001b[39;49m\u001b[43m,\u001b[49m\n\u001b[1;32m    606\u001b[0m \u001b[43m        \u001b[49m\u001b[43mgroup\u001b[49m\u001b[38;5;241;43m=\u001b[39;49m\u001b[43mgroup\u001b[49m\u001b[43m,\u001b[49m\n\u001b[1;32m    607\u001b[0m \u001b[43m        \u001b[49m\u001b[43mclobber\u001b[49m\u001b[38;5;241;43m=\u001b[39;49m\u001b[43mclobber\u001b[49m\u001b[43m,\u001b[49m\n\u001b[1;32m    608\u001b[0m \u001b[43m        \u001b[49m\u001b[43mdiskless\u001b[49m\u001b[38;5;241;43m=\u001b[39;49m\u001b[43mdiskless\u001b[49m\u001b[43m,\u001b[49m\n\u001b[1;32m    609\u001b[0m \u001b[43m        \u001b[49m\u001b[43mpersist\u001b[49m\u001b[38;5;241;43m=\u001b[39;49m\u001b[43mpersist\u001b[49m\u001b[43m,\u001b[49m\n\u001b[1;32m    610\u001b[0m \u001b[43m        \u001b[49m\u001b[43mlock\u001b[49m\u001b[38;5;241;43m=\u001b[39;49m\u001b[43mlock\u001b[49m\u001b[43m,\u001b[49m\n\u001b[1;32m    611\u001b[0m \u001b[43m        \u001b[49m\u001b[43mautoclose\u001b[49m\u001b[38;5;241;43m=\u001b[39;49m\u001b[43mautoclose\u001b[49m\u001b[43m,\u001b[49m\n\u001b[1;32m    612\u001b[0m \u001b[43m    \u001b[49m\u001b[43m)\u001b[49m\n\u001b[1;32m    614\u001b[0m     store_entrypoint \u001b[38;5;241m=\u001b[39m StoreBackendEntrypoint()\n\u001b[1;32m    615\u001b[0m     \u001b[38;5;28;01mwith\u001b[39;00m close_on_error(store):\n",
      "File \u001b[0;32m/home/amf2288/mambaforge-pypy3/envs/argo_Aug_23/lib/python3.10/site-packages/xarray/backends/netCDF4_.py:400\u001b[0m, in \u001b[0;36mNetCDF4DataStore.open\u001b[0;34m(cls, filename, mode, format, group, clobber, diskless, persist, lock, lock_maker, autoclose)\u001b[0m\n\u001b[1;32m    394\u001b[0m kwargs \u001b[38;5;241m=\u001b[39m \u001b[38;5;28mdict\u001b[39m(\n\u001b[1;32m    395\u001b[0m     clobber\u001b[38;5;241m=\u001b[39mclobber, diskless\u001b[38;5;241m=\u001b[39mdiskless, persist\u001b[38;5;241m=\u001b[39mpersist, \u001b[38;5;28mformat\u001b[39m\u001b[38;5;241m=\u001b[39m\u001b[38;5;28mformat\u001b[39m\n\u001b[1;32m    396\u001b[0m )\n\u001b[1;32m    397\u001b[0m manager \u001b[38;5;241m=\u001b[39m CachingFileManager(\n\u001b[1;32m    398\u001b[0m     netCDF4\u001b[38;5;241m.\u001b[39mDataset, filename, mode\u001b[38;5;241m=\u001b[39mmode, kwargs\u001b[38;5;241m=\u001b[39mkwargs\n\u001b[1;32m    399\u001b[0m )\n\u001b[0;32m--> 400\u001b[0m \u001b[38;5;28;01mreturn\u001b[39;00m \u001b[38;5;28;43mcls\u001b[39;49m\u001b[43m(\u001b[49m\u001b[43mmanager\u001b[49m\u001b[43m,\u001b[49m\u001b[43m \u001b[49m\u001b[43mgroup\u001b[49m\u001b[38;5;241;43m=\u001b[39;49m\u001b[43mgroup\u001b[49m\u001b[43m,\u001b[49m\u001b[43m \u001b[49m\u001b[43mmode\u001b[49m\u001b[38;5;241;43m=\u001b[39;49m\u001b[43mmode\u001b[49m\u001b[43m,\u001b[49m\u001b[43m \u001b[49m\u001b[43mlock\u001b[49m\u001b[38;5;241;43m=\u001b[39;49m\u001b[43mlock\u001b[49m\u001b[43m,\u001b[49m\u001b[43m \u001b[49m\u001b[43mautoclose\u001b[49m\u001b[38;5;241;43m=\u001b[39;49m\u001b[43mautoclose\u001b[49m\u001b[43m)\u001b[49m\n",
      "File \u001b[0;32m/home/amf2288/mambaforge-pypy3/envs/argo_Aug_23/lib/python3.10/site-packages/xarray/backends/netCDF4_.py:347\u001b[0m, in \u001b[0;36mNetCDF4DataStore.__init__\u001b[0;34m(self, manager, group, mode, lock, autoclose)\u001b[0m\n\u001b[1;32m    345\u001b[0m \u001b[38;5;28mself\u001b[39m\u001b[38;5;241m.\u001b[39m_group \u001b[38;5;241m=\u001b[39m group\n\u001b[1;32m    346\u001b[0m \u001b[38;5;28mself\u001b[39m\u001b[38;5;241m.\u001b[39m_mode \u001b[38;5;241m=\u001b[39m mode\n\u001b[0;32m--> 347\u001b[0m \u001b[38;5;28mself\u001b[39m\u001b[38;5;241m.\u001b[39mformat \u001b[38;5;241m=\u001b[39m \u001b[38;5;28;43mself\u001b[39;49m\u001b[38;5;241;43m.\u001b[39;49m\u001b[43mds\u001b[49m\u001b[38;5;241m.\u001b[39mdata_model\n\u001b[1;32m    348\u001b[0m \u001b[38;5;28mself\u001b[39m\u001b[38;5;241m.\u001b[39m_filename \u001b[38;5;241m=\u001b[39m \u001b[38;5;28mself\u001b[39m\u001b[38;5;241m.\u001b[39mds\u001b[38;5;241m.\u001b[39mfilepath()\n\u001b[1;32m    349\u001b[0m \u001b[38;5;28mself\u001b[39m\u001b[38;5;241m.\u001b[39mis_remote \u001b[38;5;241m=\u001b[39m is_remote_uri(\u001b[38;5;28mself\u001b[39m\u001b[38;5;241m.\u001b[39m_filename)\n",
      "File \u001b[0;32m/home/amf2288/mambaforge-pypy3/envs/argo_Aug_23/lib/python3.10/site-packages/xarray/backends/netCDF4_.py:409\u001b[0m, in \u001b[0;36mNetCDF4DataStore.ds\u001b[0;34m(self)\u001b[0m\n\u001b[1;32m    407\u001b[0m \u001b[38;5;129m@property\u001b[39m\n\u001b[1;32m    408\u001b[0m \u001b[38;5;28;01mdef\u001b[39;00m \u001b[38;5;21mds\u001b[39m(\u001b[38;5;28mself\u001b[39m):\n\u001b[0;32m--> 409\u001b[0m     \u001b[38;5;28;01mreturn\u001b[39;00m \u001b[38;5;28;43mself\u001b[39;49m\u001b[38;5;241;43m.\u001b[39;49m\u001b[43m_acquire\u001b[49m\u001b[43m(\u001b[49m\u001b[43m)\u001b[49m\n",
      "File \u001b[0;32m/home/amf2288/mambaforge-pypy3/envs/argo_Aug_23/lib/python3.10/site-packages/xarray/backends/netCDF4_.py:403\u001b[0m, in \u001b[0;36mNetCDF4DataStore._acquire\u001b[0;34m(self, needs_lock)\u001b[0m\n\u001b[1;32m    402\u001b[0m \u001b[38;5;28;01mdef\u001b[39;00m \u001b[38;5;21m_acquire\u001b[39m(\u001b[38;5;28mself\u001b[39m, needs_lock\u001b[38;5;241m=\u001b[39m\u001b[38;5;28;01mTrue\u001b[39;00m):\n\u001b[0;32m--> 403\u001b[0m     \u001b[38;5;28;01mwith\u001b[39;00m \u001b[38;5;28mself\u001b[39m\u001b[38;5;241m.\u001b[39m_manager\u001b[38;5;241m.\u001b[39macquire_context(needs_lock) \u001b[38;5;28;01mas\u001b[39;00m root:\n\u001b[1;32m    404\u001b[0m         ds \u001b[38;5;241m=\u001b[39m _nc4_require_group(root, \u001b[38;5;28mself\u001b[39m\u001b[38;5;241m.\u001b[39m_group, \u001b[38;5;28mself\u001b[39m\u001b[38;5;241m.\u001b[39m_mode)\n\u001b[1;32m    405\u001b[0m     \u001b[38;5;28;01mreturn\u001b[39;00m ds\n",
      "File \u001b[0;32m/home/amf2288/mambaforge-pypy3/envs/argo_Aug_23/lib/python3.10/contextlib.py:135\u001b[0m, in \u001b[0;36m_GeneratorContextManager.__enter__\u001b[0;34m(self)\u001b[0m\n\u001b[1;32m    133\u001b[0m \u001b[38;5;28;01mdel\u001b[39;00m \u001b[38;5;28mself\u001b[39m\u001b[38;5;241m.\u001b[39margs, \u001b[38;5;28mself\u001b[39m\u001b[38;5;241m.\u001b[39mkwds, \u001b[38;5;28mself\u001b[39m\u001b[38;5;241m.\u001b[39mfunc\n\u001b[1;32m    134\u001b[0m \u001b[38;5;28;01mtry\u001b[39;00m:\n\u001b[0;32m--> 135\u001b[0m     \u001b[38;5;28;01mreturn\u001b[39;00m \u001b[38;5;28;43mnext\u001b[39;49m\u001b[43m(\u001b[49m\u001b[38;5;28;43mself\u001b[39;49m\u001b[38;5;241;43m.\u001b[39;49m\u001b[43mgen\u001b[49m\u001b[43m)\u001b[49m\n\u001b[1;32m    136\u001b[0m \u001b[38;5;28;01mexcept\u001b[39;00m \u001b[38;5;167;01mStopIteration\u001b[39;00m:\n\u001b[1;32m    137\u001b[0m     \u001b[38;5;28;01mraise\u001b[39;00m \u001b[38;5;167;01mRuntimeError\u001b[39;00m(\u001b[38;5;124m\"\u001b[39m\u001b[38;5;124mgenerator didn\u001b[39m\u001b[38;5;124m'\u001b[39m\u001b[38;5;124mt yield\u001b[39m\u001b[38;5;124m\"\u001b[39m) \u001b[38;5;28;01mfrom\u001b[39;00m \u001b[38;5;28;01mNone\u001b[39;00m\n",
      "File \u001b[0;32m/home/amf2288/mambaforge-pypy3/envs/argo_Aug_23/lib/python3.10/site-packages/xarray/backends/file_manager.py:199\u001b[0m, in \u001b[0;36mCachingFileManager.acquire_context\u001b[0;34m(self, needs_lock)\u001b[0m\n\u001b[1;32m    196\u001b[0m \u001b[38;5;129m@contextlib\u001b[39m\u001b[38;5;241m.\u001b[39mcontextmanager\n\u001b[1;32m    197\u001b[0m \u001b[38;5;28;01mdef\u001b[39;00m \u001b[38;5;21macquire_context\u001b[39m(\u001b[38;5;28mself\u001b[39m, needs_lock\u001b[38;5;241m=\u001b[39m\u001b[38;5;28;01mTrue\u001b[39;00m):\n\u001b[1;32m    198\u001b[0m \u001b[38;5;250m    \u001b[39m\u001b[38;5;124;03m\"\"\"Context manager for acquiring a file.\"\"\"\u001b[39;00m\n\u001b[0;32m--> 199\u001b[0m     file, cached \u001b[38;5;241m=\u001b[39m \u001b[38;5;28;43mself\u001b[39;49m\u001b[38;5;241;43m.\u001b[39;49m\u001b[43m_acquire_with_cache_info\u001b[49m\u001b[43m(\u001b[49m\u001b[43mneeds_lock\u001b[49m\u001b[43m)\u001b[49m\n\u001b[1;32m    200\u001b[0m     \u001b[38;5;28;01mtry\u001b[39;00m:\n\u001b[1;32m    201\u001b[0m         \u001b[38;5;28;01myield\u001b[39;00m file\n",
      "File \u001b[0;32m/home/amf2288/mambaforge-pypy3/envs/argo_Aug_23/lib/python3.10/site-packages/xarray/backends/file_manager.py:217\u001b[0m, in \u001b[0;36mCachingFileManager._acquire_with_cache_info\u001b[0;34m(self, needs_lock)\u001b[0m\n\u001b[1;32m    215\u001b[0m     kwargs \u001b[38;5;241m=\u001b[39m kwargs\u001b[38;5;241m.\u001b[39mcopy()\n\u001b[1;32m    216\u001b[0m     kwargs[\u001b[38;5;124m\"\u001b[39m\u001b[38;5;124mmode\u001b[39m\u001b[38;5;124m\"\u001b[39m] \u001b[38;5;241m=\u001b[39m \u001b[38;5;28mself\u001b[39m\u001b[38;5;241m.\u001b[39m_mode\n\u001b[0;32m--> 217\u001b[0m file \u001b[38;5;241m=\u001b[39m \u001b[38;5;28;43mself\u001b[39;49m\u001b[38;5;241;43m.\u001b[39;49m\u001b[43m_opener\u001b[49m\u001b[43m(\u001b[49m\u001b[38;5;241;43m*\u001b[39;49m\u001b[38;5;28;43mself\u001b[39;49m\u001b[38;5;241;43m.\u001b[39;49m\u001b[43m_args\u001b[49m\u001b[43m,\u001b[49m\u001b[43m \u001b[49m\u001b[38;5;241;43m*\u001b[39;49m\u001b[38;5;241;43m*\u001b[39;49m\u001b[43mkwargs\u001b[49m\u001b[43m)\u001b[49m\n\u001b[1;32m    218\u001b[0m \u001b[38;5;28;01mif\u001b[39;00m \u001b[38;5;28mself\u001b[39m\u001b[38;5;241m.\u001b[39m_mode \u001b[38;5;241m==\u001b[39m \u001b[38;5;124m\"\u001b[39m\u001b[38;5;124mw\u001b[39m\u001b[38;5;124m\"\u001b[39m:\n\u001b[1;32m    219\u001b[0m     \u001b[38;5;66;03m# ensure file doesn't get overridden when opened again\u001b[39;00m\n\u001b[1;32m    220\u001b[0m     \u001b[38;5;28mself\u001b[39m\u001b[38;5;241m.\u001b[39m_mode \u001b[38;5;241m=\u001b[39m \u001b[38;5;124m\"\u001b[39m\u001b[38;5;124ma\u001b[39m\u001b[38;5;124m\"\u001b[39m\n",
      "File \u001b[0;32msrc/netCDF4/_netCDF4.pyx:2464\u001b[0m, in \u001b[0;36mnetCDF4._netCDF4.Dataset.__init__\u001b[0;34m()\u001b[0m\n",
      "File \u001b[0;32msrc/netCDF4/_netCDF4.pyx:2027\u001b[0m, in \u001b[0;36mnetCDF4._netCDF4._ensure_nc_success\u001b[0;34m()\u001b[0m\n",
      "\u001b[0;31mFileNotFoundError\u001b[0m: [Errno 2] No such file or directory: '/SWIR_ACC_glider_tracer_analysis/data/sg_659_4m_binned.nc'"
     ]
    }
   ],
   "source": [
    "glid_num = '659'\n",
    "ds_z   = xr.open_dataset('/SWIR_ACC_glider_tracer_analysis/data/sg_'+glid_num+'_4m_binned.nc')"
   ]
  },
  {
   "cell_type": "code",
   "execution_count": 10,
   "metadata": {},
   "outputs": [
    {
     "ename": "NameError",
     "evalue": "name 'ds_z' is not defined",
     "output_type": "error",
     "traceback": [
      "\u001b[0;31m---------------------------------------------------------------------------\u001b[0m",
      "\u001b[0;31mNameError\u001b[0m                                 Traceback (most recent call last)",
      "Cell \u001b[0;32mIn[10], line 1\u001b[0m\n\u001b[0;32m----> 1\u001b[0m ds_z[\u001b[38;5;124m'\u001b[39m\u001b[38;5;124mspice\u001b[39m\u001b[38;5;124m'\u001b[39m] \u001b[38;5;241m=\u001b[39m gsw\u001b[38;5;241m.\u001b[39mspiciness0(\u001b[43mds_z\u001b[49m\u001b[38;5;241m.\u001b[39mSA,ds_z\u001b[38;5;241m.\u001b[39mCT)\u001b[38;5;241m.\u001b[39mrename(\u001b[38;5;124m'\u001b[39m\u001b[38;5;124mspice\u001b[39m\u001b[38;5;124m'\u001b[39m)\n",
      "\u001b[0;31mNameError\u001b[0m: name 'ds_z' is not defined"
     ]
    }
   ],
   "source": [
    "ds_z['spice'] = gsw.spiciness0(ds_z.SA,ds_z.CT).rename('spice')"
   ]
  },
  {
   "cell_type": "code",
   "execution_count": null,
   "metadata": {},
   "outputs": [],
   "source": [
    "plt.figure(figsize=(25,7))\n",
    "(ds_z.spice-ds_z.spice.mean('dives')).plot(y='ctd_pressure',cmap=cmo.balance,cbar_kwargs={'label': 'Spice Anomaly'})\n",
    "plt.gca().invert_yaxis()\n",
    "plt.ylabel('Pressure (dbar)')\n",
    "plt.xlabel('Dives')\n",
    "plt.xticks(np.arange(0,len(ds_z.dives)/2,100))\n",
    "plt.title('Glider Spice Anomaly')\n",
    "plt.savefig('/home.ufs/amf2288/argo-intern/fig_tests/motivation.png')"
   ]
  },
  {
   "cell_type": "markdown",
   "metadata": {},
   "source": [
    "## Methods"
   ]
  },
  {
   "cell_type": "code",
   "execution_count": null,
   "metadata": {},
   "outputs": [],
   "source": [
    "lfilter = 75\n",
    "lat_bins = np.arange(-70,70,5)\n",
    "SPICE_anom_binned = watl.SPICE.groupby_bins('LATITUDE',lat_bins) - watl.SPICE.groupby_bins('LATITUDE',lat_bins).mean('N_PROF')\n",
    "watl = watl.assign(SPICE_anom_binned=(['N_PROF','PRES_INTERPOLATED'],SPICE_anom_binned.data))\n",
    "watl_SPICE_anom_binned_EKE = ef.get_EV(watl,lfilter,variable='SPICE_anom_binned')"
   ]
  },
  {
   "cell_type": "code",
   "execution_count": null,
   "metadata": {},
   "outputs": [],
   "source": [
    "watl_SPICE_anom_binned_TV = ef.get_total_variance(watl,lfilter,variable='SPICE_anom_binned')\n",
    "watl_SPICE_anom_binned_MV = ef.get_MV(watl,lfilter,variable='SPICE_anom_binned')"
   ]
  },
  {
   "cell_type": "code",
   "execution_count": null,
   "metadata": {},
   "outputs": [],
   "source": [
    "prof=27\n",
    "\n",
    "plt.figure(figsize=(10,40))\n",
    "\n",
    "plt.subplot(4,3,1)\n",
    "watl.SPICE.isel(N_PROF=prof).plot(y='PRES_INTERPOLATED')\n",
    "plt.gca().invert_yaxis()\n",
    "plt.ylabel('Pressure (dbar)')\n",
    "plt.xlabel('Spice (kg/m\\u00B3)')\n",
    "plt.title(\"C(z)\")\n",
    "\n",
    "plt.subplot(4,3,3)\n",
    "watl.SPICE.groupby_bins('LATITUDE',lat_bins).mean('N_PROF').isel(LATITUDE_bins=22).plot(y='PRES_INTERPOLATED')\n",
    "plt.gca().invert_yaxis()\n",
    "plt.ylabel('Pressure (dbar)')\n",
    "plt.xlabel('Spice (kg/m\\u00B3)')\n",
    "plt.title(\"C(z)BAR\")\n",
    "\n",
    "plt.subplot(4,3,5)\n",
    "SPICE_anom_binned.isel(N_PROF=prof).plot(y='PRES_INTERPOLATED')\n",
    "plt.gca().invert_yaxis()\n",
    "plt.ylabel('Pressure (dbar)')\n",
    "plt.xlabel('Spice (kg/m\\u00B3)')\n",
    "plt.title(\"C'(z)\")\n",
    "\n",
    "plt.subplot(4,3,7)\n",
    "watl_SPICE_anom_binned_TV.isel(N_PROF=prof).plot(y='PRES_INTERPOLATED')\n",
    "plt.gca().invert_yaxis()\n",
    "plt.ylabel('Pressure (dbar)')\n",
    "plt.xlabel('Spice\\u00B2')\n",
    "plt.title(\"<C'(z)\\u00b2>\")\n",
    "\n",
    "plt.subplot(4,3,9)\n",
    "watl_SPICE_anom_binned_MV.isel(N_PROF=prof).plot(y='PRES_INTERPOLATED')\n",
    "plt.gca().invert_yaxis()\n",
    "plt.ylabel('Pressure (dbar)')\n",
    "plt.xlabel('Spice\\u00B2')\n",
    "plt.title(\"<C'(z)>\\u00b2\")\n",
    "\n",
    "plt.subplot(4,3,11)\n",
    "watl_SPICE_anom_binned_EKE.isel(N_PROF=prof).plot(y='PRES_INTERPOLATED')\n",
    "plt.gca().invert_yaxis()\n",
    "plt.ylabel('Pressure (dbar)')\n",
    "plt.xlabel('Spice\\u00b2')\n",
    "plt.title(\"<C'(z)\\u00b2> - <C'(z)>\\u00b2\")\n",
    "\n",
    "plt.subplots_adjust(hspace=0.25)\n",
    "plt.savefig('/home.ufs/amf2288/argo-intern/fig_tests/methods.png')"
   ]
  },
  {
   "cell_type": "markdown",
   "metadata": {},
   "source": [
    "## Results"
   ]
  },
  {
   "cell_type": "code",
   "execution_count": null,
   "metadata": {},
   "outputs": [],
   "source": [
    "fig = plt.figure(figsize=(20, 20))\n",
    "ax = plt.axes(projection=ccrs.Robinson())\n",
    "ax.coastlines()\n",
    "ax.set_global()\n",
    "ax.gridlines(draw_labels=True)\n",
    "#for n in range(0,len(boxes)):\n",
    "#    ax.plot(posttobox(boxes[n][:2],boxes[n][2:])[0],postobox(boxes[n][:2],boxes[n][2:][1], #color=colors[n],transform=ccrs.PlateCCarree(),lw=2)\n",
    "\n",
    "#ax.scatter(watl.LONGITUDE,watl.LATITUDE,transform=ccrs.PlateCarree(),color='tab:blue',label='Section 1: Western North Atlantic',s=0.05)\n",
    "#ax.scatter(wpac.LONGITUDE,wpac.LATITUDE,transform=ccrs.PlateCarree(),color='tab:orange',label='Section 2: Western North Pacific',s=0.05)\n",
    "#ax.scatter(wind.LONGITUDE,wind.LATITUDE,transform=ccrs.PlateCarree(),color='tab:green',label='Section 3: Western Indian',s=0.05)\n",
    "ax.scatter(atl.LONGITUDE, atl.LATITUDE, transform=ccrs.PlateCarree(),color='tab:red',label='Section 4: Full Atlantic',s=0.05)\n",
    "ax.scatter(pac.LONGITUDE, pac.LATITUDE, transform=ccrs.PlateCarree(),color='tab:purple',label='Section 5: Full Pacific',s=0.05)\n",
    "\n",
    "\n",
    "plt.legend(bbox_to_anchor=(0.738,-0.1),markerscale=50)\n",
    "plt.savefig('/home.ufs/amf2288/argo-intern/fig_tests/map.png')"
   ]
  },
  {
   "cell_type": "markdown",
   "metadata": {},
   "source": [
    "#### Colorbars"
   ]
  },
  {
   "cell_type": "code",
   "execution_count": null,
   "metadata": {},
   "outputs": [],
   "source": [
    "import matplotlib.colors as colors\n",
    "import cmocean\n",
    "cmap = cmocean.tools.crop_by_percent(cmo.balance, 10, which='both', N=10)\n",
    "norm = colors.BoundaryNorm(boundaries=np.linspace(-15, -5, 10+1), ncolors=10)"
   ]
  },
  {
   "cell_type": "markdown",
   "metadata": {},
   "source": [
    "### Atlantic Western Boundary"
   ]
  },
  {
   "cell_type": "code",
   "execution_count": null,
   "metadata": {},
   "outputs": [],
   "source": [
    "box_watl = [-60,-55,10,45,0,2001]"
   ]
  },
  {
   "cell_type": "code",
   "execution_count": null,
   "metadata": {},
   "outputs": [],
   "source": [
    "lfilter = 75\n",
    "lat_bins = np.arange(-70,70,2)\n",
    "SPICE_anom_binned = watl.SPICE.groupby_bins('LATITUDE',lat_bins) - watl.SPICE.groupby_bins('LATITUDE',lat_bins).mean('N_PROF')\n",
    "SIG0_binned = watl.SIG0.groupby_bins('LATITUDE',lat_bins).mean('N_PROF')\n",
    "watl = watl.assign(SPICE_anom_binned=(['N_PROF','PRES_INTERPOLATED'],SPICE_anom_binned.data))\n",
    "watl_SPICE_anom_binned_EKE = ef.get_EV(watl,lfilter,variable='SPICE_anom_binned')"
   ]
  },
  {
   "cell_type": "code",
   "execution_count": null,
   "metadata": {},
   "outputs": [],
   "source": [
    "print(watl.SIG0.min().values,watl.SIG0.max().values)"
   ]
  },
  {
   "cell_type": "code",
   "execution_count": null,
   "metadata": {},
   "outputs": [],
   "source": [
    "levels = [26.3,27,27.6,27.75]"
   ]
  },
  {
   "cell_type": "code",
   "execution_count": null,
   "metadata": {},
   "outputs": [],
   "source": [
    "x='LATITUDE'\n",
    "plt.figure(figsize=(18,18))\n",
    "\n",
    "plt.subplot(211)\n",
    "watl.SA.sortby(x).plot(x=x,y='PRES_INTERPOLATED',robust=True,cmap=cmo.haline,cbar_kwargs={'label': 'Salinity (g/kg)'})\n",
    "SIG0_binned.plot.contour(x='LATITUDE_bins', y='PRES_INTERPOLATED', levels=levels, colors='k', linewidths=2)\n",
    "plt.gca().invert_yaxis()\n",
    "plt.xlim([10,45])\n",
    "plt.xticks(np.arange(10,45,10))\n",
    "plt.ylabel('Pressure (dbar)')\n",
    "plt.xlabel('Latitude (°N)')\n",
    "plt.title('Absolute Salinity')\n",
    "\n",
    "'''plt.subplot(312)\n",
    "np.log(watl_SPICE_anom_binned_EKE.where(watl_SPICE_anom_binned_EKE.mask==1)).sortby(x).plot(x=x, y='PRES_INTERPOLATED',cmap=cmo.balance,vmin=-15,vmax=-5)\n",
    "watl.SIG0.sortby(x).plot.contour(x='LATITUDE', y='PRES_INTERPOLATED', levels=levels, colors='k', linewidths=0.2)\n",
    "plt.gca().invert_yaxis()\n",
    "plt.xlim([10,45])\n",
    "plt.xticks(np.arange(10,45,10))\n",
    "plt.ylabel('Pressure (dbar)')\n",
    "plt.xlabel('Latitude (°N)')\n",
    "plt.title('EV of Spice, l={}m'.format(lfilter))'''\n",
    "\n",
    "plt.subplot(212)\n",
    "np.log(watl_SPICE_anom_binned_EKE.where(watl_SPICE_anom_binned_EKE.mask==1)).groupby_bins('LATITUDE',lat_bins).mean('N_PROF').plot(y='PRES_INTERPOLATED',cmap=cmap,norm=norm)\n",
    "SIG0_binned.plot.contour(x='LATITUDE_bins', y='PRES_INTERPOLATED', levels=levels, colors='k', linewidths=2)\n",
    "plt.gca().invert_yaxis()\n",
    "plt.xlim([10,45])\n",
    "plt.xticks(np.arange(10,45,10))\n",
    "plt.ylabel('Pressure (dbar)')\n",
    "plt.xlabel('Latitude (°N)')\n",
    "plt.title('Smoothed EV of Spice, l={}m'.format(lfilter))\n",
    "\n",
    "plt.subplots_adjust(hspace=0.4)\n",
    "plt.savefig('/home.ufs/amf2288/argo-intern/fig_tests/watl.png')"
   ]
  },
  {
   "cell_type": "markdown",
   "metadata": {},
   "source": [
    "### Pacific Western Boundary"
   ]
  },
  {
   "cell_type": "code",
   "execution_count": null,
   "metadata": {},
   "outputs": [],
   "source": [
    "box_wpac = [150,155,-5,50,0,2001]"
   ]
  },
  {
   "cell_type": "code",
   "execution_count": null,
   "metadata": {},
   "outputs": [],
   "source": [
    "lfilter = 75\n",
    "lat_bins = np.arange(-70,70,2)\n",
    "SPICE_anom_binned = wpac.SPICE.groupby_bins('LATITUDE',lat_bins) - wpac.SPICE.groupby_bins('LATITUDE',lat_bins).mean('N_PROF')\n",
    "SIG0_binned = wpac.SIG0.groupby_bins('LATITUDE',lat_bins).mean('N_PROF')\n",
    "wpac = wpac.assign(SPICE_anom_binned=(['N_PROF','PRES_INTERPOLATED'],SPICE_anom_binned.data))\n",
    "wpac_SPICE_anom_binned_EKE = ef.get_EV(wpac,lfilter,variable='SPICE_anom_binned')"
   ]
  },
  {
   "cell_type": "code",
   "execution_count": null,
   "metadata": {},
   "outputs": [],
   "source": [
    "print(wpac.SIG0.min().values,wpac.SIG0.max().values)"
   ]
  },
  {
   "cell_type": "code",
   "execution_count": null,
   "metadata": {},
   "outputs": [],
   "source": [
    "levels = [25.5,27,27.45,27.6]"
   ]
  },
  {
   "cell_type": "code",
   "execution_count": null,
   "metadata": {},
   "outputs": [],
   "source": [
    "plt.figure(figsize=(18,18))\n",
    "\n",
    "plt.subplot(211)\n",
    "wpac.SA.sortby(x).plot(x=x,y='PRES_INTERPOLATED',robust=True,cmap=cmo.haline,cbar_kwargs={'label': 'Salinity (g/kg)'})\n",
    "SIG0_binned.plot.contour(x='LATITUDE_bins', y='PRES_INTERPOLATED', levels=levels, colors='k', linewidths=2)\n",
    "plt.gca().invert_yaxis()\n",
    "plt.xlim([-5,50])\n",
    "plt.xticks(np.arange(-5,50,10))\n",
    "plt.ylabel('Pressure (dbar)')\n",
    "plt.xlabel('Latitude (°N)')\n",
    "plt.title('Absolute Salinity')\n",
    "\n",
    "'''plt.subplot(312)\n",
    "np.log(watl_SPICE_anom_binned_EKE.where(watl_SPICE_anom_binned_EKE.mask==1)).sortby(x).plot(x=x, y='PRES_INTERPOLATED',cmap=cmo.balance,vmin=-15,vmax=-5)\n",
    "watl.SIG0.sortby(x).plot.contour(x='LATITUDE', y='PRES_INTERPOLATED', levels=levels, colors='k', linewidths=0.2)\n",
    "plt.gca().invert_yaxis()\n",
    "plt.xlim([-5,50])\n",
    "plt.xticks(np.arange(-5,50,10))\n",
    "plt.ylabel('Pressure (dbar)')\n",
    "plt.xlabel('Latitude (°N)')\n",
    "plt.title('EV of Spice, l={}m'.format(lfilter))'''\n",
    "\n",
    "plt.subplot(212)\n",
    "np.log(wpac_SPICE_anom_binned_EKE.where(wpac_SPICE_anom_binned_EKE.mask==1)).groupby_bins('LATITUDE',lat_bins).mean('N_PROF').plot(y='PRES_INTERPOLATED',cmap=cmap,norm=norm)\n",
    "SIG0_binned.plot.contour(x='LATITUDE_bins', y='PRES_INTERPOLATED', levels=levels, colors='k', linewidths=2)\n",
    "plt.gca().invert_yaxis()\n",
    "plt.xlim([-5,50])\n",
    "plt.xticks(np.arange(-5,50,10))\n",
    "plt.ylabel('Pressure (dbar)')\n",
    "plt.xlabel('Latitude (°N)')\n",
    "plt.title('Smoothed EV of Spice, l={}m'.format(lfilter))\n",
    "\n",
    "plt.subplots_adjust(hspace=0.4)\n",
    "plt.savefig('/home.ufs/amf2288/argo-intern/fig_tests/wpac.png')"
   ]
  },
  {
   "cell_type": "markdown",
   "metadata": {},
   "source": [
    "### Indian Western Boundary"
   ]
  },
  {
   "cell_type": "code",
   "execution_count": null,
   "metadata": {},
   "outputs": [],
   "source": [
    "box_wind = [60,65,-65,25,0,2001]"
   ]
  },
  {
   "cell_type": "code",
   "execution_count": null,
   "metadata": {},
   "outputs": [],
   "source": [
    "lfilter1 = 25\n",
    "lfilter3 = 200\n",
    "\n",
    "lat_bins = np.arange(-70,70,2)\n",
    "SPICE_anom_binned = wind.SPICE.groupby_bins('LATITUDE',lat_bins) - wind.SPICE.groupby_bins('LATITUDE',lat_bins).mean('N_PROF')\n",
    "SIG0_binned = wind.SIG0.groupby_bins('LATITUDE',lat_bins).mean('N_PROF')\n",
    "wind = wind.assign(SPICE_anom_binned=(['N_PROF','PRES_INTERPOLATED'],SPICE_anom_binned.data))\n",
    "wind_SPICE_anom_binned_EKE1 = ef.get_EV(wind,lfilter1,variable='SPICE_anom_binned')\n",
    "wind_SPICE_anom_binned_EKE2 = ef.get_EV(wind,lfilter,variable='SPICE_anom_binned')\n",
    "wind_SPICE_anom_binned_EKE3 = ef.get_EV(wind,lfilter3,variable='SPICE_anom_binned')"
   ]
  },
  {
   "cell_type": "code",
   "execution_count": null,
   "metadata": {},
   "outputs": [],
   "source": [
    "print(wind.SIG0.min().values,wind.SIG0.max().values)"
   ]
  },
  {
   "cell_type": "code",
   "execution_count": null,
   "metadata": {},
   "outputs": [],
   "source": [
    "levels = [26.5,27,27.4,27.7]"
   ]
  },
  {
   "cell_type": "code",
   "execution_count": null,
   "metadata": {},
   "outputs": [],
   "source": [
    "plt.figure(figsize=(18,27))\n",
    "\n",
    "plt.subplot(311)\n",
    "wind.SA.sortby(x).plot(x=x,y='PRES_INTERPOLATED',robust=True,cmap=cmo.haline,cbar_kwargs={'label': 'Salinity (g/kg)'})\n",
    "SIG0_binned.plot.contour(x='LATITUDE_bins', y='PRES_INTERPOLATED', levels=levels, colors='k', linewidths=2)\n",
    "plt.gca().invert_yaxis()\n",
    "plt.xlim([-65,25])\n",
    "plt.xticks(np.arange(-65,25,10))\n",
    "plt.ylabel('Pressure (dbar)')\n",
    "plt.xlabel('Latitude (°N)')\n",
    "plt.title('Absolute Salinity')\n",
    "\n",
    "plt.subplot(312)\n",
    "np.log(wind_SPICE_anom_binned_EKE.where(wind_SPICE_anom_binned_EKE2.mask==1)).sortby(x).plot(x=x, y='PRES_INTERPOLATED',cmap=cmo.balance,vmin=-15,vmax=-5)\n",
    "SIG0_binned.plot.contour(x='LATITUDE_bins', y='PRES_INTERPOLATED', levels=levels, colors='k', linewidths=2)\n",
    "plt.gca().invert_yaxis()\n",
    "plt.xlim([-65,25])\n",
    "plt.xticks(np.arange(-65,25,10))\n",
    "plt.ylabel('Pressure (dbar)')\n",
    "plt.xlabel('Latitude (°N)')\n",
    "plt.title('EV of Spice, l={}m'.format(lfilter))\n",
    "\n",
    "plt.subplot(313)\n",
    "np.log(wind_SPICE_anom_binned_EKE.where(wind_SPICE_anom_binned_EKE2.mask==1)).groupby_bins('LATITUDE',lat_bins).mean('N_PROF').plot(y='PRES_INTERPOLATED',cmap=cmap,norm=norm)\n",
    "SIG0_binned.plot.contour(x='LATITUDE_bins', y='PRES_INTERPOLATED', levels=levels, colors='k', linewidths=2)\n",
    "plt.gca().invert_yaxis()\n",
    "plt.xlim([-65,25])\n",
    "plt.xticks(np.arange(-65,25,10))\n",
    "plt.ylabel('Pressure (dbar)')\n",
    "plt.xlabel('Latitude (°N)')\n",
    "plt.title('Smoothed EV of Spice, l={}m'.format(lfilter))\n",
    "\n",
    "plt.subplots_adjust(hspace=0.4)\n",
    "plt.savefig('/home.ufs/amf2288/argo-intern/fig_tests/wind.png')"
   ]
  },
  {
   "cell_type": "code",
   "execution_count": null,
   "metadata": {},
   "outputs": [],
   "source": [
    "plt.figure(figsize=(45,7))\n",
    "\n",
    "plt.subplot(131)\n",
    "np.log(wind_SPICE_anom_binned_EKE1.where(wind_SPICE_anom_binned_EKE1.mask==1)).groupby_bins('LATITUDE',lat_bins).mean('N_PROF').plot(y='PRES_INTERPOLATED',cmap=cmap,norm=norm)\n",
    "SIG0_binned.plot.contour(x='LATITUDE_bins', y='PRES_INTERPOLATED', levels=levels, colors='k', linewidths=2)\n",
    "plt.gca().invert_yaxis()\n",
    "plt.xlim([-65,25])\n",
    "plt.xticks(np.arange(-65,25,10))\n",
    "plt.ylabel('Pressure (dbar)')\n",
    "plt.xlabel('Latitude (°N)')\n",
    "plt.title('Smoothed EV of Spice, l={}m'.format(lfilter1))\n",
    "\n",
    "plt.subplot(132)\n",
    "np.log(wind_SPICE_anom_binned_EKE2.where(wind_SPICE_anom_binned_EKE2.mask==1)).groupby_bins('LATITUDE',lat_bins).mean('N_PROF').plot(y='PRES_INTERPOLATED',cmap=cmap,norm=norm)\n",
    "SIG0_binned.plot.contour(x='LATITUDE_bins', y='PRES_INTERPOLATED', levels=levels, colors='k', linewidths=2)\n",
    "plt.gca().invert_yaxis()\n",
    "plt.xlim([-65,25])\n",
    "plt.xticks(np.arange(-65,25,10))\n",
    "plt.ylabel('Pressure (dbar)')\n",
    "plt.xlabel('Latitude (°N)')\n",
    "plt.title('Smoothed EV of Spice, l={}m'.format(lfilter))\n",
    "\n",
    "plt.subplot(133)\n",
    "np.log(wind_SPICE_anom_binned_EKE3.where(wind_SPICE_anom_binned_EKE3.mask==1)).groupby_bins('LATITUDE',lat_bins).mean('N_PROF').plot(y='PRES_INTERPOLATED',cmap=cmap,norm=norm)\n",
    "SIG0_binned.plot.contour(x='LATITUDE_bins', y='PRES_INTERPOLATED', levels=levels, colors='k', linewidths=2)\n",
    "plt.gca().invert_yaxis()\n",
    "plt.xlim([-65,25])\n",
    "plt.xticks(np.arange(-65,25,10))\n",
    "plt.ylabel('Pressure (dbar)')\n",
    "plt.xlabel('Latitude (°N)')\n",
    "plt.title('Smoothed EV of Spice, l={}m'.format(lfilter3))\n",
    "\n",
    "plt.subplots_adjust(wspace=0.1)\n",
    "plt.savefig('/home.ufs/amf2288/argo-intern/fig_tests/scales.png')"
   ]
  },
  {
   "cell_type": "markdown",
   "metadata": {},
   "source": [
    "### Atlantic Full Section"
   ]
  },
  {
   "cell_type": "code",
   "execution_count": null,
   "metadata": {},
   "outputs": [],
   "source": [
    "box_atl = [-25,-20,-70,70,0,2001]"
   ]
  },
  {
   "cell_type": "code",
   "execution_count": null,
   "metadata": {},
   "outputs": [],
   "source": [
    "lfilter = 75\n",
    "lat_bins = np.arange(-70,70,2)\n",
    "SPICE_anom_binned = atl.SPICE.groupby_bins('LATITUDE',lat_bins) - atl.SPICE.groupby_bins('LATITUDE',lat_bins).mean('N_PROF')\n",
    "SIG0_binned = atl.SIG0.groupby_bins('LATITUDE',lat_bins).mean('N_PROF')\n",
    "atl = atl.assign(SPICE_anom_binned=(['N_PROF','PRES_INTERPOLATED'],SPICE_anom_binned.data))\n",
    "atl_SPICE_anom_binned_EKE = ef.get_EV(atl,lfilter,variable='SPICE_anom_binned')"
   ]
  },
  {
   "cell_type": "code",
   "execution_count": null,
   "metadata": {},
   "outputs": [],
   "source": [
    "print(atl.SIG0.min().values,atl.SIG0.max().values)"
   ]
  },
  {
   "cell_type": "code",
   "execution_count": null,
   "metadata": {},
   "outputs": [],
   "source": [
    "levels = [26,27,27.4,27.7]"
   ]
  },
  {
   "cell_type": "code",
   "execution_count": null,
   "metadata": {},
   "outputs": [],
   "source": [
    "plt.figure(figsize=(18,27))\n",
    "\n",
    "plt.subplot(311)\n",
    "atl.SA.sortby(x).plot(x=x,y='PRES_INTERPOLATED',robust=True,cmap=cmo.haline,cbar_kwargs={'label': 'Salinity (g/kg)'})\n",
    "SIG0_binned.plot.contour(x='LATITUDE_bins', y='PRES_INTERPOLATED', levels=levels, colors='k', linewidths=2)\n",
    "plt.gca().invert_yaxis()\n",
    "plt.xlim([-70,60])\n",
    "plt.xticks(np.arange(-70,60,10))\n",
    "plt.ylabel('Pressure (dbar)')\n",
    "plt.xlabel('Latitude (°N)')\n",
    "plt.title('Absolute Salinity')\n",
    "\n",
    "plt.subplot(312)\n",
    "np.log(atl_SPICE_anom_binned_EKE.where(atl_SPICE_anom_binned_EKE.mask==1)).sortby(x).plot(x=x, y='PRES_INTERPOLATED',cmap=cmo.balance,vmin=-15,vmax=-5)\n",
    "SIG0_binned.plot.contour(x='LATITUDE_bins', y='PRES_INTERPOLATED', levels=levels, colors='k', linewidths=2)\n",
    "plt.gca().invert_yaxis()\n",
    "plt.xlim([-70,60])\n",
    "plt.xticks(np.arange(-70,60,10))\n",
    "plt.ylabel('Pressure (dbar)')\n",
    "plt.xlabel('Latitude (°N)')\n",
    "plt.title('EV of Spice, l={}m'.format(lfilter))\n",
    "\n",
    "plt.subplot(313)\n",
    "np.log(atl_SPICE_anom_binned_EKE.where(atl_SPICE_anom_binned_EKE.mask==1)).groupby_bins('LATITUDE',lat_bins).mean('N_PROF').plot(y='PRES_INTERPOLATED',cmap=cmap,norm=norm)\n",
    "SIG0_binned.plot.contour(x='LATITUDE_bins', y='PRES_INTERPOLATED', levels=levels, colors='k', linewidths=2)\n",
    "plt.gca().invert_yaxis()\n",
    "plt.xlim([-70,60])\n",
    "plt.xticks(np.arange(-70,60,10))\n",
    "plt.ylabel('Pressure (dbar)')\n",
    "plt.xlabel('Latitude (°N)')\n",
    "plt.title('Smoothed EV of Spice, l={}m'.format(lfilter))\n",
    "\n",
    "plt.subplots_adjust(hspace=0.4)\n",
    "plt.savefig('/home.ufs/amf2288/argo-intern/fig_tests/atl.png')"
   ]
  },
  {
   "cell_type": "markdown",
   "metadata": {},
   "source": [
    "### Pacific Full Section"
   ]
  },
  {
   "cell_type": "code",
   "execution_count": null,
   "metadata": {},
   "outputs": [],
   "source": [
    "box_pac = [-180,-175,-70,70,0,2001]"
   ]
  },
  {
   "cell_type": "code",
   "execution_count": null,
   "metadata": {},
   "outputs": [],
   "source": [
    "lfilter = 75\n",
    "lat_bins = np.arange(-70,70,2)\n",
    "SPICE_anom_binned = pac.SPICE.groupby_bins('LATITUDE',lat_bins) - pac.SPICE.groupby_bins('LATITUDE',lat_bins).mean('N_PROF')\n",
    "SIG0_binned = pac.SIG0.groupby_bins('LATITUDE',lat_bins).mean('N_PROF')\n",
    "pac = pac.assign(SPICE_anom_binned=(['N_PROF','PRES_INTERPOLATED'],SPICE_anom_binned.data))\n",
    "pac_SPICE_anom_binned_EKE = ef.get_EV(pac,lfilter,variable='SPICE_anom_binned')"
   ]
  },
  {
   "cell_type": "code",
   "execution_count": null,
   "metadata": {},
   "outputs": [],
   "source": [
    "print(pac.SIG0.min().values,pac.SIG0.max().values)"
   ]
  },
  {
   "cell_type": "code",
   "execution_count": null,
   "metadata": {},
   "outputs": [],
   "source": [
    "levels = [26,27,27.4,27.6]"
   ]
  },
  {
   "cell_type": "code",
   "execution_count": null,
   "metadata": {},
   "outputs": [],
   "source": [
    "plt.figure(figsize=(18,27))\n",
    "\n",
    "plt.subplot(311)\n",
    "pac.SA.sortby(x).plot(x=x,y='PRES_INTERPOLATED',robust=True,cmap=cmo.haline,cbar_kwargs={'label': 'Salinity (g/kg)'})\n",
    "SIG0_binned.plot.contour(x='LATITUDE_bins', y='PRES_INTERPOLATED', levels=levels, colors='k', linewidths=2)\n",
    "plt.gca().invert_yaxis()\n",
    "plt.xlim([-70,60])\n",
    "plt.xticks(np.arange(-70,60,10))\n",
    "plt.ylabel('Pressure (dbar)')\n",
    "plt.xlabel('Latitude (°N)')\n",
    "plt.title('Absolute Salinity')\n",
    "\n",
    "plt.subplot(312)\n",
    "np.log(pac_SPICE_anom_binned_EKE.where(pac_SPICE_anom_binned_EKE.mask==1)).sortby(x).plot(x=x, y='PRES_INTERPOLATED',cmap=cmo.balance,vmin=-15,vmax=-5)\n",
    "SIG0_binned.plot.contour(x='LATITUDE_bins', y='PRES_INTERPOLATED', levels=levels, colors='k', linewidths=2)\n",
    "plt.gca().invert_yaxis()\n",
    "plt.xlim([-70,60])\n",
    "plt.xticks(np.arange(-70,60,10))\n",
    "plt.ylabel('Pressure (dbar)')\n",
    "plt.xlabel('Latitude (°N)')\n",
    "plt.title('EV of Spice, l={}m'.format(lfilter))\n",
    "\n",
    "plt.subplot(313)\n",
    "np.log(pac_SPICE_anom_binned_EKE.where(pac_SPICE_anom_binned_EKE.mask==1)).groupby_bins('LATITUDE',lat_bins).mean('N_PROF').plot(y='PRES_INTERPOLATED',cmap=cmap,norm=norm)\n",
    "SIG0_binned.plot.contour(x='LATITUDE_bins', y='PRES_INTERPOLATED', levels=levels, colors='k', linewidths=2)\n",
    "plt.gca().invert_yaxis()\n",
    "plt.xlim([-70,60])\n",
    "plt.xticks(np.arange(-70,60,10))\n",
    "plt.ylabel('Pressure (dbar)')\n",
    "plt.xlabel('Latitude (°N)')\n",
    "plt.title('Smoothed EV of Spice, l={}m'.format(lfilter))\n",
    "\n",
    "plt.subplots_adjust(hspace=0.4)\n",
    "plt.savefig('/home.ufs/amf2288/argo-intern/fig_tests/pac.png')"
   ]
  },
  {
   "cell_type": "code",
   "execution_count": null,
   "metadata": {},
   "outputs": [],
   "source": []
  }
 ],
 "metadata": {
  "kernelspec": {
   "display_name": "Python [conda env:argo_Aug_23]",
   "language": "python",
   "name": "conda-env-argo_Aug_23-py"
  },
  "language_info": {
   "codemirror_mode": {
    "name": "ipython",
    "version": 3
   },
   "file_extension": ".py",
   "mimetype": "text/x-python",
   "name": "python",
   "nbconvert_exporter": "python",
   "pygments_lexer": "ipython3",
   "version": "3.10.12"
  }
 },
 "nbformat": 4,
 "nbformat_minor": 2
}
