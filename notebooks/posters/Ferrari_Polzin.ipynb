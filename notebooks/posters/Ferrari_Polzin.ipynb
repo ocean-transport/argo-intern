{
 "cells": [
  {
   "cell_type": "markdown",
   "metadata": {},
   "source": [
    "# Ferrari & Polzin 2005\n",
    "---"
   ]
  },
  {
   "cell_type": "markdown",
   "metadata": {},
   "source": [
    "This is my notebook to summarize the paper \"Finescale Structure of the T-S Relation in the Eastern North Atlantic\" by Ferrari and Polzin. I will plan to include the most important ideas and figures, but will likely switch up the order a bit from how things are presented in the paper."
   ]
  },
  {
   "cell_type": "markdown",
   "metadata": {},
   "source": [
    "## Key Findings\n",
    "---"
   ]
  },
  {
   "cell_type": "markdown",
   "metadata": {},
   "source": [
    "Include 2-3 top-line, big picture findings of this paper to get people oriented to what we will be talking about."
   ]
  },
  {
   "cell_type": "markdown",
   "metadata": {},
   "source": [
    "## Data\n",
    "___"
   ]
  },
  {
   "cell_type": "markdown",
   "metadata": {},
   "source": [
    "This study uses microstructure data from the North Atlantic Tracer Release Experiment-NATRE (Ledwell et al. 1998) and current-meter data from the Subduction Experiemnt (Joyce et al. 1998) which occured off the coast of North Africa.\n",
    "\n",
    "<img src=\"Ferrari_Polzin_figs/Fig_1.png\" alt=\"Figure 1\" width=\"500\">"
   ]
  },
  {
   "cell_type": "markdown",
   "metadata": {},
   "source": [
    "Microstructure measurements are sampled by a [high-resolution profiler (HRP)](https://www.whoi.edu/cms/files/smcdonald/2006/7/MicrostructureProfilingwithHRP_12614.pdf#:~:text=The%20High%20Resolution%20Profiler%20%28HRP%29%20is%20a%20unique,microstruc-ture%20data%20from%20the%20HRP%20have%20been%20evolving.), which samples temperature, salinity, and shear on the scale of centimeters. HRP sampling occured on grids at different scales, both described and shown below.\n",
    "\n",
    "<img src=\"Ferrari_Polzin_figs/Fig_2.png\" alt=\"Figure 2\" width=\"500\">"
   ]
  },
  {
   "cell_type": "markdown",
   "metadata": {},
   "source": [
    "### T-S Diagrams"
   ]
  },
  {
   "cell_type": "markdown",
   "metadata": {},
   "source": [
    "- What's a T-S plot?\n",
    "- What's being shown by this one?\n",
    "- Anything else important to note?\n",
    "\n",
    "<img src=\"Ferrari_Polzin_figs/Fig_3.png\" alt=\"Figure 3\" width=\"500\">"
   ]
  },
  {
   "cell_type": "markdown",
   "metadata": {},
   "source": [
    "## Methods\n",
    "---"
   ]
  },
  {
   "cell_type": "markdown",
   "metadata": {},
   "source": [
    "### Triple Decomposition"
   ]
  },
  {
   "cell_type": "markdown",
   "metadata": {},
   "source": [
    "For a tracer, $\\theta$, the triple decomposition ([Joyce, 1977](https://github.com/andrewfagerheim/argo-Vault/blob/main/Readings/Joyce%201977.pdf)) follows the form:\n",
    "\n",
    "$$\n",
    "\\theta = \\theta^m + \\theta^e + \\theta^t\n",
    "$$\n",
    "\n",
    "where:\n",
    "- *m* denotes the **mean scale** (vertical: >100m, horizontal: >100km), set by large-scale currents.\n",
    "- *e* denotes the **mesoscale** (vertical: 10-100m, horizontal: 10-100km), set by eddies.\n",
    "- *t* denotes the **microscale** (vertical: <10m, horizontal: <10m), set by turbulence. \n",
    "\n",
    "In my analysis, I've defined each scale in the following way:\n",
    "- $\\theta^m$: Tracer profile filtered at *l*=100m, $\\overline{\\theta}$\n",
    "- $\\theta^e$: Tracer profile with the mean scale subtracted, $\\theta$ - $\\overline{\\theta}$\n",
    "- $\\theta^t$: We're assuming this scale does not show up in Argo float measurements"
   ]
  },
  {
   "cell_type": "markdown",
   "metadata": {},
   "source": [
    "[Garrett (2001)](https://apps.dtic.mil/sti/pdfs/[ADP013572.pdf](https://apps.dtic.mil/sti/pdfs/ADP013572.pdf) described the pathways from mean scale to dissipation in two ways: \n",
    "1. Variance is produced by mesoscale eddy stirring, then passed to microscale turbulence.\n",
    "2. Mean variance is directly acted on by microscale turbulence.\n",
    "\n",
    "<img src=\"Ferrari_Polzin_figs/Eqn_4.9.png\" alt=\"Figure Eqn 4.9\" width=\"300\">"
   ]
  },
  {
   "cell_type": "markdown",
   "metadata": {},
   "source": [
    "### Temperature Variance Budget (Using the Triple Decomposition)"
   ]
  },
  {
   "cell_type": "markdown",
   "metadata": {},
   "source": [
    "WRITE SOMETHING ABOUT THE START OF THESE EQUATIONS, IE INCLUDE THE STARTING EQUATION BEFORE THE TRIPLE DECOMPOSITION IS ADDED"
   ]
  },
  {
   "cell_type": "markdown",
   "metadata": {},
   "source": [
    "[Ferrari & Polzin (2005)](https://github.com/andrewfagerheim/argo-Vault/blob/main/Readings/Ferrari%202005.pdf) wrote the tracer variance equations using the triple decomposition expansion. The numbers under each term in these equations correspond to the triple decomposition pathways diagram included above\n",
    "\n",
    "\n",
    "<img src=\"Ferrari_Polzin_figs/Eqn_4.6.png\" alt=\"Figure Eqn 4.6\" width=\"300\">\n",
    "\n",
    "<img src=\"Ferrari_Polzin_figs/Eqn_4.7.png\" alt=\"Figure Eqn 4.7\" width=\"300\">\n",
    "\n",
    "<img src=\"Ferrari_Polzin_figs/Eqn_4.8.png\" alt=\"Figure Eqn 4.8\" width=\"300\">"
   ]
  },
  {
   "cell_type": "markdown",
   "metadata": {},
   "source": [
    "Ferrari & Polzin (2005) uses the flux gradient relationship (which assumes isopycnals are nearly horizontal) to parametrize each term. Below I've listed the term first as it appears in the equations above, and then with the parametrization that can be calculated using Argo data.\n",
    "\n",
    "\n",
    "$$\n",
    "[1] < u_e \\theta_e > \\cdot \\nabla_n \\theta_m \\approx -K_e (\\nabla_n \\theta_m)^2\n",
    "$$\n",
    "\n",
    "$$\n",
    "[2] < \\widetilde{u_t \\theta_t}  \\cdot \\nabla \\theta_e > \\approx -K_{\\rho} (\\widetilde{\\partial z \\theta_e})^2\n",
    "$$\n",
    "\n",
    "$$\n",
    "[3] <u_t \\theta_t > \\cdot \\nabla \\theta_m \\approx -K_{\\rho} (\\partial z \\theta_m)^2\n",
    "$$\n",
    "\n",
    "$$\n",
    "[4] \\chi\n",
    "$$\n",
    "\n",
    "where $K_e$ is mesoscale effective diffusivity and $K_{\\rho}$ is diapycnal turbulent diffusivity. "
   ]
  },
  {
   "cell_type": "markdown",
   "metadata": {},
   "source": [
    "### Methods & Data"
   ]
  },
  {
   "cell_type": "markdown",
   "metadata": {},
   "source": [
    "WRITE SOMETHING ABOUT HOW THE ABOVE FRAMEWORK IS APPLIED TO THEIR ACTUAL DATA. \n",
    "- HOW ARE THE $\\theta_m$, $\\theta_e$, and $\\theta_t$ TERMS CALCULATED?\n",
    "- WHAT KIND OF AVERAGING IS GOING ON HERE?\n",
    "- WRITE SOMETHING ABOUT HOW $K_e$ AND $K{\\rho}$ ARE CALCULATED!\n",
    "- ANYTHING ELSE METHODS RELATED?"
   ]
  },
  {
   "cell_type": "markdown",
   "metadata": {},
   "source": [
    "## Results\n",
    "---"
   ]
  },
  {
   "cell_type": "markdown",
   "metadata": {},
   "source": [
    "This plot shows different terms in the tracer variance budget equation including production by the mesoscale (blue), production by turbulence (black) and dissipation (red).\n",
    "\n",
    "<img src=\"Ferrari_Polzin_figs/Fig_7.png\" alt=\"Figure Fig 7\" width=\"500\">"
   ]
  },
  {
   "cell_type": "markdown",
   "metadata": {},
   "source": [
    "WRITE SOMETHING HERE DESCRIBING DOUBLE-DIFFUSION AND SHEAR-DRIVEN TURBULENCE. WHAT ARE THEY? WHY IS IT IMPORTANT TO DISTINGUISH DISSIPATION THROUGH EACH PATHWAY?"
   ]
  },
  {
   "cell_type": "markdown",
   "metadata": {},
   "source": [
    "Here we see a breakdown of the dissipation term, into a component from double-diffusion (dark) and shear-driven turbulence (light).\n",
    "\n",
    "<img src=\"Ferrari_Polzin_figs/Fig_8.png\" alt=\"Figure Fig 8\" width=\"500\">"
   ]
  },
  {
   "cell_type": "markdown",
   "metadata": {},
   "source": [
    "## Conclusions\n",
    "---"
   ]
  },
  {
   "cell_type": "code",
   "execution_count": null,
   "metadata": {},
   "outputs": [],
   "source": []
  }
 ],
 "metadata": {
  "kernelspec": {
   "display_name": "Python [conda env:anaconda3]",
   "language": "python",
   "name": "conda-env-anaconda3-py"
  },
  "language_info": {
   "codemirror_mode": {
    "name": "ipython",
    "version": 3
   },
   "file_extension": ".py",
   "mimetype": "text/x-python",
   "name": "python",
   "nbconvert_exporter": "python",
   "pygments_lexer": "ipython3",
   "version": "3.5.6"
  }
 },
 "nbformat": 4,
 "nbformat_minor": 2
}
