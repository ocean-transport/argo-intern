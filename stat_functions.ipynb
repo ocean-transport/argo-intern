{
 "cells": [
  {
   "cell_type": "markdown",
   "metadata": {},
   "source": [
    "## Stat Functions\n",
    "\n",
    "This notebook contains functions to conduct spectral analysis and filtering on a provided xarray dataset."
   ]
  },
  {
   "cell_type": "code",
   "execution_count": 1,
   "metadata": {},
   "outputs": [],
   "source": [
    "import numpy as np\n",
    "import xarray as xr\n",
    "import matplotlib.pyplot as plt\n",
    "import random\n",
    "import xrft"
   ]
  },
  {
   "cell_type": "markdown",
   "metadata": {},
   "source": [
    "## Spectral Function"
   ]
  },
  {
   "cell_type": "code",
   "execution_count": 14,
   "metadata": {},
   "outputs": [],
   "source": [
    "def spectral_plot(da, points, modes, slope, a_start, k_start):\n",
    "    a_li=np.zeros((modes,1))\n",
    "    k_li=np.zeros((modes,1))\n",
    "    y_li=np.zeros((points,modes))\n",
    "    y_funct=np.zeros((points,1))\n",
    "\n",
    "    a_li[0,0]=a_start\n",
    "    k_li[0,0]=k_start\n",
    "\n",
    "    for n in range(0,modes-1):\n",
    "        this_a=a_li[n,0]\n",
    "        next_a=int(this_a+slope)\n",
    "        a_li[n+1,0]=next_a\n",
    "\n",
    "        this_k=k_li[n,0]\n",
    "        next_k=int(this_k+1)\n",
    "        k_li[n+1,0]=next_k\n",
    "        \n",
    "    x = np.linspace(0, 2*np.pi, num=points)\n",
    "\n",
    "    for n in range(0,modes):\n",
    "        y_li[:,n] = np.sin(int(k_li[n])*x)*int(a_li[n])\n",
    "\n",
    "    y_funct = y_li.sum(axis=1)\n",
    "\n",
    "    plt.subplot(1,2,1)\n",
    "    plt.plot(x,y_funct, color='black')\n",
    "    plt.title(\"Signal\")\n",
    "    \n",
    "    da_funct = xr.DataArray(y_funct, dims=['points'], coords={'points':x})\n",
    "    da_spec = xrft.power_spectrum(da_funct, dim='points')\n",
    "    plt.subplot(1,2,2)\n",
    "    da_spec.plot()\n",
    "    plt.xlim(7,10)\n",
    "    plt.title(\"Sepctral Curve\")"
   ]
  },
  {
   "cell_type": "markdown",
   "metadata": {},
   "source": [
    "## Filtering"
   ]
  },
  {
   "cell_type": "code",
   "execution_count": 8,
   "metadata": {},
   "outputs": [],
   "source": [
    "def filter_plot(da):\n",
    "    signal = da\n",
    "    plt.figure(figsize=(20,15))\n",
    "    plt.subplot(4,1,1)\n",
    "    plt.plot(x,signal,color='black')\n",
    "    plt.ylim(-int(np.max(y_funct)+10), int(np.max(y_funct)+10))\n",
    "    plt.title('Signal')\n",
    "\n",
    "    #Gaussian window\n",
    "    win_gaus = scipy.signal.windows.gaussian(points, std=4)\n",
    "    filt_gaus = scipy.signal.convolve(signal, win_gaus, mode='same')\n",
    "    plt.subplot(4,1,2)\n",
    "    plt.plot(x,filt_gaus)\n",
    "    plt.ylim(-int(np.max(y_funct)+10), int(np.max(y_funct)+10))\n",
    "    plt.title(\"Window applied: Gaussian (\\u03C3=4)\")\n",
    "\n",
    "    #Exponential window\n",
    "    win_exp = scipy.signal.windows.exponential(points, tau=4)\n",
    "    filt_exp = scipy.signal.convolve(signal, win_exp, mode='same')\n",
    "    plt.subplot(4,1,3)\n",
    "    plt.plot(x,filt_exp)\n",
    "    plt.ylim(-int(np.max(y_funct)+10), int(np.max(y_funct)+10))\n",
    "    plt.title(\"Window applied: Exponential (\\u03C4=4)\")\n",
    "    plt.subplots_adjust(wspace=0.4, hspace=0.4)  \n",
    "\n",
    "    #Boxcar window\n",
    "    win_av = scipy.signal.windows.boxcar(points)\n",
    "    filt_av = scipy.signal.convolve(signal, win_av, mode='same')\n",
    "    plt.subplot(4,1,4)\n",
    "    plt.plot(x,filt_av)\n",
    "    #plt.ylim(-int(np.max(y_funct)+10), int(np.max(y_funct)+10))\n",
    "    plt.title(\"Window applied: Boxcar\")\n",
    "    plt.subplots_adjust(wspace=0.4, hspace=0.4)  "
   ]
  },
  {
   "cell_type": "code",
   "execution_count": 10,
   "metadata": {},
   "outputs": [],
   "source": [
    "def gaussian_plot(da):\n",
    "    plt.figure(figsize=(20,30))\n",
    "\n",
    "    signal = y_funct\n",
    "    plt.subplot(10,1,1)\n",
    "    plt.plot(x,signal, color='black')\n",
    "    plt.ylim(-int(np.max(y_funct)+10), int(np.max(y_funct)+10))\n",
    "    plt.title('Signal')\n",
    "\n",
    "    plots=[2,3,4,5]\n",
    "\n",
    "    for n in range(2,9,2):\n",
    "        window=scipy.signal.windows.gaussian(points, std=n)\n",
    "        filt_gaus = scipy.signal.convolve(signal, window, mode='same')\n",
    "        plt.subplot(10,1,plots[0])\n",
    "        plt.plot(x,filt_gaus)\n",
    "        plt.ylim(-int(np.max(y_funct)+10), int(np.max(y_funct)+10))\n",
    "        plt.title(\"Gaussian window with \\u03C3={}\".format(n))\n",
    "        plots.pop(0)\n",
    "\n",
    "    plt.subplots_adjust(wspace=0.4, hspace=0.5) "
   ]
  },
  {
   "cell_type": "code",
   "execution_count": 11,
   "metadata": {},
   "outputs": [],
   "source": [
    "def exponential_plot(da):\n",
    "    plt.figure(figsize=(20,30))\n",
    "\n",
    "    signal = y_funct\n",
    "    plt.subplot(10,1,1)\n",
    "    plt.plot(x,signal, color='black')\n",
    "    plt.ylim(-int(np.max(y_funct)+10), int(np.max(y_funct)+10))\n",
    "    plt.title('Signal')\n",
    "\n",
    "    plots=[2,3,4,5,6,7,8,9,10]\n",
    "\n",
    "    for n in range(5,45,10):\n",
    "        window=scipy.signal.windows.exponential(points, tau=n)\n",
    "        filt_gaus = scipy.signal.convolve(signal, window, mode='same')\n",
    "        plt.subplot(10,1,plots[0])\n",
    "        plt.plot(x,filt_gaus)\n",
    "        plt.ylim(-int(np.max(y_funct)+10), int(np.max(y_funct)+10))\n",
    "        plt.title(\"Exponential window with \\u03C4={}\".format(n))\n",
    "        plots.pop(0)\n",
    "\n",
    "    plt.subplots_adjust(wspace=0.4, hspace=0.5) "
   ]
  },
  {
   "cell_type": "code",
   "execution_count": 12,
   "metadata": {},
   "outputs": [],
   "source": [
    "def boxcar_plot(da):\n",
    "    signal = da\n",
    "    plt.figure(figsize=(20,15))\n",
    "    plt.subplot(4,1,1)\n",
    "    plt.plot(x,signal,color='black')\n",
    "    plt.ylim(-int(np.max(y_funct)+10), int(np.max(y_funct)+10))\n",
    "    plt.title('Signal')\n",
    "    \n",
    "    win_av = scipy.signal.windows.boxcar(points)\n",
    "    filt_av = scipy.signal.convolve(signal, win_av, mode='same')\n",
    "    plt.subplot(2,1,2)\n",
    "    plt.plot(x,filt_av)\n",
    "    #plt.ylim(-int(np.max(y_funct)+10), int(np.max(y_funct)+10))\n",
    "    plt.title(\"Window applied: Boxcar\")\n",
    "    plt.subplots_adjust(wspace=0.4, hspace=0.4)  "
   ]
  },
  {
   "cell_type": "code",
   "execution_count": null,
   "metadata": {},
   "outputs": [],
   "source": []
  }
 ],
 "metadata": {
  "kernelspec": {
   "display_name": "Python [conda env:argo]",
   "language": "python",
   "name": "conda-env-argo-py"
  },
  "language_info": {
   "codemirror_mode": {
    "name": "ipython",
    "version": 3
   },
   "file_extension": ".py",
   "mimetype": "text/x-python",
   "name": "python",
   "nbconvert_exporter": "python",
   "pygments_lexer": "ipython3",
   "version": "3.10.4"
  }
 },
 "nbformat": 4,
 "nbformat_minor": 2
}
