{
 "cells": [
  {
   "cell_type": "markdown",
   "metadata": {},
   "source": [
    "## Stat Functions\n",
    "\n",
    "This notebook contains functions to conduct spectral analysis and filtering on a provided xarray dataset."
   ]
  },
  {
   "cell_type": "code",
   "execution_count": 1,
   "metadata": {},
   "outputs": [],
   "source": [
    "import numpy as np\n",
    "import xarray as xr\n",
    "import matplotlib.pyplot as plt\n",
    "import random\n",
    "import xrft"
   ]
  },
  {
   "cell_type": "markdown",
   "metadata": {},
   "source": [
    "## Spectral Function"
   ]
  },
  {
   "cell_type": "code",
   "execution_count": null,
   "metadata": {},
   "outputs": [],
   "source": [
    "def spectral_plot(da):\n",
    "    "
   ]
  },
  {
   "cell_type": "markdown",
   "metadata": {},
   "source": [
    "## Filtering"
   ]
  },
  {
   "cell_type": "code",
   "execution_count": 8,
   "metadata": {},
   "outputs": [],
   "source": [
    "def filter_plot(da):\n",
    "    signal = da\n",
    "    plt.figure(figsize=(20,15))\n",
    "    plt.subplot(4,1,1)\n",
    "    plt.plot(x,signal,color='black')\n",
    "    plt.ylim(-int(np.max(y_funct)+10), int(np.max(y_funct)+10))\n",
    "    plt.title('Signal')\n",
    "\n",
    "    #Gaussian window\n",
    "    win_gaus = scipy.signal.windows.gaussian(points, std=4)\n",
    "    filt_gaus = scipy.signal.convolve(signal, win_gaus, mode='same')\n",
    "    plt.subplot(4,1,2)\n",
    "    plt.plot(x,filt_gaus)\n",
    "    plt.ylim(-int(np.max(y_funct)+10), int(np.max(y_funct)+10))\n",
    "    plt.title(\"Window applied: Gaussian (\\u03C3=4)\")\n",
    "\n",
    "    #Exponential window\n",
    "    win_exp = scipy.signal.windows.exponential(points, tau=4)\n",
    "    filt_exp = scipy.signal.convolve(signal, win_exp, mode='same')\n",
    "    plt.subplot(4,1,3)\n",
    "    plt.plot(x,filt_exp)\n",
    "    plt.ylim(-int(np.max(y_funct)+10), int(np.max(y_funct)+10))\n",
    "    plt.title(\"Window applied: Exponential (\\u03C4=4)\")\n",
    "    plt.subplots_adjust(wspace=0.4, hspace=0.4)  \n",
    "\n",
    "    #Boxcar window\n",
    "    win_av = scipy.signal.windows.boxcar(points)\n",
    "    filt_av = scipy.signal.convolve(signal, win_av, mode='same')\n",
    "    plt.subplot(4,1,4)\n",
    "    plt.plot(x,filt_av)\n",
    "    #plt.ylim(-int(np.max(y_funct)+10), int(np.max(y_funct)+10))\n",
    "    plt.title(\"Window applied: Boxcar\")\n",
    "    plt.subplots_adjust(wspace=0.4, hspace=0.4)  "
   ]
  },
  {
   "cell_type": "code",
   "execution_count": 7,
   "metadata": {},
   "outputs": [],
   "source": [
    "def gaussian_plot(da):\n",
    "    signal = da\n",
    "    plt.figure(figsize=(20,15))\n",
    "    plt.subplot(4,1,1)\n",
    "    plt.plot(x,signal,color='black')\n",
    "    plt.ylim(-int(np.max(y_funct)+10), int(np.max(y_funct)+10))\n",
    "    plt.title('Signal')\n",
    "    \n",
    "    win_gaus = scipy.signal.windows.gaussian(points, std=4)\n",
    "    filt_gaus = scipy.signal.convolve(signal, win_gaus, mode='same')\n",
    "    plt.subplot(4,1,2)\n",
    "    plt.plot(x,filt_gaus)\n",
    "    plt.ylim(-int(np.max(y_funct)+10), int(np.max(y_funct)+10))\n",
    "    plt.title(\"Window applied: Gaussian (\\u03C3=4)\")"
   ]
  },
  {
   "cell_type": "code",
   "execution_count": 5,
   "metadata": {},
   "outputs": [],
   "source": [
    "def exponential_plot(da):\n",
    "    signal = da\n",
    "    plt.figure(figsize=(20,15))\n",
    "    plt.subplot(4,1,1)\n",
    "    plt.plot(x,signal,color='black')\n",
    "    plt.ylim(-int(np.max(y_funct)+10), int(np.max(y_funct)+10))\n",
    "    plt.title('Signal')\n",
    "    \n",
    "    win_exp = scipy.signal.windows.exponential(points, tau=4)\n",
    "    filt_exp = scipy.signal.convolve(signal, win_exp, mode='same')\n",
    "    plt.subplot(4,1,3)\n",
    "    plt.plot(x,filt_exp)\n",
    "    plt.ylim(-int(np.max(y_funct)+10), int(np.max(y_funct)+10))\n",
    "    plt.title(\"Window applied: Exponential (\\u03C4=4)\")\n",
    "    plt.subplots_adjust(wspace=0.4, hspace=0.4) "
   ]
  },
  {
   "cell_type": "code",
   "execution_count": 6,
   "metadata": {},
   "outputs": [],
   "source": [
    "def boxcar_plot(da):\n",
    "    signal = da\n",
    "    plt.figure(figsize=(20,15))\n",
    "    plt.subplot(4,1,1)\n",
    "    plt.plot(x,signal,color='black')\n",
    "    plt.ylim(-int(np.max(y_funct)+10), int(np.max(y_funct)+10))\n",
    "    plt.title('Signal')\n",
    "    \n",
    "    win_av = scipy.signal.windows.boxcar(points)\n",
    "    filt_av = scipy.signal.convolve(signal, win_av, mode='same')\n",
    "    plt.subplot(4,1,4)\n",
    "    plt.plot(x,filt_av)\n",
    "    #plt.ylim(-int(np.max(y_funct)+10), int(np.max(y_funct)+10))\n",
    "    plt.title(\"Window applied: Boxcar\")\n",
    "    plt.subplots_adjust(wspace=0.4, hspace=0.4)  "
   ]
  },
  {
   "cell_type": "code",
   "execution_count": null,
   "metadata": {},
   "outputs": [],
   "source": []
  }
 ],
 "metadata": {
  "kernelspec": {
   "display_name": "Python [conda env:argo]",
   "language": "python",
   "name": "conda-env-argo-py"
  },
  "language_info": {
   "codemirror_mode": {
    "name": "ipython",
    "version": 3
   },
   "file_extension": ".py",
   "mimetype": "text/x-python",
   "name": "python",
   "nbconvert_exporter": "python",
   "pygments_lexer": "ipython3",
   "version": "3.10.4"
  }
 },
 "nbformat": 4,
 "nbformat_minor": 2
}
