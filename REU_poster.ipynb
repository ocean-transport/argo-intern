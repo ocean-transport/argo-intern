{
 "cells": [
  {
   "cell_type": "markdown",
   "metadata": {},
   "source": [
    "# REU Poster Figures"
   ]
  },
  {
   "cell_type": "code",
   "execution_count": null,
   "metadata": {},
   "outputs": [],
   "source": [
    "import xarray as xr\n",
    "import matplotlib.pyplot as plt\n",
    "import numpy as np\n",
    "import argopy\n",
    "import scipy.ndimage as filter\n",
    "import cartopy.crs as ccrs\n",
    "import cartopy\n",
    "import xrft\n",
    "import scipy\n",
    "import matplotlib"
   ]
  },
  {
   "cell_type": "code",
   "execution_count": null,
   "metadata": {},
   "outputs": [],
   "source": [
    "font = {'family' : 'normal',\n",
    "        'size'   : 16}\n",
    "\n",
    "matplotlib.rc('font', **font)"
   ]
  },
  {
   "cell_type": "markdown",
   "metadata": {},
   "source": [
    "## Useful Functions"
   ]
  },
  {
   "cell_type": "code",
   "execution_count": null,
   "metadata": {},
   "outputs": [],
   "source": [
    "def get_ds_interp(ds,depth_min,depth_max,sample_max):\n",
    "    median_dp=ds.PRES.where(ds.PRES<depth_max).where(ds.PRES>depth_min).diff('N_LEVELS').median('N_LEVELS')\n",
    "    ind_rate=median_dp.where(median_dp<sample_max,drop=True).N_PROF\n",
    "    ds_sel=ds.sel(N_PROF=ind_rate)\n",
    "    ds_interp=ds_sel.argo.interp_std_levels(np.arange(depth_min,depth_max,2)) #is this where we lose other variables?\n",
    "    ds_interp=ds_interp.sortby(ds_interp.N_PROF)\n",
    "    \n",
    "    number=np.arange(0,len(ds_interp.N_PROF))\n",
    "    ds_interp.coords['N_PROF_NEW']=xr.DataArray(number,dims=ds_interp.N_PROF.dims)\n",
    "    return ds_interp"
   ]
  },
  {
   "cell_type": "code",
   "execution_count": null,
   "metadata": {},
   "outputs": [],
   "source": [
    "#question: the way we define sigma here doesn't involve dx and L_filt --> should it?\n",
    "\n",
    "def get_ds_filt(ds_interp,first,last,num,variable='TEMP'):\n",
    "    sigmas=np.logspace(first,last,num)\n",
    "    temp=np.zeros((ds_interp.N_PROF.shape[0],ds_interp.PRES_INTERPOLATED.shape[0],num))\n",
    "\n",
    "    for n in range(0,num):\n",
    "        temp[:,:,n]=filter.gaussian_filter1d(ds_interp[variable],sigma=sigmas[n],mode='nearest')\n",
    "\n",
    "    ds_filt=xr.DataArray(temp,dims=['N_PROF','PRES_INTERPOLATED','FILT_SCALE'],\n",
    "             coords={'N_PROF':ds_interp.N_PROF,'PRES_INTERPOLATED':ds_interp.PRES_INTERPOLATED,'FILT_SCALE':sigmas})\n",
    "    \n",
    "    number=np.arange(0,len(ds_filt.N_PROF))\n",
    "    ds_filt['N_PROF_NEW']=xr.DataArray(number,dims=ds_filt.N_PROF.dims)\n",
    "    return ds_filt"
   ]
  },
  {
   "cell_type": "code",
   "execution_count": null,
   "metadata": {},
   "outputs": [],
   "source": [
    "def get_var(ds_interp,ds_filt,variable='TEMP'):\n",
    "    var=np.zeros(len(ds_filt.FILT_SCALE))\n",
    "    for n,sig in enumerate(so_filt.FILT_SCALE):\n",
    "        prof=ds_filt.sel(FILT_SCALE=sig)\n",
    "        var[n]=(prof-ds_interp[variable]).var()\n",
    "    return var"
   ]
  },
  {
   "cell_type": "code",
   "execution_count": null,
   "metadata": {},
   "outputs": [],
   "source": [
    "def get_2_depths(ds,first,mid,last,sample_max,variable='TEMP'):\n",
    "    interp_1=get_ds_interp(ds,first,mid,sample_max)\n",
    "    interp_2=get_ds_interp(ds,mid,last,sample_max)\n",
    "    \n",
    "    filt_1=get_ds_filt(interp_1,0.5,2.5,50)\n",
    "    filt_2=get_ds_filt(interp_2,0.5,2.5,50)\n",
    "    \n",
    "    var_1=get_var(interp_1,filt_1)\n",
    "    var_2=get_var(interp_2,filt_2)\n",
    "    \n",
    "    return filt_1,var_1,filt_2,var_2"
   ]
  },
  {
   "cell_type": "code",
   "execution_count": null,
   "metadata": {},
   "outputs": [],
   "source": [
    "def get_3_depths(ds,first,mid1,mid2,last,sample_max,variable='TEMP'):\n",
    "    interp_1=get_ds_interp(ds,first,mid1,sample_max)\n",
    "    interp_2=get_ds_interp(ds,mid1,mid2,sample_max)\n",
    "    interp_3=get_ds_interp(ds,mid2,last,sample_max)\n",
    "    \n",
    "    filt_1=get_ds_filt(interp_1,0.5,2.5,50)\n",
    "    filt_2=get_ds_filt(interp_2,0.5,2.5,50)\n",
    "    filt_3=get_ds_filt(interp_3,0.5,2.5,50)\n",
    "    \n",
    "    var_1=get_var(interp_1,filt_1)\n",
    "    var_2=get_var(interp_2,filt_2)\n",
    "    var_3=get_var(interp_3,filt_3)\n",
    "    \n",
    "    return filt_1,var_1,filt_2,var_2,filt_3,var_3"
   ]
  },
  {
   "cell_type": "markdown",
   "metadata": {},
   "source": [
    "## Housekeeping"
   ]
  },
  {
   "cell_type": "code",
   "execution_count": null,
   "metadata": {},
   "outputs": [],
   "source": [
    "np_param=[-155,-145,30,35,0,2000]\n",
    "np_ds=xr.open_dataset(\"202206_lon:(-155,-145)_lat:(30,35).nc\")\n",
    "na_param=[-55,-45,40,45,0,2000]\n",
    "na_ds=xr.open_dataset(\"202206_lon:(-55,-45)_lat:(40,45).nc\")\n",
    "so_param=[30,40,-55,-50,0,2000]\n",
    "so_ds=xr.open_dataset(\"202206_lon:(30,40)_lat:(-55,-50).nc\")\n",
    "io_param=[90,100,-15,-10,0,2000]\n",
    "io_ds=xr.open_dataset(\"202206_lon:(90,100)_lat:(-15,-10).nc\")"
   ]
  },
  {
   "cell_type": "code",
   "execution_count": null,
   "metadata": {},
   "outputs": [],
   "source": [
    "so_interp=get_ds_interp(so_ds,0,2000,3)\n",
    "np_interp=get_ds_interp(np_ds,0,2000,3)\n",
    "na_interp=get_ds_interp(na_ds,0,2000,3)\n",
    "io_interp=get_ds_interp(io_ds,0,2000,3)"
   ]
  },
  {
   "cell_type": "code",
   "execution_count": null,
   "metadata": {},
   "outputs": [],
   "source": [
    "so_filt=get_ds_filt(so_interp,0.5,2.5,50)\n",
    "np_filt=get_ds_filt(np_interp,0.5,2.5,50)\n",
    "na_filt=get_ds_filt(na_interp,0.5,2.5,50)\n",
    "io_filt=get_ds_filt(io_interp,0.5,2.5,50)"
   ]
  },
  {
   "cell_type": "code",
   "execution_count": null,
   "metadata": {},
   "outputs": [],
   "source": [
    "so_var=get_var(so_interp,so_filt)\n",
    "np_var=get_var(np_interp,np_filt)\n",
    "na_var=get_var(na_interp,na_filt)\n",
    "io_var=get_var(io_interp,io_filt)"
   ]
  },
  {
   "cell_type": "code",
   "execution_count": null,
   "metadata": {},
   "outputs": [],
   "source": [
    "first,mid1,mid2,last,sample_max=0,200,1000,2000,3\n",
    "so_filt_1,so_var_1,so_filt_2,so_var_2,so_filt_3,so_var_3=get_3_depths(so_ds,first,mid1,mid2,last,sample_max)\n",
    "np_filt_1,np_var_1,np_filt_2,np_var_2,np_filt_3,np_var_3=get_3_depths(np_ds,first,mid1,mid2,last,sample_max)\n",
    "na_filt_1,na_var_1,na_filt_2,na_var_2,na_filt_3,na_var_3=get_3_depths(na_ds,first,mid1,mid2,last,sample_max)\n",
    "io_filt_1,io_var_1,io_filt_2,io_var_2,io_filt_3,io_var_3=get_3_depths(io_ds,first,mid1,mid2,last,sample_max)"
   ]
  },
  {
   "cell_type": "markdown",
   "metadata": {},
   "source": [
    "## Data"
   ]
  },
  {
   "cell_type": "markdown",
   "metadata": {},
   "source": [
    "#### Map of Boxes"
   ]
  },
  {
   "cell_type": "code",
   "execution_count": null,
   "metadata": {},
   "outputs": [],
   "source": [
    "np_lon,np_lat=np.average((np_param[0],np_param[1])),np.average((np_param[2],np_param[3]))\n",
    "na_lon,na_lat=np.average((na_param[0],na_param[1])),np.average((na_param[2],na_param[3]))\n",
    "so_lon,so_lat=np.average((so_param[0],so_param[1])),np.average((so_param[2],so_param[3]))\n",
    "io_lon,io_lat=np.average((io_param[0],io_param[1])),np.average((io_param[2],io_param[3]))"
   ]
  },
  {
   "cell_type": "code",
   "execution_count": null,
   "metadata": {},
   "outputs": [],
   "source": [
    "plt.figure(figsize=(10,5))\n",
    "ax=plt.axes(projection=ccrs.Robinson())\n",
    "ax.set_global()\n",
    "ax.coastlines()\n",
    "ax.gridlines(draw_labels=True)\n",
    "plt.plot(np_lon,np_lat,transform=ccrs.PlateCarree(),label='North Pacific',marker='o',markersize=12)\n",
    "plt.plot(na_lon,na_lat,transform=ccrs.PlateCarree(),label='North Atlantic',marker='o',markersize=12)\n",
    "plt.plot(so_lon,so_lat,transform=ccrs.PlateCarree(),label='Southern Ocean',marker='o',markersize=12)\n",
    "plt.plot(io_lon,io_lat,transform=ccrs.PlateCarree(),label='Indian Ocean',marker='o',markersize=12)\n",
    "plt.legend()"
   ]
  },
  {
   "cell_type": "markdown",
   "metadata": {},
   "source": [
    "#### All Boxes Results"
   ]
  },
  {
   "cell_type": "code",
   "execution_count": null,
   "metadata": {},
   "outputs": [],
   "source": [
    "np_nmi=get_ds_interp(np_ds,300,2000,3)\n",
    "na_nmi=get_ds_interp(na_ds,300,2000,3)\n",
    "so_nmi=get_ds_interp(so_ds,300,2000,3)\n",
    "io_nmi=get_ds_interp(io_ds,300,2000,3)\n",
    "\n",
    "np_nmf=get_ds_filt(np_nmi,0.5,2.5,50)\n",
    "na_nmf=get_ds_filt(na_nmi,0.5,2.5,50)\n",
    "so_nmf=get_ds_filt(so_nmi,0.5,2.5,50)\n",
    "io_nmf=get_ds_filt(io_nmi,0.5,2.5,50)\n",
    "\n",
    "np_nmv=get_var(np_nmi,np_nmf)\n",
    "na_nmv=get_var(na_nmi,na_nmf)\n",
    "so_nmv=get_var(so_nmi,so_nmf)\n",
    "io_nmv=get_var(io_nmi,io_nmf)"
   ]
  },
  {
   "cell_type": "code",
   "execution_count": null,
   "metadata": {},
   "outputs": [],
   "source": [
    "for interp in (np_interp,na_interp,so_interp,io_interp):\n",
    "    interp.N_PROF_NEW.attrs.update({'long_name':'Relative Profile Number'})\n",
    "    interp.TEMP.attrs.update({'long_name':'Temperature','units':'°C'})\n",
    "    interp.PRES_INTERPOLATED.attrs.update({'long_name':'Interpolated Pressure','units':'db'})"
   ]
  },
  {
   "cell_type": "code",
   "execution_count": null,
   "metadata": {},
   "outputs": [],
   "source": [
    "plt.figure(figsize=(10,5))\n",
    "xs=[np_nmf.FILT_SCALE,na_nmf.FILT_SCALE,so_nmf.FILT_SCALE,io_nmf.FILT_SCALE]\n",
    "ys=[np_nmv,na_nmv,so_nmv,io_nmv]\n",
    "titles=['North Pacific','North Atlantic','Southern Ocean','Indian Ocean']\n",
    "\n",
    "for n in range(0,4):\n",
    "    plt.plot(xs[n],ys[n],'.-',label=titles[n])\n",
    "    plt.xscale('log')\n",
    "    plt.yscale('log')\n",
    "    plt.xlabel(\"Filter Scale ($m$)\")\n",
    "    plt.ylabel(\"Variance ($^oC^2$)\")\n",
    "    plt.ylim(10**-4.5,10**0.5)\n",
    "    #plt.xticks([0.02,0.01,0.1,0.2],labels=[50,100,10,5])\n",
    "    \n",
    "plt.subplots_adjust(hspace=0.4,wspace=0.4)\n",
    "plt.legend()\n",
    "#plt.title(\"Variance plot over (300m, 2000m) for four regions\");"
   ]
  },
  {
   "cell_type": "markdown",
   "metadata": {},
   "source": [
    "#### Methods Flowchart"
   ]
  },
  {
   "cell_type": "code",
   "execution_count": null,
   "metadata": {},
   "outputs": [],
   "source": [
    "plt.figure(figsize=(12,5))\n",
    "na_interp.TEMP.plot(x='N_PROF_NEW',y='PRES_INTERPOLATED',robust=True)\n",
    "plt.gca().invert_yaxis()"
   ]
  },
  {
   "cell_type": "code",
   "execution_count": null,
   "metadata": {},
   "outputs": [],
   "source": [
    "plt.figure(figsize=(3,6))\n",
    "profile=na_interp.TEMP.isel(N_PROF=200)\n",
    "profile.plot(y='PRES_INTERPOLATED',color='black')\n",
    "plt.gca().invert_yaxis()\n",
    "plt.xlabel('T$_{profile}$ [°C]')\n",
    "plt.xlim(3,15)\n",
    "plt.title('');"
   ]
  },
  {
   "cell_type": "code",
   "execution_count": null,
   "metadata": {},
   "outputs": [],
   "source": [
    "filt1,filt2,filt3=12,29,-4\n",
    "filts=[na_filt.isel(N_PROF=200,FILT_SCALE=filt1),na_filt.isel(N_PROF=200,FILT_SCALE=filt2),na_filt.isel(N_PROF=200,FILT_SCALE=filt3)]\n",
    "labels=[int(round(float(na_filt.FILT_SCALE[filt1]))),int(round(float(na_filt.FILT_SCALE[filt2]))),int(round(float(na_filt.FILT_SCALE[filt3])))]\n",
    "\n",
    "plt.subplot(1,3,1)\n",
    "filts[0].plot(y='PRES_INTERPOLATED',color='black')\n",
    "plt.gca().invert_yaxis()\n",
    "plt.xlabel('T$_{filter}$ [°C]')\n",
    "plt.ylabel('Interpolated Pressure [db]')\n",
    "plt.xlim(3,15)\n",
    "plt.title('Filter Scale:{}'.format(labels[0]),fontsize=15)\n",
    "\n",
    "plt.subplot(1,3,2)\n",
    "filts[1].plot(y='PRES_INTERPOLATED',color='black')\n",
    "plt.gca().invert_yaxis()\n",
    "plt.yticks([])\n",
    "plt.ylabel('')\n",
    "plt.xlabel('T$_{filter}$ [°C]')\n",
    "plt.xlim(3,15)\n",
    "plt.title('Filter Scale:{}'.format(labels[1]),fontsize=15)\n",
    "\n",
    "plt.subplot(1,3,3)\n",
    "filts[2].plot(y='PRES_INTERPOLATED',color='black')\n",
    "plt.gca().invert_yaxis()\n",
    "plt.yticks([])\n",
    "plt.ylabel('')\n",
    "plt.xlabel('T$_{filter}$ [°C]')\n",
    "plt.xlim(3,15)\n",
    "plt.title('Filter Scale:{}'.format(labels[2]),fontsize=15);"
   ]
  },
  {
   "cell_type": "code",
   "execution_count": null,
   "metadata": {},
   "outputs": [],
   "source": [
    "anoms=[profile-filts[0],profile-filts[1],profile-filts[2]]\n",
    "\n",
    "plt.subplot(1,3,1)\n",
    "anoms[0].plot(y='PRES_INTERPOLATED',color='black')\n",
    "plt.gca().invert_yaxis()\n",
    "plt.xlabel('T$_{anomaly}$ [°C]')\n",
    "plt.xlim(-5,7)\n",
    "plt.title('Filter Scale:{}'.format(labels[0]),fontsize=15)\n",
    "\n",
    "plt.subplot(1,3,2)\n",
    "anoms[1].plot(y='PRES_INTERPOLATED',color='black')\n",
    "plt.gca().invert_yaxis()\n",
    "plt.yticks([])\n",
    "plt.ylabel('')\n",
    "plt.xlabel('T$_{anomaly}$ [°C]')\n",
    "plt.xlim(-5,7)\n",
    "plt.title('Filter Scale:{}'.format(labels[1]),fontsize=15)\n",
    "\n",
    "plt.subplot(1,3,3)\n",
    "anoms[2].plot(y='PRES_INTERPOLATED',color='black')\n",
    "plt.gca().invert_yaxis()\n",
    "plt.yticks([])\n",
    "plt.ylabel('')\n",
    "plt.xlabel('T$_{anomaly}$ [°C]]')\n",
    "plt.xlim(-5,7)\n",
    "plt.title('Filter Scale:{}'.format(labels[2]),fontsize=15);"
   ]
  },
  {
   "cell_type": "code",
   "execution_count": null,
   "metadata": {},
   "outputs": [],
   "source": [
    "plt.figure(figsize=(10,5))\n",
    "\n",
    "plt.plot(na_filt.FILT_SCALE[filt1],na_var[filt1],'o',color='black')\n",
    "plt.plot(na_filt.FILT_SCALE[filt2],na_var[filt2],'o',color='black')\n",
    "plt.plot(na_filt.FILT_SCALE[filt3],na_var[filt3],'o',color='black')\n",
    "plt.plot(na_filt.FILT_SCALE,na_var,'-',color='black',label='depth:[0,2000] profiles:{}'.format(na_filt.N_PROF.shape[0]))\n",
    "\n",
    "plt.legend()\n",
    "plt.xscale('log')\n",
    "plt.yscale('log')\n",
    "plt.xlabel(\"Filter Scale ($m$)\")\n",
    "plt.ylabel(\"Variance ($^oC^2$)\")\n",
    "plt.ylim(10**-5.5,10**2);"
   ]
  },
  {
   "cell_type": "markdown",
   "metadata": {},
   "source": [
    "#### Variance Plots"
   ]
  },
  {
   "cell_type": "code",
   "execution_count": null,
   "metadata": {},
   "outputs": [],
   "source": [
    "plt.figure(figsize=(20,10))\n",
    "x1s=[so_filt_1.FILT_SCALE,np_filt_1.FILT_SCALE,na_filt_1.FILT_SCALE,io_filt_1.FILT_SCALE]\n",
    "x2s=[so_filt_2.FILT_SCALE,np_filt_2.FILT_SCALE,na_filt_2.FILT_SCALE,io_filt_2.FILT_SCALE]\n",
    "x3s=[so_filt_3.FILT_SCALE,np_filt_3.FILT_SCALE,na_filt_3.FILT_SCALE,io_filt_3.FILT_SCALE]\n",
    "y1s=[so_var_1,np_var_1,na_var_1,io_var_1]\n",
    "y2s=[so_var_2,np_var_2,na_var_2,io_var_2]\n",
    "y3s=[so_var_3,np_var_3,na_var_3,io_var_3]\n",
    "label1=[so_filt_1.N_PROF.shape[0],np_filt_1.N_PROF.shape[0],na_filt_1.N_PROF.shape[0],io_filt_1.N_PROF.shape[0]]\n",
    "label2=[so_filt_2.N_PROF.shape[0],np_filt_2.N_PROF.shape[0],na_filt_2.N_PROF.shape[0],io_filt_2.N_PROF.shape[0]]\n",
    "label3=[so_filt_3.N_PROF.shape[0],np_filt_3.N_PROF.shape[0],na_filt_3.N_PROF.shape[0],io_filt_3.N_PROF.shape[0]]\n",
    "titles=['Southern Ocean','North Pacific','North Atlantic','Indian Ocean']\n",
    "\n",
    "for n in range(0,4):\n",
    "    plt.subplot(2,2,n+1)\n",
    "    plt.plot(x1s[n],y1s[n],'.-',label='depth:[{},{}] profiles:{}'.format(first,mid1,label1[n]))\n",
    "    plt.plot(x2s[n],y2s[n],'.-',label='depth:[{},{}] profiles:{}'.format(mid1,mid2,label2[n]))\n",
    "    plt.plot(x3s[n],y3s[n],'.-',label='depth:[{},{}] profiles:{}'.format(mid2,last,label3[n]))\n",
    "    plt.legend()\n",
    "    plt.xscale('log')\n",
    "    plt.yscale('log')\n",
    "    plt.xlabel(\"Filter Scale ($m$)\")\n",
    "    plt.ylabel(\"Variance ($^oC^2$)\")\n",
    "    plt.ylim(10**-5.5,10**2)\n",
    "    plt.title(titles[n])\n",
    "\n",
    "plt.subplots_adjust(hspace=0.4,wspace=0.2)"
   ]
  },
  {
   "cell_type": "markdown",
   "metadata": {},
   "source": [
    "#### Profile Plots"
   ]
  },
  {
   "cell_type": "code",
   "execution_count": null,
   "metadata": {},
   "outputs": [],
   "source": [
    "plt.figure(figsize=(10,5))"
   ]
  },
  {
   "cell_type": "code",
   "execution_count": null,
   "metadata": {},
   "outputs": [],
   "source": []
  }
 ],
 "metadata": {
  "kernelspec": {
   "display_name": "Python [conda env:argo]",
   "language": "python",
   "name": "conda-env-argo-py"
  },
  "language_info": {
   "codemirror_mode": {
    "name": "ipython",
    "version": 3
   },
   "file_extension": ".py",
   "mimetype": "text/x-python",
   "name": "python",
   "nbconvert_exporter": "python",
   "pygments_lexer": "ipython3",
   "version": "3.10.4"
  }
 },
 "nbformat": 4,
 "nbformat_minor": 2
}
