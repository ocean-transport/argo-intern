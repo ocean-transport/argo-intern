{
 "cells": [
  {
   "cell_type": "markdown",
   "id": "e213c0f1",
   "metadata": {},
   "source": [
    "# 2D slopes\n",
    "\n",
    "QG theory suggests that the slopes/aspect ratio of tracer filaments would go like N/f:\n",
    "\\begin{equation}\n",
    "\\frac{|\\phi_z|}{|\\phi_x|} = N/f\n",
    "\\end{equation}\n",
    "for smoothhy varying background gradients (which is the case for our region). \n",
    "(Slope is like $dz/dx$, which will go like f/N). "
   ]
  },
  {
   "cell_type": "code",
   "execution_count": 4,
   "id": "9b25eca0",
   "metadata": {},
   "outputs": [],
   "source": [
    "import numpy as np\n",
    "import xarray as xr\n",
    "\n",
    "import glidertools as gt\n",
    "import matplotlib.pylab as plt\n",
    "from matplotlib.colors import BoundaryNorm\n",
    "\n",
    "from cmocean import cm as cmo\n",
    "\n",
    "import xrft \n",
    "\n",
    "import gsw\n",
    "\n",
    "from scipy import interpolate\n",
    "\n",
    "import extra_funcs as ef"
   ]
  },
  {
   "cell_type": "code",
   "execution_count": 2,
   "id": "b87040d3",
   "metadata": {},
   "outputs": [],
   "source": [
    "plt.style.use('seaborn-colorblind')\n",
    "plt.rcParams['font.size'] = 8"
   ]
  },
  {
   "cell_type": "code",
   "execution_count": 3,
   "id": "0a4086fa",
   "metadata": {},
   "outputs": [],
   "source": [
    "ds_659_rho = xr.open_dataset('../data/sg_659_iso_grid.nc')\n",
    "ds_660_rho = xr.open_dataset('../data/sg_660_iso_grid.nc')\n",
    "\n",
    "# compute spice \n",
    "# Pick constant alpha and beta for convenience (can always update later)\n",
    "alpha_659 = gsw.alpha(ds_659_rho.SA, ds_659_rho.CT, ds_659_rho.ctd_pressure)\n",
    "alpha_660 = gsw.alpha(ds_660_rho.SA, ds_660_rho.CT, ds_660_rho.ctd_pressure)\n",
    "\n",
    "#\n",
    "dCT_659 = ds_659_rho.CT  - ds_659_rho.CT.mean('dives')\n",
    "dSA_659 = ds_659_rho.SA  - ds_659_rho.SA.mean('dives')\n",
    "\n",
    "ds_659_rho['Spice'] = (2*alpha_659*dCT_659).rename('Spice')\n",
    "\n",
    "# remove a mean per isopycnal\n",
    "dCT_660 = ds_660_rho.CT  - ds_660_rho.CT.mean('dives')\n",
    "dSA_660 = ds_660_rho.SA - ds_660_rho.SA.mean('dives')\n",
    "\n",
    "ds_660_rho['Spice'] = (2*alpha_660*dCT_660).rename('Spice')"
   ]
  },
  {
   "cell_type": "code",
   "execution_count": 5,
   "id": "7ca228c0",
   "metadata": {},
   "outputs": [],
   "source": [
    "ds_659_rho_dist = xr.merge( [#interp_distance(ds_659_rho.where(~np.isnan(ds_659_rho.longitude.mean('rho_grid')), drop=True), 'CT', 'rho_grid'), \n",
    "                             #interp_distance(ds_659_rho.where(~np.isnan(ds_659_rho.longitude.mean('rho_grid')), drop=True), 'SA', 'rho_grid'), \n",
    "                             ef.interp_distance(ds_659_rho.where(~np.isnan(ds_659_rho.longitude.mean('rho_grid')), drop=True), 'Spice', 'rho_grid'), \n",
    "                             ef.interp_distance(ds_659_rho.where(~np.isnan(ds_659_rho.longitude.mean('rho_grid')), drop=True), 'ctd_pressure', 'rho_grid')] )"
   ]
  },
  {
   "cell_type": "code",
   "execution_count": 6,
   "id": "4434093c",
   "metadata": {},
   "outputs": [],
   "source": [
    "ds_660_rho_dist = xr.merge( [#interp_distance(ds_660_rho.where(~np.isnan(ds_660_rho.longitude.mean('rho_grid')), drop=True), 'CT', 'rho_grid'), \n",
    "                             #interp_distance(ds_660_rho.where(~np.isnan(ds_660_rho.longitude.mean('rho_grid')), drop=True), 'SA', 'rho_grid'), \n",
    "                             ef.interp_distance(ds_660_rho.where(~np.isnan(ds_660_rho.longitude.mean('rho_grid')), drop=True), 'Spice', 'rho_grid'), \n",
    "                             ef.interp_distance(ds_660_rho.where(~np.isnan(ds_660_rho.longitude.mean('rho_grid')), drop=True), 'ctd_pressure', 'rho_grid')] )"
   ]
  },
  {
   "cell_type": "markdown",
   "id": "83377886",
   "metadata": {},
   "source": [
    "### N2 calculation \n",
    "\n",
    "$$N^2 = db/dz$$\n",
    "\n",
    "where $b = -g \\rho ' / \\rho _0$. \n",
    "\n"
   ]
  },
  {
   "cell_type": "code",
   "execution_count": 7,
   "id": "a2a7b7e4",
   "metadata": {},
   "outputs": [],
   "source": [
    "g = 9.81\n",
    "rho0 = 1000\n",
    "b = - ds_660_rho_dist.rho_grid * g /rho0"
   ]
  },
  {
   "cell_type": "code",
   "execution_count": 8,
   "id": "afd3efda",
   "metadata": {},
   "outputs": [],
   "source": [
    "f = 2*2*np.pi/24/3600*np.sin(55 * np.pi/180)"
   ]
  },
  {
   "cell_type": "code",
   "execution_count": 9,
   "id": "e857a6e2",
   "metadata": {},
   "outputs": [],
   "source": [
    "N2_659 = -b.diff('rho_grid')/ ds_659_rho_dist.ctd_pressure.diff('rho_grid')\n",
    "N2_660 = -b.diff('rho_grid')/ ds_660_rho_dist.ctd_pressure.diff('rho_grid')"
   ]
  },
  {
   "cell_type": "code",
   "execution_count": 12,
   "id": "3083cc09",
   "metadata": {},
   "outputs": [],
   "source": [
    "# Function that regrids a single dive to mean P.\n",
    "# Will be run in a loop to do interpolation for all dives.\n",
    "\n",
    "def func_var_int_pmean(ds, Pmean_smooth_dist): \n",
    "    Pmean_grid = np.linspace(0,1000,501)\n",
    "    \n",
    "    Pmean = Pmean_smooth_dist\n",
    " \n",
    "    ds_nonan = ds.where(~np.isnan(ds) & ~np.isnan(Pmean), drop=True)\n",
    "    Pmean_nonan = Pmean.where(~np.isnan(ds) & ~np.isnan(Pmean), drop=True)\n",
    "    \n",
    "    if len(ds_nonan) > 2:\n",
    "        f = interpolate.PchipInterpolator(Pmean_nonan.values, ds_nonan.values , extrapolate=False)\n",
    "        ds_on_Pmean = f(Pmean_grid)\n",
    "    else:\n",
    "        ds_on_Pmean = np.nan*Pmean_grid\n",
    "    \n",
    "    return xr.DataArray(ds_on_Pmean.reshape((-1,1)),\n",
    "                        dims = ['Pmean', 'distance'],\n",
    "                        coords = {'Pmean': Pmean_grid, 'distance': [ds.distance.values]})\n",
    "    "
   ]
  },
  {
   "cell_type": "code",
   "execution_count": 13,
   "id": "c327d5d5",
   "metadata": {},
   "outputs": [
    {
     "name": "stdout",
     "output_type": "stream",
     "text": [
      "400\n",
      "800\n",
      "1200\n",
      "1600\n",
      "2000\n",
      "2400\n"
     ]
    }
   ],
   "source": [
    "# For 659\n",
    "time_ind = 0\n",
    "\n",
    "Pmean_smooth = ds_659_rho_dist.ctd_pressure.mean('distance').rolling(rho_grid= 30, center=True).mean().sel(rho_grid=slice(27.2, 27.65))\n",
    "\n",
    "N2_on_Pmean_659 = func_var_int_pmean(N2_659.isel(distance=0), Pmean_smooth)\n",
    "spice_on_Pmean_659 = func_var_int_pmean(ds_659_rho_dist.Spice.isel(distance=0), Pmean_smooth)\n",
    "\n",
    "for dist_ind in range(1, len(ds_659_rho_dist.distance)):\n",
    "    if np.mod(dist_ind, 400)==0:\n",
    "        print(dist_ind)\n",
    "    spice_on_Pmean_659 = xr.concat([spice_on_Pmean_659, \n",
    "                                func_var_int_pmean(ds_659_rho_dist.Spice.isel(distance=dist_ind), Pmean_smooth)],\n",
    "                                dim='distance')\n",
    "    \n",
    "    N2_on_Pmean_659 = xr.concat([N2_on_Pmean_659, \n",
    "                                func_var_int_pmean(N2_659.isel(distance=dist_ind), Pmean_smooth)],\n",
    "                                dim='distance')    "
   ]
  },
  {
   "cell_type": "code",
   "execution_count": 14,
   "id": "0c463187",
   "metadata": {},
   "outputs": [
    {
     "name": "stdout",
     "output_type": "stream",
     "text": [
      "400\n",
      "800\n",
      "1200\n",
      "1600\n",
      "2000\n",
      "2400\n",
      "2800\n",
      "3200\n"
     ]
    }
   ],
   "source": [
    "# For 660 \n",
    "time_ind = 0\n",
    "\n",
    "Pmean_smooth = ds_660_rho_dist.ctd_pressure.mean('distance').rolling(rho_grid= 30, center=True).mean().sel(rho_grid=slice(27.2, 27.65))\n",
    "\n",
    "N2_on_Pmean_660 = func_var_int_pmean(N2_660.isel(distance=0), Pmean_smooth)\n",
    "spice_on_Pmean_660 = func_var_int_pmean(ds_660_rho_dist.Spice.isel(distance=0), Pmean_smooth)\n",
    "\n",
    "for dist_ind in range(1, len(ds_660_rho_dist.distance)):\n",
    "    if np.mod(dist_ind, 400)==0:\n",
    "        print(dist_ind)\n",
    "    spice_on_Pmean_660 = xr.concat([spice_on_Pmean_660, \n",
    "                                func_var_int_pmean(ds_660_rho_dist.Spice.isel(distance=dist_ind), Pmean_smooth)],\n",
    "                                dim='distance')\n",
    "    N2_on_Pmean_660 = xr.concat([N2_on_Pmean_660, \n",
    "                                func_var_int_pmean(N2_660.isel(distance=dist_ind), Pmean_smooth)],\n",
    "                                dim='distance')        "
   ]
  },
  {
   "cell_type": "code",
   "execution_count": 17,
   "id": "3f83e1ca",
   "metadata": {},
   "outputs": [],
   "source": [
    "dSdx_659 = np.abs(spice_on_Pmean_659.diff('distance')/ spice_on_Pmean_659.distance.diff('distance'))\n",
    "dSdz_659 = np.abs(spice_on_Pmean_659.diff('Pmean')/ spice_on_Pmean_659.Pmean.diff('Pmean'))\n",
    "\n",
    "dSdx_660 = np.abs(spice_on_Pmean_660.diff('distance')/ spice_on_Pmean_660.distance.diff('distance'))\n",
    "dSdz_660 = np.abs(spice_on_Pmean_660.diff('Pmean')/ spice_on_Pmean_660.Pmean.diff('Pmean'))"
   ]
  },
  {
   "cell_type": "code",
   "execution_count": 18,
   "id": "1132e5fc",
   "metadata": {},
   "outputs": [],
   "source": [
    "Nbyf = ( 0.5*(N2_on_Pmean_659 + N2_on_Pmean_660).mean('distance'))**0.5 /f"
   ]
  },
  {
   "cell_type": "code",
   "execution_count": 20,
   "id": "3780c4ce",
   "metadata": {},
   "outputs": [],
   "source": [
    "H_659 , xedges, yedges = np.histogram2d(np.log10(dSdx_659[:-1,:].sel(Pmean=slice(200, 750)).values.reshape(-1)), np.log10(dSdz_659[:, :-1].sel(Pmean=slice(200, 750)).values.reshape(-1)),\n",
    "           bins=[np.linspace(-11, -6, 41), np.linspace(-9, -4, 40)], density=True   );\n",
    "\n",
    "\n",
    "H_660 , xedges, yedges = np.histogram2d(np.log10(dSdx_659[:-1,:].sel(Pmean=slice(200, 750)).values.reshape(-1)), np.log10(dSdz_659[:, :-1].sel(Pmean=slice(200, 750)).values.reshape(-1)),\n",
    "           bins=[np.linspace(-11, -6, 41), np.linspace(-9, -4, 40)], density=True   );\n"
   ]
  },
  {
   "cell_type": "code",
   "execution_count": 30,
   "id": "9116ccae",
   "metadata": {},
   "outputs": [
    {
     "data": {
      "image/png": "[encoded data removed]",
      "text/plain": [
       "<Figure size 340x270 with 2 Axes>"
      ]
     },
     "metadata": {},
     "output_type": "display_data"
    }
   ],
   "source": [
    "plt.figure(figsize=(3.4, 2.7))\n",
    "plt.subplot(111)\n",
    "\n",
    "plt.contourf(xedges[:-1], yedges[:-1], 0.5*(H_659 + H_660).T, levels=np.linspace(0, 0.5,11), cmap=cmo.rain)\n",
    "\n",
    "plt.plot(xedges, xedges + np.log10(Nbyf.sel(Pmean=slice(200, 750)).max().values),'--', color='w')\n",
    "plt.plot(xedges, xedges + np.log10(Nbyf.sel(Pmean=slice(200, 750)).min().values),'--', color='w')\n",
    "\n",
    "plt.colorbar(aspect=30, label='PDF')\n",
    "\n",
    "plt.axis([-11, -7, -9, -5])\n",
    "\n",
    "plt.yticks(ticks=[-9, -8, -7, -6, -5])\n",
    "\n",
    "plt.xlabel(r'log$_{10}$ $|\\tau _x|$')\n",
    "plt.ylabel(r'log$_{10}$ $|\\tau _z|$')\n",
    "\n",
    "plt.tight_layout()\n",
    "plt.savefig('./figures/figures_slope_pdf.pdf')"
   ]
  },
  {
   "cell_type": "code",
   "execution_count": 25,
   "id": "cf40c098",
   "metadata": {},
   "outputs": [],
   "source": [
    "AR_659 = dSdz_659.mean('distance') / dSdx_659.mean('distance')\n",
    "AR_660 = dSdz_660.mean('distance') / dSdx_660.mean('distance')\n",
    "\n",
    "AR = 0.5* (AR_659 + AR_660)"
   ]
  },
  {
   "cell_type": "code",
   "execution_count": 29,
   "id": "6aa3fbb7",
   "metadata": {},
   "outputs": [
    {
     "data": {
      "image/png": "[encoded data removed]",
      "text/plain": [
       "<Figure size 300x270 with 1 Axes>"
      ]
     },
     "metadata": {},
     "output_type": "display_data"
    }
   ],
   "source": [
    "plt.figure(figsize=(3., 2.7))\n",
    "AR.sel(Pmean=slice(200,750)).plot(y='Pmean', label=r'$\\overline{| \\tau _z|} / \\overline{| \\tau _x|}$', linewidth=2.)\n",
    "Nbyf.sel(Pmean=slice(200, 750)).plot(y='Pmean', label='N/f', linewidth=2.)\n",
    "# ( (N2_on_Pmean_660**0.5) /f).sel(Pmean=slice(200, 800)).plot(y='Pmean')\n",
    "\n",
    "plt.gca().invert_yaxis()\n",
    "\n",
    "plt.xscale('log')\n",
    "plt.legend()\n",
    "\n",
    "plt.xlabel('Aspect Ratio')\n",
    "plt.ylabel('Mean Isopycnal Depth [m]')\n",
    "plt.xlim([5, 300])\n",
    "\n",
    "plt.tight_layout()\n",
    "plt.savefig('./figures/figures_aspect_ratio.pdf')"
   ]
  },
  {
   "cell_type": "code",
   "execution_count": null,
   "id": "0d7e3ffe",
   "metadata": {},
   "outputs": [],
   "source": []
  }
 ],
 "metadata": {
  "kernelspec": {
   "display_name": "Python [conda env:sogos]",
   "language": "python",
   "name": "conda-env-sogos-py"
  },
  "language_info": {
   "codemirror_mode": {
    "name": "ipython",
    "version": 3
   },
   "file_extension": ".py",
   "mimetype": "text/x-python",
   "name": "python",
   "nbconvert_exporter": "python",
   "pygments_lexer": "ipython3",
   "version": "3.7.10"
  }
 },
 "nbformat": 4,
 "nbformat_minor": 5
}
