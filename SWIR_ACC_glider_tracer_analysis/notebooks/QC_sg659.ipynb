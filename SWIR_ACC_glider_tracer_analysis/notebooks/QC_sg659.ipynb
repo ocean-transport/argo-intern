{
 "cells": [
  {
   "cell_type": "markdown",
   "id": "cf8cb7bf",
   "metadata": {},
   "source": [
    "## Additional QC for sg659\n",
    "\n",
    "The glider data has been processed by the base station on 2021/09/24. The software on the base stations already included some QC procedures documented [here](https://gliderfs2.coas.oregonstate.edu/sgliderweb/Seaglider_Quality_Control_Manual.html).\n",
    "\n",
    "Here we do some:\n",
    "- additional QC on the data, using the methods documented at https://glidertools.readthedocs.io/en/latest/quality_control.html\n",
    "-  Calibration adjustments to remove bias, and match the observations between the two gliders. \n",
    "- Sorting and binning the data to bring it to a cleaner and easier to analyze form.\n",
    "\n",
    "*Note that the out from this notebook is stored in this repo, and used for all the analysis for this paper. So most users might not need to run this notebook.*"
   ]
  },
  {
   "cell_type": "code",
   "execution_count": 1,
   "id": "fee5b98c",
   "metadata": {},
   "outputs": [],
   "source": [
    "import numpy as np\n",
    "import xarray as xr\n",
    "\n",
    "import glidertools as gt\n",
    "from cmocean import cm as cmo\n",
    "\n",
    "import gsw\n",
    "import extra_funcs as ef \n",
    "\n",
    "import matplotlib.pyplot as plt"
   ]
  },
  {
   "cell_type": "markdown",
   "id": "d49fdbbe",
   "metadata": {},
   "source": [
    "#### Open the dataset"
   ]
  },
  {
   "cell_type": "code",
   "execution_count": 2,
   "id": "32c31884",
   "metadata": {},
   "outputs": [],
   "source": [
    "# Edit this to be the path where the nc files downloaded from the location \n",
    "# in the read me are stored. \n",
    "data_dir = '/Users/dhruvbalwada/OneDrive/sogos_data'\n",
    "nc_files_659 = data_dir + '/data/raw/gliders/SOGOS_Apr19/sg659/*.nc'"
   ]
  },
  {
   "cell_type": "code",
   "execution_count": 3,
   "id": "fb4415bc",
   "metadata": {},
   "outputs": [],
   "source": [
    "var_names = [\n",
    "    'ctd_depth',\n",
    "    'ctd_pressure',\n",
    "    'salinity',\n",
    "    'temperature'\n",
    "]\n",
    "# There are more variables measured by the gliders, but in this study we only \n",
    "# use these. "
   ]
  },
  {
   "cell_type": "code",
   "execution_count": 4,
   "id": "bff8455b",
   "metadata": {},
   "outputs": [
    {
     "name": "stdout",
     "output_type": "stream",
     "text": [
      "\n",
      "DIMENSION: ctd_data_point\n",
      "{ctd_pressure, temperature, ctd_depth, ctd_time, latitude, salinity, longitude}\n"
     ]
    },
    {
     "name": "stderr",
     "output_type": "stream",
     "text": [
      "100%|██████████| 492/492 [00:02<00:00, 168.73it/s]\n"
     ]
    }
   ],
   "source": [
    "ds_dict = gt.load.seaglider_basestation_netCDFs(\n",
    "    nc_files_659, var_names,\n",
    "    return_merged=False,\n",
    "    keep_global_attrs=False\n",
    ")"
   ]
  },
  {
   "cell_type": "markdown",
   "id": "c13f496b",
   "metadata": {},
   "source": [
    "#### Remove non-needed dives, do additive correction, add attributes"
   ]
  },
  {
   "cell_type": "code",
   "execution_count": 5,
   "id": "58e56717",
   "metadata": {},
   "outputs": [],
   "source": [
    "ctd_659 = ds_dict['ctd_data_point']\n",
    "# throw out data points after we stopped sampling the region for science\n",
    "# and the gliders were being turned on just so they could get back to be picked by a ship. \n",
    "ctd_659 = ctd_659.where(ctd_659.longitude<40, drop=True) "
   ]
  },
  {
   "cell_type": "code",
   "execution_count": 6,
   "id": "ceb6a829",
   "metadata": {},
   "outputs": [],
   "source": [
    "# an additive correction is made to the temperature, \n",
    "# to match to the Argo float measurements launched with the glider.\n",
    "# This bias was estimated by Lily Dove at Caltech.\n",
    "temp_dic = ctd_659['temperature'].attrs.copy()\n",
    "ctd_659['temperature'] = ctd_659['temperature']+0.045\n",
    "ctd_659['temperature'].attrs = temp_dic"
   ]
  },
  {
   "cell_type": "code",
   "execution_count": 7,
   "id": "406e28ca",
   "metadata": {},
   "outputs": [],
   "source": [
    "# Load O2 data \n",
    "# (we need to use this because lily did some O2 calibration that I don't know how to do. )\n",
    "# So just directly load in the processed data. \n",
    "O2_659 = xr.load_dataset('../data/O2_659.nc')\n",
    "O2_659['oxygen'].attrs['standard_name'] = 'Oxygen'\n",
    "O2_659['oxygen'].attrs['units'] = 'mumol/kg'"
   ]
  },
  {
   "cell_type": "code",
   "execution_count": 8,
   "id": "5ffef64a",
   "metadata": {},
   "outputs": [],
   "source": [
    "# Convert time axis to day format \n",
    "ctd_659['days'] = ef.datetime2ytd(ctd_659.ctd_time_dt64)\n",
    "O2_659['days'] = ef.datetime2ytd(O2_659.time)"
   ]
  },
  {
   "cell_type": "markdown",
   "id": "66b29a49",
   "metadata": {},
   "source": [
    "#### Do some useful thermodynamic transformations"
   ]
  },
  {
   "cell_type": "code",
   "execution_count": 9,
   "id": "436e7f20",
   "metadata": {},
   "outputs": [],
   "source": [
    "# Compute the absolute salinity, conservative temperature, and potential density\n",
    "\n",
    "SA = gsw.SA_from_SP(ctd_659.salinity, ctd_659.ctd_pressure, \n",
    "                   ctd_659.longitude, ctd_659.latitude)\n",
    "CT = gsw.CT_from_t(SA, ctd_659.temperature, ctd_659.ctd_pressure)\n",
    "\n",
    "ctd_659['SA'] = SA\n",
    "ctd_659['CT'] = CT\n",
    "ctd_659['sigma0'] = gsw.sigma0(SA, CT)\n",
    "\n",
    "ctd_659['SA'].attrs['standard_name'] = 'Absolute Salinity'\n",
    "ctd_659['SA'].attrs['units'] = 'g/kg'\n",
    "\n",
    "ctd_659['CT'].attrs['standard_name'] = 'Conservative Temperature'\n",
    "ctd_659['CT'].attrs['units'] = 'deg C'\n",
    "ctd_659['CT'].attrs['comment'] = ctd_659['temperature'].attrs['comment']\n",
    "\n",
    "ctd_659['sigma0'].attrs['standard_name'] = 'Potential Density Anomaly'\n",
    "ctd_659['sigma0'].attrs['units'] = 'kg/m^3'\n",
    "ctd_659['sigma0'].attrs['comment'] = 'Calculated using GSW'"
   ]
  },
  {
   "cell_type": "markdown",
   "id": "fc8a49e5",
   "metadata": {},
   "source": [
    "#### Median based filter and remove some bad dives"
   ]
  },
  {
   "cell_type": "code",
   "execution_count": 10,
   "id": "33307533",
   "metadata": {},
   "outputs": [],
   "source": [
    "filter_window = 15 # this choice made based on work above\n",
    "# Do some despiking using a median filter\n",
    "salt_iqr = gt.cleaning.outlier_bounds_iqr(ctd_659.SA, multiplier=1.5)\n",
    "salt_base, salt_spike = gt.cleaning.despike(salt_iqr, window_size=filter_window, spike_method='median') # this is to get rid of some odd profiles\n",
    "\n",
    "#temp_iqr = gt.cleaning.outlier_bounds_iqr(ctd_660.temperature, multiplier=2.5) # this is not a good idea for temp as it gets rid of a lot of the cold anomalies, which are real. \n",
    "temp_base, temp_spike = gt.cleaning.despike(ctd_659.CT, window_size=filter_window, spike_method='median')\n",
    "\n",
    "O2_iqr = gt.cleaning.outlier_bounds_iqr(O2_659.oxygen, multiplier=1.5)\n",
    "O2_base, O2_spike = gt.cleaning.despike(O2_iqr, window_size=filter_window, spike_method='median') # this is to get rid of some odd profiles"
   ]
  },
  {
   "cell_type": "code",
   "execution_count": 11,
   "id": "ae7e3dd1",
   "metadata": {},
   "outputs": [],
   "source": [
    "ctd_659['SA_QC'] = salt_base\n",
    "ctd_659['CT_QC'] = temp_base\n",
    "\n",
    "# We need to move O2 to ctd values\n",
    "O2_659['oxygen_QC'] = O2_base\n",
    "ctd_659['oxygen'] = xr.DataArray(np.interp(ctd_659.days, O2_659.days, O2_659.oxygen_QC),\n",
    "                                dims= ctd_659.dims,\n",
    "                                coords= ctd_659.coords).rename('oxygen')"
   ]
  },
  {
   "cell_type": "code",
   "execution_count": 12,
   "id": "77181aa1",
   "metadata": {},
   "outputs": [],
   "source": [
    "# do this to get rid of some of the bad dives. \n",
    "# We will however have to manually remove a few dives that are not picked by this. \n",
    "ctd_659['oxygen_QC']  = gt.cleaning.horizontal_diff_outliers(ctd_659.dives, ctd_659.ctd_pressure, ctd_659.oxygen, \n",
    "                                          multiplier=1.5, depth_threshold=400, mask_frac=0.1)"
   ]
  },
  {
   "cell_type": "code",
   "execution_count": 13,
   "id": "aac2cc92",
   "metadata": {},
   "outputs": [],
   "source": [
    "ctd_659['sigma0_QC'] = gsw.sigma0(ctd_659.SA_QC, ctd_659.CT_QC)\n",
    "ctd_659['sigma0_QC'].attrs['standard_name'] = 'Potential Density Anomaly'\n",
    "ctd_659['sigma0_QC'].attrs['units'] = 'kg/m^3'\n",
    "ctd_659['sigma0_QC'].attrs['comment'] = 'Calculated using GSW'"
   ]
  },
  {
   "cell_type": "markdown",
   "id": "a5d09e1e",
   "metadata": {},
   "source": [
    "### Sort the data \n",
    "Let's sort the variables based on density. \"Manually finish the overturn\".\n",
    "We will sort the density and move the corresponding T and S with it. "
   ]
  },
  {
   "cell_type": "code",
   "execution_count": 14,
   "id": "f9279541",
   "metadata": {},
   "outputs": [],
   "source": [
    "grp = ctd_659.groupby('dives')\n",
    "\n",
    "ds_dives = {}\n",
    "ds_dives_nonan = {}\n",
    "ds_dives_sorted = {}\n",
    "\n",
    "dim ='ctd_data_point'\n",
    "\n",
    "for k, i in grp.groups.items():\n",
    "    # extract each dive and sort in depth\n",
    "    ds_dives[k] = ctd_659.isel(**{dim: i}).sortby('ctd_depth') \n",
    "    # remove nans\n",
    "    ds_dives_nonan[k] = ds_dives[k].where(~np.isnan(ds_dives[k].SA_QC) & ~np.isnan(ds_dives[k].CT_QC), drop=True)\n",
    "    # sort by density\n",
    "    # note that this has also sorted some variables that we are not looking to be sorted.\n",
    "    ds_dives_sorted[k] = ds_dives_nonan[k].sortby('sigma0_QC')\n",
    "    "
   ]
  },
  {
   "cell_type": "markdown",
   "id": "c19cf200",
   "metadata": {},
   "source": [
    "### Binning the data\n",
    "\n",
    "Since every single glider profile is on a slightly different grid we grid all the data to a uniform grid in depth/pressure."
   ]
  },
  {
   "cell_type": "code",
   "execution_count": 15,
   "id": "966ac04c",
   "metadata": {},
   "outputs": [],
   "source": [
    "# bin the regular data\n",
    "pres_bins = np.arange(0,1001,4)"
   ]
  },
  {
   "cell_type": "code",
   "execution_count": 16,
   "id": "347ee784",
   "metadata": {},
   "outputs": [],
   "source": [
    "# bin the sorted data \n",
    "# For this we need to do these loops since we had split the data into individual dives. \n",
    "k=2. # this number is arbitrary as we will drop this dive later, it is only used to create the right datashape\n",
    "dens_sorted_gridded = gt.grid_data(ds_dives_nonan[k].dives, ds_dives_nonan[k].ctd_pressure, ds_dives_sorted[k].sigma0_QC, \n",
    "                           bins = pres_bins, verbose=False, interp_lim=0)\n",
    "temp_sorted_gridded = gt.grid_data(ds_dives_nonan[k].dives, ds_dives_nonan[k].ctd_pressure, ds_dives_sorted[k].CT_QC, \n",
    "                           bins = pres_bins, verbose=False, interp_lim=0)\n",
    "salt_sorted_gridded = gt.grid_data(ds_dives_nonan[k].dives, ds_dives_nonan[k].ctd_pressure, ds_dives_sorted[k].SA_QC, \n",
    "                           bins = pres_bins, verbose=False, interp_lim=0)\n",
    "O2_sorted_gridded = gt.grid_data(ds_dives_nonan[k].dives, ds_dives_nonan[k].ctd_pressure, ds_dives_sorted[k].oxygen_QC, \n",
    "                           bins = pres_bins, verbose=False, interp_lim=0)\n",
    "\n",
    "time_sorted_gridded = gt.grid_data(ds_dives_nonan[k].dives, ds_dives_nonan[k].ctd_pressure, ds_dives_nonan[k].ctd_time, \n",
    "                           bins = pres_bins, verbose=False, interp_lim=0)\n",
    "lat_sorted_gridded = gt.grid_data(ds_dives_nonan[k].dives, ds_dives_nonan[k].ctd_pressure, ds_dives_nonan[k].latitude, \n",
    "                           bins = pres_bins, verbose=False, interp_lim=0)\n",
    "lon_sorted_gridded = gt.grid_data(ds_dives_nonan[k].dives, ds_dives_nonan[k].ctd_pressure, ds_dives_nonan[k].longitude, \n",
    "                           bins = pres_bins, verbose=False, interp_lim=0)\n"
   ]
  },
  {
   "cell_type": "code",
   "execution_count": 17,
   "id": "e88730a9",
   "metadata": {},
   "outputs": [],
   "source": [
    "# loop to do it over all dives \n",
    "\n",
    "for k in ds_dives_sorted.keys():\n",
    "    if len(ds_dives_nonan[k].ctd_data_point)>0:\n",
    "        temp = gt.grid_data(ds_dives_nonan[k].dives, ds_dives_nonan[k].ctd_pressure, ds_dives_sorted[k].sigma0_QC, \n",
    "                           bins = pres_bins, verbose=False, interp_lim=0);\n",
    "    \n",
    "        dens_sorted_gridded = xr.concat([dens_sorted_gridded, temp], dim='dives')\n",
    "        \n",
    "        temp = gt.grid_data(ds_dives_nonan[k].dives, ds_dives_nonan[k].ctd_pressure, ds_dives_sorted[k].CT_QC, \n",
    "                           bins = pres_bins, verbose=False, interp_lim=0);\n",
    "    \n",
    "        temp_sorted_gridded = xr.concat([temp_sorted_gridded, temp], dim='dives')\n",
    "        \n",
    "        temp = gt.grid_data(ds_dives_nonan[k].dives, ds_dives_nonan[k].ctd_pressure, ds_dives_sorted[k].SA_QC, \n",
    "                           bins = pres_bins, verbose=False, interp_lim=0);\n",
    "    \n",
    "        salt_sorted_gridded = xr.concat([salt_sorted_gridded, temp], dim='dives')\n",
    "        \n",
    "        temp = gt.grid_data(ds_dives_nonan[k].dives, ds_dives_nonan[k].ctd_pressure, ds_dives_sorted[k].oxygen_QC, \n",
    "                           bins = pres_bins, verbose=False, interp_lim=0);\n",
    "    \n",
    "        O2_sorted_gridded = xr.concat([O2_sorted_gridded, temp], dim='dives')\n",
    "        \n",
    "        temp = gt.grid_data(ds_dives_nonan[k].dives, ds_dives_nonan[k].ctd_pressure, ds_dives_nonan[k].ctd_time, \n",
    "                           bins = pres_bins, verbose=False, interp_lim=0);\n",
    "    \n",
    "        time_sorted_gridded = xr.concat([time_sorted_gridded, temp], dim='dives')\n",
    "        \n",
    "        temp = gt.grid_data(ds_dives_nonan[k].dives, ds_dives_nonan[k].ctd_pressure, ds_dives_nonan[k].latitude, \n",
    "                           bins = pres_bins, verbose=False, interp_lim=0);\n",
    "    \n",
    "        lat_sorted_gridded = xr.concat([lat_sorted_gridded, temp], dim='dives')\n",
    "        \n",
    "        temp = gt.grid_data(ds_dives_nonan[k].dives, ds_dives_nonan[k].ctd_pressure, ds_dives_nonan[k].longitude, \n",
    "                           bins = pres_bins, verbose=False, interp_lim=0);\n",
    "    \n",
    "        lon_sorted_gridded = xr.concat([lon_sorted_gridded, temp], dim='dives')\n",
    "        \n",
    "# Throw away the first column since it has been added twice. \n",
    "dens_sorted_gridded = dens_sorted_gridded[:,1:]\n",
    "temp_sorted_gridded = temp_sorted_gridded[:,1:]\n",
    "salt_sorted_gridded = salt_sorted_gridded[:,1:]\n",
    "O2_sorted_gridded   = O2_sorted_gridded[:,1:]\n",
    "time_sorted_gridded = time_sorted_gridded[:,1:]\n",
    "lat_sorted_gridded  = lat_sorted_gridded[:,1:]\n",
    "lon_sorted_gridded  = lon_sorted_gridded[:,1:]"
   ]
  },
  {
   "cell_type": "markdown",
   "id": "043643d9",
   "metadata": {},
   "source": [
    "#### Save the data"
   ]
  },
  {
   "cell_type": "code",
   "execution_count": 18,
   "id": "d9a70aae",
   "metadata": {},
   "outputs": [],
   "source": [
    "ds_659_grid = xr.merge([dens_sorted_gridded.rename('sigma0'), \n",
    "                        salt_sorted_gridded.rename('SA'), \n",
    "                        temp_sorted_gridded.rename('CT'),\n",
    "                        O2_sorted_gridded.rename('Oxygen'),\n",
    "                        time_sorted_gridded.rename('time'), \n",
    "                        lat_sorted_gridded.rename('latitude'), \n",
    "                        lon_sorted_gridded.rename('longitude')])"
   ]
  },
  {
   "cell_type": "code",
   "execution_count": 19,
   "id": "f46e7c71",
   "metadata": {},
   "outputs": [],
   "source": [
    "ds_659_grid.to_netcdf('../data/sg_659_4m_binned.nc')"
   ]
  },
  {
   "cell_type": "code",
   "execution_count": null,
   "id": "41870630",
   "metadata": {},
   "outputs": [],
   "source": []
  },
  {
   "cell_type": "code",
   "execution_count": null,
   "id": "71b292cc",
   "metadata": {},
   "outputs": [],
   "source": []
  },
  {
   "cell_type": "code",
   "execution_count": null,
   "id": "9715d163",
   "metadata": {},
   "outputs": [],
   "source": []
  },
  {
   "cell_type": "code",
   "execution_count": null,
   "id": "63c6a4b9",
   "metadata": {},
   "outputs": [],
   "source": []
  },
  {
   "cell_type": "markdown",
   "id": "1c2243c5",
   "metadata": {},
   "source": [
    "# The code below is what was used to check and reach the decisions that are made in the steps taken above. You might only want to run this if you want to explore how the choices were made. It is not needed to generate the data, and some cells are a repetition of the concise version above. \n",
    "\n",
    "**This was all done using the data processed by Geoff Shilling.**"
   ]
  },
  {
   "cell_type": "markdown",
   "id": "0bb71bff",
   "metadata": {},
   "source": [
    "## Prepare glider data for scientific analysis\n",
    "\n",
    "The glider data has undergone a few things before coming to this stage. \n",
    "\n",
    "\n",
    "a) For 660 a thermal lag correction has already taken place on the basestation.   \n",
    "b) 659 data, which had recovery problems, has been converted to scientific units.  \n",
    "c) A correction was done to the T and S of the gliders to match them with surrounding water ($0.045$ is added to T of sg659, and $-0.18$ to the S of sg660.).  \n",
    "d) A 2-sigma correction was applied to the T-S profiles. \n",
    "\n",
    "\n",
    "Further details in https://www.overleaf.com/8417818782tmwbmnqrfjry\n",
    "\n",
    "\n",
    "Seaglider QC manual: https://gliderfs2.coas.oregonstate.edu/sgliderweb/Seaglider_Quality_Control_Manual.html"
   ]
  },
  {
   "cell_type": "markdown",
   "id": "1ccc6c91",
   "metadata": {},
   "source": [
    "**One of the main goals is to make sure that the density field does not have any overturns. So smooth just enough for that and no more.**"
   ]
  },
  {
   "cell_type": "markdown",
   "id": "ee3971b1",
   "metadata": {},
   "source": [
    "### Some questions to think about when doing QC: \n",
    "- How do we know some data is bad? \n",
    "- One of the main concerns in the RTQCed data are overturns. How does one deal with them? Sort them?\n",
    "- What degree of further smoothing should be done to the RTQCed data? Median filters, bin averages etc? \n",
    "- Is there some objective way to determine that we are in a QC sweet spot? \n",
    "- What is the role for visual inspection? \n",
    "\n",
    "- What to do about the 659, which did not undergo RTQC and adjustments? \n",
    "- Do we try to apply the exact same procedures as would have been done by base station? \n"
   ]
  },
  {
   "cell_type": "code",
   "execution_count": null,
   "id": "da22ab02",
   "metadata": {},
   "outputs": [],
   "source": [
    "import numpy as np\n",
    "import xarray as xr\n",
    "\n",
    "import glidertools as gt\n",
    "from cmocean import cm as cmo\n",
    "\n",
    "import gsw\n",
    "\n",
    "import matplotlib.pyplot as plt"
   ]
  },
  {
   "cell_type": "code",
   "execution_count": null,
   "id": "44ba1ec0",
   "metadata": {},
   "outputs": [],
   "source": [
    "data_dir = '/Users/dhruvbalwada/OneDrive/sogos_data'\n"
   ]
  },
  {
   "cell_type": "markdown",
   "id": "e0f159d7",
   "metadata": {},
   "source": [
    "### ... \n",
    "We want to do: \n",
    "https://glidertools.readthedocs.io/en/latest/quality_control.html"
   ]
  },
  {
   "cell_type": "markdown",
   "id": "9921a38f",
   "metadata": {},
   "source": [
    "## For 659\n",
    "\n",
    "This glider underwent all the RTQC. Here we check if any more QC is needed. \n",
    "\n",
    "*Note*: The dive numbers are calculated differently in Lily's files, where glider dive number was assigned by loop iteration number. This does not impact anything later, since the time and other things are correct and per data point. "
   ]
  },
  {
   "cell_type": "markdown",
   "id": "cf362ae6",
   "metadata": {},
   "source": [
    "### Load data"
   ]
  },
  {
   "cell_type": "code",
   "execution_count": null,
   "id": "255df313",
   "metadata": {},
   "outputs": [],
   "source": [
    "# load nc files directly\n",
    "# To see the files\n",
    "nc_files_659 = data_dir + '/data/raw/gliders/SOGOS_Apr19/sg659/*.nc'\n",
    "#gt.load.seaglider_show_variables(nc_files_659)"
   ]
  },
  {
   "cell_type": "code",
   "execution_count": null,
   "id": "0d659630",
   "metadata": {},
   "outputs": [],
   "source": [
    "names = [\n",
    "    'ctd_depth',\n",
    "    'ctd_pressure',\n",
    "    'salinity',\n",
    "#    'salinity_qc',\n",
    "    'temperature',\n",
    "#    'temperature_qc'\n",
    "]\n",
    "# Don't need to get the qc flags since almost all the data point are fine for 660. "
   ]
  },
  {
   "cell_type": "code",
   "execution_count": null,
   "id": "9f5aada7",
   "metadata": {},
   "outputs": [],
   "source": [
    "ds_dict = gt.load.seaglider_basestation_netCDFs(\n",
    "    nc_files_659, names,\n",
    "    return_merged=False,\n",
    "    keep_global_attrs=False\n",
    ")"
   ]
  },
  {
   "cell_type": "code",
   "execution_count": null,
   "id": "35addd01",
   "metadata": {},
   "outputs": [],
   "source": [
    "ctd_659 = ds_dict['ctd_data_point']\n",
    "ctd_659 = ctd_659.where(ctd_659.longitude<40, drop=True) # throw out data points after we stopped sampling and were just trying to get back to be picked. "
   ]
  },
  {
   "cell_type": "code",
   "execution_count": null,
   "id": "bf39e276",
   "metadata": {},
   "outputs": [],
   "source": []
  },
  {
   "cell_type": "code",
   "execution_count": null,
   "id": "fd78aee7",
   "metadata": {},
   "outputs": [],
   "source": [
    "ctd_659"
   ]
  },
  {
   "cell_type": "code",
   "execution_count": null,
   "id": "afbd5768",
   "metadata": {},
   "outputs": [],
   "source": [
    "# Load O2 data (we need to use this because lily did some O2 calibration that I don't know how to do. )\n",
    "O2_659 = xr.load_dataset(data_dir + '/data/interim/gliders/sg659_20201010/O2_659.nc')"
   ]
  },
  {
   "cell_type": "code",
   "execution_count": null,
   "id": "6d230fb6",
   "metadata": {},
   "outputs": [],
   "source": [
    "def datetime2ytd(time):\n",
    "    \"\"\"\" Return time in YTD format from datetime format.\"\"\"\n",
    "    return  (time - np.datetime64('2019-01-01'))/np.timedelta64(1, 'D')"
   ]
  },
  {
   "cell_type": "code",
   "execution_count": null,
   "id": "c1eb45d9",
   "metadata": {},
   "outputs": [],
   "source": [
    "ctd_659['days'] = datetime2ytd(ctd_659.ctd_time_dt64)\n",
    "O2_659['days'] = datetime2ytd(O2_659.time)"
   ]
  },
  {
   "cell_type": "code",
   "execution_count": null,
   "id": "66b2f750",
   "metadata": {},
   "outputs": [],
   "source": [
    "SA = gsw.SA_from_SP(ctd_659.salinity, ctd_659.ctd_pressure, \n",
    "                   ctd_659.longitude, ctd_659.latitude)\n",
    "CT = gsw.CT_from_t(SA, ctd_659.temperature, ctd_659.ctd_pressure)\n",
    "\n",
    "\n",
    "ctd_659['SA'] = SA\n",
    "ctd_659['CT'] = CT\n",
    "ctd_659['sigma0'] = gsw.sigma0(SA, CT)"
   ]
  },
  {
   "cell_type": "code",
   "execution_count": null,
   "id": "d06d33b1",
   "metadata": {},
   "outputs": [],
   "source": []
  },
  {
   "cell_type": "code",
   "execution_count": null,
   "id": "8246f349",
   "metadata": {},
   "outputs": [],
   "source": []
  },
  {
   "cell_type": "code",
   "execution_count": null,
   "id": "4c9fae56",
   "metadata": {},
   "outputs": [],
   "source": [
    "gt.plot(ctd_659.dives, ctd_659.ctd_pressure, ctd_659.salinity, cmap = cmo.haline, robust=True)\n"
   ]
  },
  {
   "cell_type": "markdown",
   "id": "67578317",
   "metadata": {},
   "source": [
    "#### Figure out despiking choice"
   ]
  },
  {
   "cell_type": "code",
   "execution_count": null,
   "id": "4aed5c46",
   "metadata": {},
   "outputs": [],
   "source": [
    "lengths =np.array([3,5,7,10, 12, 15, 17, 20, 25, 30] )\n",
    "std_salt_spikes = 0.*lengths\n",
    "std_temp_spikes = 0.*lengths\n",
    "std_O2_spikes   = 0.*lengths\n",
    "\n",
    "despiked_salt = {}\n",
    "despiked_temp = {}\n",
    "despiked_O2   = {}\n",
    "\n",
    "for i, lens  in enumerate(lengths):\n",
    "    salt_base, salt_spike = gt.cleaning.despike(ctd_659.SA, window_size=lens, spike_method='median')    \n",
    "    temp_base, temp_spike = gt.cleaning.despike(ctd_659.CT, window_size=lens, spike_method='median')    \n",
    "    O2_base, O2_spike = gt.cleaning.despike(O2_659.oxygen, window_size=lens, spike_method='median')\n",
    "    \n",
    "    std_salt_spikes[i] = salt_spike.std().values\n",
    "    std_temp_spikes[i] = temp_spike.std().values    \n",
    "    std_O2_spikes[i] = O2_spike.std().values\n",
    "    \n",
    "    despiked_salt[lens] = {'base':salt_base, 'spikes':salt_spike}\n",
    "    despiked_temp[lens] = {'base':temp_base, 'spikes':temp_spike}\n",
    "    despiked_O2[lens] = {'base':O2_base, 'spikes':O2_spike}\n"
   ]
  },
  {
   "cell_type": "markdown",
   "id": "1be2733c",
   "metadata": {},
   "source": [
    "Window size of 10-15 seems to be the sweet spot after which the spike size does not change much. \n",
    "The increase in spike size for temperature at higher values is likely a result of the filter starting to tap into the real signal. "
   ]
  },
  {
   "cell_type": "code",
   "execution_count": null,
   "id": "9d8d0f8a",
   "metadata": {},
   "outputs": [],
   "source": [
    "plt.plot(lengths, std_salt_spikes, marker='o', label='SA')\n",
    "plt.plot(lengths, std_temp_spikes, marker='*', label='CT')\n",
    "plt.plot(lengths, std_O2_spikes, marker='o', label='Oxy')\n",
    "plt.yscale('log')\n",
    "plt.legend()\n",
    "plt.ylabel('Spike STD')\n",
    "plt.xlabel('Median window size')"
   ]
  },
  {
   "cell_type": "markdown",
   "id": "1b522518",
   "metadata": {},
   "source": [
    "### Look at the despiking "
   ]
  },
  {
   "cell_type": "code",
   "execution_count": null,
   "id": "09d80ab8",
   "metadata": {
    "jupyter": {
     "source_hidden": true
    }
   },
   "outputs": [],
   "source": [
    "import hvplot.xarray\n",
    "import panel as pn\n",
    "pn.extension()"
   ]
  },
  {
   "cell_type": "code",
   "execution_count": null,
   "id": "0fcac9e6",
   "metadata": {
    "jupyter": {
     "source_hidden": true
    }
   },
   "outputs": [],
   "source": [
    "def profile_filtered(var = 'SA', dive_num=300): \n",
    "    \n",
    "    plot = ctd_660[var].where(ctd_660.dives==dive_num, drop=True).hvplot.line(x=var, y='ctd_depth')\n",
    "    \n",
    "    \n",
    "    temp = ctd_660\n",
    "    for i in [5, 12]:\n",
    "        temp[var+'_QC'] = despiked_salt[i]['base']\n",
    "    \n",
    "        plot = plot*temp.where(ctd_660.dives==dive_num, drop=True).hvplot.line(x=var+'_QC', y='ctd_depth')\n",
    "    \n",
    "    plot.opts(width=300, height=500, invert_yaxis=True, show_legend=True)\n",
    "    return plot\n",
    "discrete_slider2 = pn.widgets.DiscreteSlider(name='Dive number',\n",
    "                                           options= list(np.arange(1,510,0.5)),\n",
    "                                           value=300)"
   ]
  },
  {
   "cell_type": "code",
   "execution_count": null,
   "id": "2602b480",
   "metadata": {
    "jupyter": {
     "source_hidden": true
    }
   },
   "outputs": [],
   "source": [
    "layout_salt_QC = pn.interact(profile_filtered, dive_num= discrete_slider2)\n",
    "layout_salt_QC"
   ]
  },
  {
   "cell_type": "markdown",
   "id": "79a7e47a",
   "metadata": {},
   "source": [
    "It is a bit arbitrary, but seems like a median filter around 12 does a good job. "
   ]
  },
  {
   "cell_type": "markdown",
   "id": "69f6253b",
   "metadata": {},
   "source": [
    "### Despiking using median filters"
   ]
  },
  {
   "cell_type": "code",
   "execution_count": null,
   "id": "462ec760",
   "metadata": {},
   "outputs": [],
   "source": [
    "filter_window = 15 # this choice made based on work above\n",
    "# Do some despiking using a median filter\n",
    "salt_iqr = gt.cleaning.outlier_bounds_iqr(ctd_659.SA, multiplier=1.5)\n",
    "salt_base, salt_spike = gt.cleaning.despike(salt_iqr, window_size=filter_window, spike_method='median') # this is to get rid of some odd profiles\n",
    "\n",
    "#temp_iqr = gt.cleaning.outlier_bounds_iqr(ctd_660.temperature, multiplier=2.5) # this is not a good idea for temp as it gets rid of a lot of the cold anomalies, which are real. \n",
    "temp_base, temp_spike = gt.cleaning.despike(ctd_659.CT, window_size=filter_window, spike_method='median')\n",
    "\n",
    "O2_iqr = gt.cleaning.outlier_bounds_iqr(O2_659.oxygen, multiplier=1.5)\n",
    "O2_base, O2_spike = gt.cleaning.despike(O2_iqr, window_size=filter_window, spike_method='median') # this is to get rid of some odd profiles"
   ]
  },
  {
   "cell_type": "code",
   "execution_count": null,
   "id": "e089d46b",
   "metadata": {},
   "outputs": [],
   "source": [
    "ctd_659['SA_QC'] = salt_base\n",
    "ctd_659['CT_QC'] = temp_base\n",
    "\n",
    "# We need to move O2 to ctd values\n",
    "O2_659['oxygen_QC'] = O2_base\n",
    "ctd_659['oxygen'] = xr.DataArray(np.interp(ctd_659.days, O2_659.days, O2_659.oxygen_QC),\n",
    "                                dims= ctd_659.dims,\n",
    "                                coords= ctd_659.coords).rename('oxygen')"
   ]
  },
  {
   "cell_type": "code",
   "execution_count": null,
   "id": "0d8550eb",
   "metadata": {},
   "outputs": [],
   "source": [
    "# do this to get rid of some of the bad dives. \n",
    "# We will however have to manually remove a few dives that are not picked by this. \n",
    "ctd_659['oxygen_QC']  = gt.cleaning.horizontal_diff_outliers(ctd_659.dives, ctd_659.ctd_pressure, ctd_659.oxygen, \n",
    "                                          multiplier=1.5, depth_threshold=400, mask_frac=0.1)"
   ]
  },
  {
   "cell_type": "code",
   "execution_count": null,
   "id": "93ee4287",
   "metadata": {},
   "outputs": [],
   "source": [
    "gt.plot(ctd_659.dives, ctd_659.ctd_pressure, ctd_659['oxygen_QC'], cmap = cmo.haline, robust=True)"
   ]
  },
  {
   "cell_type": "code",
   "execution_count": null,
   "id": "267e911a",
   "metadata": {},
   "outputs": [],
   "source": [
    "#SA = gsw.SA_from_SP(ctd_660.SA_QC, ctd_660.ctd_pressure, \n",
    "#                   ctd_660.longitude, ctd_660.latitude)\n",
    "#CT = gsw.CT_from_t(SA, ctd_660.CT_QC, ctd_660.ctd_pressure)\n",
    "ctd_659['sigma0_QC'] = gsw.sigma0(ctd_659.SA_QC, ctd_659.CT_QC)"
   ]
  },
  {
   "cell_type": "code",
   "execution_count": null,
   "id": "40f998c8",
   "metadata": {},
   "outputs": [],
   "source": [
    "ctd_659['sigma0_QC'].attrs['standard_name'] = 'Potential Density Anomaly'\n",
    "ctd_659['sigma0_QC'].attrs['units'] = 'kg/m^3'\n",
    "ctd_659['sigma0_QC'].attrs['comment'] = 'Calculated using GSW'"
   ]
  },
  {
   "cell_type": "code",
   "execution_count": null,
   "id": "8b38f146",
   "metadata": {
    "jupyter": {
     "source_hidden": true
    }
   },
   "outputs": [],
   "source": [
    "# hvplot setup to explore individual profiles\n",
    "\n",
    "def profile(var='SA', dive_num=300):\n",
    "    \n",
    "    dive_num = float(dive_num) \n",
    "    \n",
    "    plot = (ctd_660.where(ctd_660.dives==dive_num, drop=True).hvplot.line(x=var, y= 'ctd_depth')  *\n",
    "            ctd_660.where(ctd_660.dives==dive_num, drop=True).hvplot.line(x = var+ '_QC', y = 'ctd_depth',\n",
    "                                                                        line_width=1.) )\n",
    "    plot.opts(width=300, height=500, invert_yaxis=True )\n",
    "    if var=='CT':\n",
    "        plot.opts(xlim=(1.2, 3.5))\n",
    "    elif var=='SA': \n",
    "        plot.opts(xlim=(33.9, 35))\n",
    "    return plot\n",
    "\n",
    "discrete_slider = pn.widgets.DiscreteSlider(name='Dive number',\n",
    "                                           options= list(np.arange(1,510,0.5)),\n",
    "                                           value=300)\n",
    "\n",
    "layout_salt = pn.interact(profile, dive_num= discrete_slider)\n",
    "layout_temp = pn.interact(profile, var='CT', dive_num= discrete_slider)\n",
    "layout_dens = pn.interact(profile, var='sigma0', dive_num= discrete_slider)"
   ]
  },
  {
   "cell_type": "code",
   "execution_count": null,
   "id": "853a03c8",
   "metadata": {
    "jupyter": {
     "source_hidden": true
    }
   },
   "outputs": [],
   "source": [
    "pn.Column( pn.Row(layout_salt[1], layout_temp[1], layout_dens[1]), pn.Column('Profile explorer', layout_salt[0]))\n"
   ]
  },
  {
   "cell_type": "code",
   "execution_count": null,
   "id": "928635f0",
   "metadata": {},
   "outputs": [],
   "source": []
  },
  {
   "cell_type": "markdown",
   "id": "852c3b05",
   "metadata": {},
   "source": [
    "The above is great. However we choose to do a little more smoothing by binning to get a vertically gridded data set on a uniform grid. This will likely also help clean some of the overturns.  \n",
    "\n",
    "Realized that simply binning is not sufficient to get rid of all the overturns. We will use the approach of sorting the dataset based on density as well."
   ]
  },
  {
   "cell_type": "markdown",
   "id": "fb6372f0",
   "metadata": {},
   "source": [
    "### Sort the data \n",
    "Let's sort the variables based on density. \"Manually finish the overturn\".\n",
    "We will sort the density and move the corresponding T and S with it. "
   ]
  },
  {
   "cell_type": "code",
   "execution_count": null,
   "id": "bafec658",
   "metadata": {},
   "outputs": [],
   "source": [
    "grp = ctd_659.groupby('dives')"
   ]
  },
  {
   "cell_type": "code",
   "execution_count": null,
   "id": "f0bca5e8",
   "metadata": {},
   "outputs": [],
   "source": [
    "ds_dives = {}\n",
    "ds_dives_nonan = {}\n",
    "ds_dives_sorted = {}\n",
    "\n",
    "dim ='ctd_data_point'"
   ]
  },
  {
   "cell_type": "code",
   "execution_count": null,
   "id": "14a3e2a2",
   "metadata": {},
   "outputs": [],
   "source": [
    "for k, i in grp.groups.items():\n",
    "    # extract each dive and sort in depth\n",
    "    ds_dives[k] = ctd_659.isel(**{dim: i}).sortby('ctd_depth') \n",
    "    # remove nans\n",
    "    ds_dives_nonan[k] = ds_dives[k].where(~np.isnan(ds_dives[k].SA_QC) & ~np.isnan(ds_dives[k].CT_QC), drop=True)\n",
    "    # sort by density\n",
    "    # note that this has also sorted some variables that we are not looking to be sorted.\n",
    "    ds_dives_sorted[k] = ds_dives_nonan[k].sortby('sigma0_QC')\n",
    "    "
   ]
  },
  {
   "cell_type": "code",
   "execution_count": null,
   "id": "023a64ff",
   "metadata": {},
   "outputs": [],
   "source": [
    "ds_dives.keys()"
   ]
  },
  {
   "cell_type": "code",
   "execution_count": null,
   "id": "059e7a49",
   "metadata": {},
   "outputs": [],
   "source": [
    "bins = [-1,0,1]\n",
    "ds_dives_nonan[120].sigma0.diff(dim).plot.hist(bins = bins)\n",
    "ds_dives_nonan[120].sigma0_QC.diff(dim).plot.hist(bins = bins, alpha=0.5);\n",
    "ds_dives_sorted[120].sigma0_QC.diff(dim).plot.hist(bins = bins, alpha=0.5);"
   ]
  },
  {
   "cell_type": "markdown",
   "id": "cd967e4e",
   "metadata": {},
   "source": [
    "### Binning the data\n",
    "\n",
    "Since every single glider profile is on a slightly different grid we grid all the data to a uniform grid."
   ]
  },
  {
   "cell_type": "code",
   "execution_count": null,
   "id": "31e6324b",
   "metadata": {},
   "outputs": [],
   "source": [
    "# bin the regular data\n",
    "pres_bins = np.arange(0,1001,4)\n",
    "dens_gridded = gt.grid_data(ctd_659.dives, ctd_659.ctd_pressure, ctd_659.sigma0_QC, \n",
    "                           bins = pres_bins, interp_lim=0)\n",
    "temp_gridded = gt.grid_data(ctd_659.dives, ctd_659.ctd_pressure, ctd_659.CT_QC, \n",
    "                           bins = pres_bins, interp_lim=0)\n",
    "salt_gridded = gt.grid_data(ctd_659.dives, ctd_659.ctd_pressure, ctd_659.SA_QC, \n",
    "                           bins = pres_bins, interp_lim=0)\n",
    "O2_gridded = gt.grid_data(ctd_659.dives, ctd_659.ctd_pressure, ctd_659.oxygen_QC, \n",
    "                           bins = pres_bins, interp_lim=0)"
   ]
  },
  {
   "cell_type": "code",
   "execution_count": null,
   "id": "214d21ca",
   "metadata": {},
   "outputs": [],
   "source": [
    "# bin the sorted data \n",
    "# For this we need to do these loops since we had split the data into individual dives. \n",
    "k=2.\n",
    "dens_sorted_gridded = gt.grid_data(ds_dives_nonan[k].dives, ds_dives_nonan[k].ctd_pressure, ds_dives_sorted[k].sigma0_QC, \n",
    "                           bins = pres_bins, verbose=False, interp_lim=0)\n",
    "temp_sorted_gridded = gt.grid_data(ds_dives_nonan[k].dives, ds_dives_nonan[k].ctd_pressure, ds_dives_sorted[k].CT_QC, \n",
    "                           bins = pres_bins, verbose=False, interp_lim=0)\n",
    "salt_sorted_gridded = gt.grid_data(ds_dives_nonan[k].dives, ds_dives_nonan[k].ctd_pressure, ds_dives_sorted[k].SA_QC, \n",
    "                           bins = pres_bins, verbose=False, interp_lim=0)\n",
    "O2_sorted_gridded = gt.grid_data(ds_dives_nonan[k].dives, ds_dives_nonan[k].ctd_pressure, ds_dives_sorted[k].oxygen_QC, \n",
    "                           bins = pres_bins, verbose=False, interp_lim=0)\n",
    "\n",
    "time_sorted_gridded = gt.grid_data(ds_dives_nonan[k].dives, ds_dives_nonan[k].ctd_pressure, ds_dives_nonan[k].ctd_time, \n",
    "                           bins = pres_bins, verbose=False, interp_lim=0)\n",
    "lat_sorted_gridded = gt.grid_data(ds_dives_nonan[k].dives, ds_dives_nonan[k].ctd_pressure, ds_dives_nonan[k].latitude, \n",
    "                           bins = pres_bins, verbose=False, interp_lim=0)\n",
    "lon_sorted_gridded = gt.grid_data(ds_dives_nonan[k].dives, ds_dives_nonan[k].ctd_pressure, ds_dives_nonan[k].longitude, \n",
    "                           bins = pres_bins, verbose=False, interp_lim=0)"
   ]
  },
  {
   "cell_type": "code",
   "execution_count": null,
   "id": "08ebfcca",
   "metadata": {},
   "outputs": [],
   "source": [
    "# loop to do it over all dives \n",
    "\n",
    "for k in ds_dives_sorted.keys():\n",
    "    if len(ds_dives_nonan[k].ctd_data_point)>0:\n",
    "        temp = gt.grid_data(ds_dives_nonan[k].dives, ds_dives_nonan[k].ctd_pressure, ds_dives_sorted[k].sigma0_QC, \n",
    "                           bins = pres_bins, verbose=False, interp_lim=0);\n",
    "    \n",
    "        dens_sorted_gridded = xr.concat([dens_sorted_gridded, temp], dim='dives')\n",
    "        \n",
    "        temp = gt.grid_data(ds_dives_nonan[k].dives, ds_dives_nonan[k].ctd_pressure, ds_dives_sorted[k].CT_QC, \n",
    "                           bins = pres_bins, verbose=False, interp_lim=0);\n",
    "    \n",
    "        temp_sorted_gridded = xr.concat([temp_sorted_gridded, temp], dim='dives')\n",
    "        \n",
    "        temp = gt.grid_data(ds_dives_nonan[k].dives, ds_dives_nonan[k].ctd_pressure, ds_dives_sorted[k].SA_QC, \n",
    "                           bins = pres_bins, verbose=False, interp_lim=0);\n",
    "    \n",
    "        salt_sorted_gridded = xr.concat([salt_sorted_gridded, temp], dim='dives')\n",
    "        \n",
    "        temp = gt.grid_data(ds_dives_nonan[k].dives, ds_dives_nonan[k].ctd_pressure, ds_dives_sorted[k].oxygen_QC, \n",
    "                           bins = pres_bins, verbose=False, interp_lim=0);\n",
    "    \n",
    "        O2_sorted_gridded = xr.concat([O2_sorted_gridded, temp], dim='dives')\n",
    "        \n",
    "        temp = gt.grid_data(ds_dives_nonan[k].dives, ds_dives_nonan[k].ctd_pressure, ds_dives_nonan[k].ctd_time, \n",
    "                           bins = pres_bins, verbose=False, interp_lim=0);\n",
    "    \n",
    "        time_sorted_gridded = xr.concat([time_sorted_gridded, temp], dim='dives')\n",
    "        \n",
    "        temp = gt.grid_data(ds_dives_nonan[k].dives, ds_dives_nonan[k].ctd_pressure, ds_dives_nonan[k].latitude, \n",
    "                           bins = pres_bins, verbose=False, interp_lim=0);\n",
    "    \n",
    "        lat_sorted_gridded = xr.concat([lat_sorted_gridded, temp], dim='dives')\n",
    "        \n",
    "        temp = gt.grid_data(ds_dives_nonan[k].dives, ds_dives_nonan[k].ctd_pressure, ds_dives_nonan[k].longitude, \n",
    "                           bins = pres_bins, verbose=False, interp_lim=0);\n",
    "    \n",
    "        lon_sorted_gridded = xr.concat([lon_sorted_gridded, temp], dim='dives')\n",
    "        \n",
    "# Throw away the first column since it has been added twice. \n",
    "dens_sorted_gridded = dens_sorted_gridded[:,1:]\n",
    "temp_sorted_gridded = temp_sorted_gridded[:,1:]\n",
    "salt_sorted_gridded = salt_sorted_gridded[:,1:]\n",
    "O2_sorted_gridded   = O2_sorted_gridded[:,1:]\n",
    "time_sorted_gridded = time_sorted_gridded[:,1:]\n",
    "lat_sorted_gridded  = lat_sorted_gridded[:,1:]\n",
    "lon_sorted_gridded  = lon_sorted_gridded[:,1:]"
   ]
  },
  {
   "cell_type": "code",
   "execution_count": null,
   "id": "a2497d9b",
   "metadata": {},
   "outputs": [],
   "source": [
    "plt.figure(figsize=(14, 13))\n",
    "\n",
    "plt.subplot(411)\n",
    "salt_gridded.plot()\n",
    "plt.gca().invert_yaxis()\n",
    "\n",
    "plt.subplot(412)\n",
    "temp_gridded.plot()\n",
    "plt.gca().invert_yaxis()\n",
    "\n",
    "plt.subplot(413)\n",
    "dens_gridded.plot()\n",
    "plt.gca().invert_yaxis()\n",
    "\n",
    "plt.subplot(414)\n",
    "O2_gridded.plot()\n",
    "plt.gca().invert_yaxis()"
   ]
  },
  {
   "cell_type": "code",
   "execution_count": null,
   "id": "65d0176f",
   "metadata": {},
   "outputs": [],
   "source": [
    "plt.figure(figsize=(14, 13))\n",
    "\n",
    "plt.subplot(411)\n",
    "salt_sorted_gridded.plot()\n",
    "plt.gca().invert_yaxis()\n",
    "\n",
    "plt.subplot(412)\n",
    "temp_sorted_gridded.plot()\n",
    "plt.gca().invert_yaxis()\n",
    "\n",
    "plt.subplot(413)\n",
    "dens_sorted_gridded.plot()\n",
    "plt.gca().invert_yaxis()\n",
    "\n",
    "plt.subplot(414)\n",
    "O2_sorted_gridded.plot()\n",
    "plt.gca().invert_yaxis()"
   ]
  },
  {
   "cell_type": "code",
   "execution_count": null,
   "id": "b936537e",
   "metadata": {},
   "outputs": [],
   "source": [
    "plt.figure(figsize=(14, 10))\n",
    "\n",
    "plt.subplot(311)\n",
    "(salt_sorted_gridded - salt_gridded).plot(vmin=-0.01)\n",
    "plt.gca().invert_yaxis()\n",
    "\n",
    "plt.subplot(312)\n",
    "(temp_sorted_gridded - temp_gridded).plot(vmin=-0.1)\n",
    "plt.gca().invert_yaxis()\n",
    "\n",
    "plt.subplot(313)\n",
    "(dens_sorted_gridded - dens_gridded).plot(vmin=-0.01)\n",
    "plt.gca().invert_yaxis()"
   ]
  },
  {
   "cell_type": "code",
   "execution_count": null,
   "id": "68e88969",
   "metadata": {},
   "outputs": [],
   "source": [
    "bins = bins=np.linspace(-0.02, 0.1, 200)\n",
    "dens_gridded.diff('ctd_pressure').plot.hist(bins=bins, label='Unsorted')\n",
    "dens_sorted_gridded.diff('ctd_pressure').plot.hist(bins=bins, label='Sorted', alpha=0.7)\n",
    "plt.legend()\n",
    "plt.yscale('log')"
   ]
  },
  {
   "cell_type": "code",
   "execution_count": null,
   "id": "7aa5d5ab",
   "metadata": {},
   "outputs": [],
   "source": [
    "plt.figure(figsize=(14, 3.3))\n",
    "dens_gridded.diff('ctd_pressure').plot(vmin=-0.04)\n",
    "plt.gca().invert_yaxis()\n",
    "plt.grid()"
   ]
  },
  {
   "cell_type": "code",
   "execution_count": null,
   "id": "4796fb9c",
   "metadata": {},
   "outputs": [],
   "source": [
    "plt.figure(figsize=(12,4))\n",
    "ds_659_grid.Oxygen.plot(cmap=cmo.thermal)\n",
    "plt.gca().invert_yaxis()"
   ]
  },
  {
   "cell_type": "code",
   "execution_count": null,
   "id": "974211be",
   "metadata": {},
   "outputs": [],
   "source": [
    "# As expected sorting makes N2 purely positive. \n",
    "\n",
    "plt.figure(figsize=(14, 3.3))\n",
    "\n",
    "dens_sorted_gridded.diff('ctd_pressure').plot(vmax=0.06)\n",
    "plt.gca().invert_yaxis()\n",
    "plt.grid()"
   ]
  },
  {
   "cell_type": "code",
   "execution_count": null,
   "id": "fded0f40",
   "metadata": {},
   "outputs": [],
   "source": [
    "ds_659_grid = xr.merge([dens_sorted_gridded.rename('sigma0'), \n",
    "                        salt_sorted_gridded.rename('SA'), \n",
    "                        temp_sorted_gridded.rename('CT'),\n",
    "                        O2_sorted_gridded.rename('Oxygen'),\n",
    "                        time_sorted_gridded.rename('time'), \n",
    "                        lat_sorted_gridded.rename('latitude'), \n",
    "                        lon_sorted_gridded.rename('longitude')])"
   ]
  }
 ],
 "metadata": {
  "kernelspec": {
   "display_name": "Python [conda env:sogos]",
   "language": "python",
   "name": "conda-env-sogos-py"
  },
  "language_info": {
   "codemirror_mode": {
    "name": "ipython",
    "version": 3
   },
   "file_extension": ".py",
   "mimetype": "text/x-python",
   "name": "python",
   "nbconvert_exporter": "python",
   "pygments_lexer": "ipython3",
   "version": "3.7.10"
  }
 },
 "nbformat": 4,
 "nbformat_minor": 5
}
