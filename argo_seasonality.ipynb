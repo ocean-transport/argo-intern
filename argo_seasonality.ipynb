{
 "cells": [
  {
   "cell_type": "markdown",
   "metadata": {},
   "source": [
    "# argo_seasonality"
   ]
  },
  {
   "cell_type": "code",
   "execution_count": 1,
   "metadata": {},
   "outputs": [],
   "source": [
    "import xarray as xr\n",
    "import matplotlib.pyplot as plt\n",
    "import numpy\n",
    "import argopy\n",
    "import scipy.ndimage as filter\n",
    "import cartopy.crs as ccrs\n",
    "import cartopy\n",
    "import xrft\n",
    "import scipy\n",
    "import matplotlib"
   ]
  },
  {
   "cell_type": "code",
   "execution_count": 2,
   "metadata": {},
   "outputs": [],
   "source": [
    "import filt_funcs as ff\n",
    "import EKE_funcs as ef"
   ]
  },
  {
   "cell_type": "code",
   "execution_count": 3,
   "metadata": {},
   "outputs": [],
   "source": [
    "so_ds=xr.open_dataset(\"202206_lon:(25,45)_lat:(-60,-50).nc\")\n",
    "so = ff.get_ds_interp(so_ds,0,2000,4)"
   ]
  },
  {
   "cell_type": "code",
   "execution_count": 4,
   "metadata": {},
   "outputs": [
    {
     "data": {
      "text/plain": [
       "(array([32., 29., 30., 33., 35., 28., 29., 21., 22., 18., 25., 33.]),\n",
       " array([ 1.        ,  1.91666667,  2.83333333,  3.75      ,  4.66666667,\n",
       "         5.58333333,  6.5       ,  7.41666667,  8.33333333,  9.25      ,\n",
       "        10.16666667, 11.08333333, 12.        ]),\n",
       " <BarContainer object of 12 artists>)"
      ]
     },
     "execution_count": 4,
     "metadata": {},
     "output_type": "execute_result"
    },
    {
     "data": {
      "image/png": "[encoded data removed]",
      "text/plain": [
       "<Figure size 432x288 with 1 Axes>"
      ]
     },
     "metadata": {
      "needs_background": "light"
     },
     "output_type": "display_data"
    }
   ],
   "source": [
    "so.TIME.dt.month.plot.hist(bins=12)"
   ]
  },
  {
   "cell_type": "markdown",
   "metadata": {},
   "source": [
    "Want:\n",
    "\n",
    "- Group 1: months 1,2,3 (Jan,Feb,Mar)\n",
    "- Group 2: months 4,5,6 (Apr,May,Jun)\n",
    "- Group 3: months 7,8,9 (Jul,Aug,Sep)\n",
    "- Group 4: months 10,11,12 (Oct,Nov,Dec)"
   ]
  },
  {
   "cell_type": "code",
   "execution_count": 12,
   "metadata": {},
   "outputs": [],
   "source": [
    "so_1 = so.TIME.dt.month.where(so.TIME.dt.month>0).where(so.TIME.dt.month<4)\n",
    "so_2 = so.TIME.dt.month.where(so.TIME.dt.month>3).where(so.TIME.dt.month<7)\n",
    "so_3 = so.TIME.dt.month.where(so.TIME.dt.month>6).where(so.TIME.dt.month<10)\n",
    "so_4 = so.TIME.dt.month.where(so.TIME.dt.month>9).where(so.TIME.dt.month<13)"
   ]
  },
  {
   "cell_type": "code",
   "execution_count": null,
   "metadata": {},
   "outputs": [],
   "source": []
  }
 ],
 "metadata": {
  "kernelspec": {
   "display_name": "Python [conda env:argo]",
   "language": "python",
   "name": "conda-env-argo-py"
  },
  "language_info": {
   "codemirror_mode": {
    "name": "ipython",
    "version": 3
   },
   "file_extension": ".py",
   "mimetype": "text/x-python",
   "name": "python",
   "nbconvert_exporter": "python",
   "pygments_lexer": "ipython3",
   "version": "3.10.4"
  }
 },
 "nbformat": 4,
 "nbformat_minor": 2
}
